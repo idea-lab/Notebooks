{
 "cells": [
  {
   "cell_type": "markdown",
   "metadata": {},
   "source": [
    "# Variables, Datatypes, and Operations"
   ]
  },
  {
   "cell_type": "markdown",
   "metadata": {},
   "source": [
    "### Getting comfortable with jupyter"
   ]
  },
  {
   "cell_type": "markdown",
   "metadata": {},
   "source": [
    "Some basic Python console commands: using Python for simple mathematical expressions"
   ]
  },
  {
   "cell_type": "code",
   "execution_count": 1,
   "metadata": {},
   "outputs": [
    {
     "data": {
      "text/plain": [
       "10"
      ]
     },
     "execution_count": 1,
     "metadata": {},
     "output_type": "execute_result"
    }
   ],
   "source": [
    "#These are called comments, denoted by a #. Nothing on these lines will be run as code; they're just notes for you\n",
    "#Remember: To run a cell, ctrl-enter, shift-enter, or the play button.\n",
    "#Ctrl-enter will keep the current cell highlighted, while shift-enter will move down a cell\n",
    "10"
   ]
  },
  {
   "cell_type": "code",
   "execution_count": 2,
   "metadata": {},
   "outputs": [
    {
     "data": {
      "text/plain": [
       "4"
      ]
     },
     "execution_count": 2,
     "metadata": {},
     "output_type": "execute_result"
    }
   ],
   "source": [
    "2+2"
   ]
  },
  {
   "cell_type": "code",
   "execution_count": 3,
   "metadata": {},
   "outputs": [
    {
     "data": {
      "text/plain": [
       "0.6666666666666666"
      ]
     },
     "execution_count": 3,
     "metadata": {},
     "output_type": "execute_result"
    }
   ],
   "source": [
    "2/3"
   ]
  },
  {
   "cell_type": "code",
   "execution_count": 4,
   "metadata": {
    "collapsed": true
   },
   "outputs": [],
   "source": [
    "# Feel free to experiment with code here!\n"
   ]
  },
  {
   "cell_type": "markdown",
   "metadata": {},
   "source": [
    "## Variables"
   ]
  },
  {
   "cell_type": "markdown",
   "metadata": {},
   "source": [
    "### What is a variable?"
   ]
  },
  {
   "cell_type": "markdown",
   "metadata": {},
   "source": [
    "Unlike in algebra, a variable in Computer Science is anything that stores a value. Variables are usually modified by the programmer, and so there is nothing to \"solve for\". Try not to get too attached to the mathematical definition of variables as you move forward."
   ]
  },
  {
   "cell_type": "markdown",
   "metadata": {},
   "source": [
    "##### Advanced Explanation\n",
    "\n",
    "my_first_variable (see below) is a variable, a reserved spot in the computer memory that can be used to store some type of data. The amount of memory allocated per variable is decided by the interpreter, and in Python is defined by the type of data we assign to the variable. When we create a variable, the name of the variable, \"a\", goes on the left side of the equals sign and the data we want it to store goes on the right. If we were the Python interpreter, behind the scenes we would do the following: \n",
    "\n",
    "    1) Look at the right hand side of the =, get the user input, and observe that it is an integer.\n",
    "    2) Block off a certain chunk of memory for an integer.\n",
    "    3) Fill the data on the right-hand side of the = into the memory.\n",
    "    4) Create a variable \"a\" referencing this portion of the memory. \"a\" is called a reference.\n",
    "    \n",
    "In Python, the two basic types of data we can assign to variables are numbers and strings. Subtypes of numbers include integers, longs, and floats, while all strings are just assortments of characters. The comments above each variable definition below indicates what the respective datatype is used for. Note how in Python, you don't need to explicitly give the interpreter the type of data a certain variable points to. Rather, the interpreter assumes the datatype based on what's given."
   ]
  },
  {
   "cell_type": "markdown",
   "metadata": {},
   "source": [
    "### How do I make a variable?"
   ]
  },
  {
   "cell_type": "markdown",
   "metadata": {},
   "source": [
    "In Python, the equals sign (=) assigns a value to a variable. For example:"
   ]
  },
  {
   "cell_type": "code",
   "execution_count": null,
   "metadata": {
    "collapsed": true
   },
   "outputs": [],
   "source": [
    "#Run this cell! (Play button or ctrl+enter)\n",
    "#This code saves the value of my_first_variable as 10\n",
    "my_first_variable = 3.14"
   ]
  },
  {
   "cell_type": "markdown",
   "metadata": {},
   "source": [
    "Now, the program has saved a variable named 'x' which has a value of 3.14. Run the cell below to verify:"
   ]
  },
  {
   "cell_type": "code",
   "execution_count": null,
   "metadata": {
    "collapsed": true
   },
   "outputs": [],
   "source": [
    "my_first_variable"
   ]
  },
  {
   "cell_type": "markdown",
   "metadata": {},
   "source": [
    "If you try to get the value of a variable that hasn't been assigned one yet, you get an error (specifically that 'unassigned_variable' is not defined):"
   ]
  },
  {
   "cell_type": "code",
   "execution_count": null,
   "metadata": {
    "collapsed": true
   },
   "outputs": [],
   "source": [
    "unassigned_variable"
   ]
  },
  {
   "cell_type": "markdown",
   "metadata": {},
   "source": [
    "You can also reassign a value to a variable:"
   ]
  },
  {
   "cell_type": "code",
   "execution_count": null,
   "metadata": {
    "collapsed": true
   },
   "outputs": [],
   "source": [
    "my_first_variable = 20"
   ]
  },
  {
   "cell_type": "code",
   "execution_count": null,
   "metadata": {
    "collapsed": true
   },
   "outputs": [],
   "source": [
    "my_first_variable"
   ]
  },
  {
   "cell_type": "markdown",
   "metadata": {},
   "source": [
    "### Strings"
   ]
  },
  {
   "cell_type": "markdown",
   "metadata": {},
   "source": [
    "Variables can be more than just numbers as well!"
   ]
  },
  {
   "cell_type": "code",
   "execution_count": null,
   "metadata": {
    "collapsed": true
   },
   "outputs": [],
   "source": [
    "my_string = \"Hello World\""
   ]
  },
  {
   "cell_type": "markdown",
   "metadata": {},
   "source": [
    "my_string contains the string \"Hello World\". Numbers and strings are both what are called **datatypes**. There are many more datatypes in \n",
    "\n",
    "A string is essentially any piece of text. You mark text with quotes (single or double, just make sure they match). Run the next cell to see the value of my_string"
   ]
  },
  {
   "cell_type": "code",
   "execution_count": null,
   "metadata": {
    "collapsed": true
   },
   "outputs": [],
   "source": [
    "print(my_string)"
   ]
  },
  {
   "cell_type": "markdown",
   "metadata": {},
   "source": [
    "Note here that we use the print() function. Don't worry about exactly how it works for now, but it essentially just outputs whatever you put inside the parentheses. It's useful right now because you don't have to create another cell to output data.\n",
    "\n",
    "Note: print() can be used for all types of variables, not just strings. You also don't have to use print() to output strings in a jupyter notebook. "
   ]
  },
  {
   "cell_type": "markdown",
   "metadata": {},
   "source": [
    "Some more examples of variables and more specific variable types:"
   ]
  },
  {
   "cell_type": "code",
   "execution_count": 15,
   "metadata": {},
   "outputs": [
    {
     "name": "stdout",
     "output_type": "stream",
     "text": [
      "4444\n",
      "<class 'int'>\n"
     ]
    }
   ],
   "source": [
    "# integer - positive or negative whole numbers, these can be as large as you want\n",
    "d = 4444\n",
    "print(d)\n",
    "print (type(d))"
   ]
  },
  {
   "cell_type": "code",
   "execution_count": 16,
   "metadata": {},
   "outputs": [
    {
     "name": "stdout",
     "output_type": "stream",
     "text": [
      "4.444\n",
      "<class 'float'>\n"
     ]
    }
   ],
   "source": [
    "# float - numbers with decimal points\n",
    "f = 4.444\n",
    "print(f)\n",
    "print (type(f))"
   ]
  },
  {
   "cell_type": "code",
   "execution_count": 17,
   "metadata": {},
   "outputs": [
    {
     "name": "stdout",
     "output_type": "stream",
     "text": [
      "Hello IdeaLab!\n",
      "<class 'str'>\n"
     ]
    }
   ],
   "source": [
    "# string - an infinitely long chain of letters. Note the quotes surrounding the string definition.\n",
    "g = \"Hello IdeaLab!\"\n",
    "print(g)\n",
    "print (type(g))"
   ]
  },
  {
   "cell_type": "markdown",
   "metadata": {},
   "source": [
    "##### Advanced Strings #####\n",
    "In Python, certain characters have special meaning. Called \"escape characters,\" these consist of a backslash (`\\`) followed by a letter. \n",
    "For example, `\\n` creates a new line in a string. \n",
    "\n",
    "A full list can be found here: https://docs.python.org/3/reference/lexical_analysis.html (ctrl-f \"escape sequence\")"
   ]
  },
  {
   "cell_type": "code",
   "execution_count": 18,
   "metadata": {},
   "outputs": [
    {
     "name": "stdout",
     "output_type": "stream",
     "text": [
      "Hello \n",
      " World\n"
     ]
    }
   ],
   "source": [
    "#example:\n",
    "print(\"Hello \\n World\")"
   ]
  },
  {
   "cell_type": "markdown",
   "metadata": {},
   "source": [
    "### Operations with Numbers"
   ]
  },
  {
   "cell_type": "markdown",
   "metadata": {},
   "source": [
    "With numbers, you can use all of the basic mathematical operations:"
   ]
  },
  {
   "cell_type": "code",
   "execution_count": 19,
   "metadata": {},
   "outputs": [
    {
     "name": "stdout",
     "output_type": "stream",
     "text": [
      "7\n",
      "3\n",
      "10\n",
      "2.5\n",
      "1\n",
      "25\n",
      "2\n"
     ]
    }
   ],
   "source": [
    "# the seven arithmetic operators for numbers: addition (+), subtraction (-), multiplication (*), regular division (/),\n",
    "# modulo (%), exponent (**), and floor division (//)\n",
    "\n",
    "#addition\n",
    "print(5 + 2)\n",
    "\n",
    "#subtraction\n",
    "print(5 - 2)\n",
    "\n",
    "#multiplication\n",
    "print(5 * 2)\n",
    "\n",
    "#division\n",
    "print (5 / 2)\n",
    "\n",
    "# modulo - returns the remainder when 5 is divided by 2\n",
    "print (5 % 2)\n",
    "\n",
    "# exponent - return 5 ^ 2\n",
    "print (5 ** 2)\n",
    "\n",
    "# floor division - unlike regular division, which returns a float (i.e. a decimal),\n",
    "# floor division cuts off everything after the decimal point\n",
    "\n",
    "print (5 // 2)"
   ]
  },
  {
   "cell_type": "markdown",
   "metadata": {},
   "source": [
    "You can also subsitute in variables:"
   ]
  },
  {
   "cell_type": "code",
   "execution_count": 20,
   "metadata": {},
   "outputs": [
    {
     "name": "stdout",
     "output_type": "stream",
     "text": [
      "100\n",
      "-31\n",
      "3.0\n",
      "4.146341463414634\n"
     ]
    }
   ],
   "source": [
    "var1 = 10\n",
    "var2 = 41\n",
    "var3 = 17\n",
    "\n",
    "#You can combine variables and constants\n",
    "print(var1 * 10)\n",
    "\n",
    "#You can use two variables together\n",
    "print(var1 - var2)\n",
    "\n",
    "#You can use more than two variables together (order of operations still applies)\n",
    "print((var1 + var2) / var3)\n",
    "\n",
    "#You can even combine multiple varibles with constants!\n",
    "print(var3 * 10 / var2)\n"
   ]
  },
  {
   "cell_type": "markdown",
   "metadata": {},
   "source": [
    "Note that the values of the variables themselves don't change. We can't use these results unless we store them in a variable. Let's take a look at the following code:"
   ]
  },
  {
   "cell_type": "code",
   "execution_count": 21,
   "metadata": {},
   "outputs": [
    {
     "name": "stdout",
     "output_type": "stream",
     "text": [
      "11\n"
     ]
    }
   ],
   "source": [
    "x = 10\n",
    "\n",
    "x = x + 1\n",
    "print(x)"
   ]
  },
  {
   "cell_type": "markdown",
   "metadata": {},
   "source": [
    "If `x = x + 1` was an algebraic equation, we would eliminate the `x`'s, then realize that 0 = 1 and promptly give up on the problem. However, in Computer Science, this increases the value of `x` by 1.\n",
    "\n",
    "**What's really happening here?**\n",
    "\n",
    "The single equals sign (aka the assignment operator) simply takes whatever value is on its right side, and shoves it into the variable on the left side. \n",
    "\n",
    "So let's look at the right side first: `x + 1`. \n",
    "\n",
    "Because we know that the value stored in `x` is `10` (we said it was), the right side evaluates to `10 + 1 = 11` \n",
    "\n",
    "Then, we take the 11 and save it as `x`. Now when we print `x`, it finds the stored value of 11 instead of 10."
   ]
  },
  {
   "cell_type": "markdown",
   "metadata": {},
   "source": [
    "Here are some more advanced operators stemming from the same concept:"
   ]
  },
  {
   "cell_type": "code",
   "execution_count": 22,
   "metadata": {},
   "outputs": [
    {
     "name": "stdout",
     "output_type": "stream",
     "text": [
      "15\n",
      "8\n",
      "16\n",
      "4.0\n",
      "1.0\n"
     ]
    }
   ],
   "source": [
    "f = 5\n",
    "# more advanced assignment operator. Equivalent to saying f = f OPERATION VALUE, where f is the previous value of f\n",
    "\n",
    "#equivalent to f = f + 10\n",
    "f += 10 #f = 5 + 10\n",
    "print(f) #15\n",
    "\n",
    "#equivalent to f = f - 7\n",
    "f -= 7 #f = 15 - 7\n",
    "print(f) #8\n",
    "\n",
    "#equivalent to f = f * 10\n",
    "f *= 2 # f = 8 * 2\n",
    "print(f) #16\n",
    "\n",
    "#equivalent to f = f / 10\n",
    "f /= 4 # f = 16 / 4\n",
    "print(f) #4\n",
    "\n",
    "#equivalent to f = f % 3\n",
    "f %= 3 # f = 4 % 3\n",
    "print (f) #1"
   ]
  },
  {
   "cell_type": "markdown",
   "metadata": {},
   "source": [
    "\n",
    "Of course, you can throw in some additional variables here as well."
   ]
  },
  {
   "cell_type": "markdown",
   "metadata": {},
   "source": [
    "### Operations with Strings"
   ]
  },
  {
   "cell_type": "markdown",
   "metadata": {},
   "source": [
    "Similar operators exist for modifying strings. Some of the most useful operators include string splicing for accessing parts of a string, concatenation, repetition, and assignment for updating strings."
   ]
  },
  {
   "cell_type": "code",
   "execution_count": 23,
   "metadata": {},
   "outputs": [
    {
     "name": "stdout",
     "output_type": "stream",
     "text": [
      "sample\n",
      "e string\n",
      "sample string number two\n",
      "sample stringsample string\n"
     ]
    }
   ],
   "source": [
    "# String splicing allows us to take a section of a string. \n",
    "# To splice, put [a:b] after a string, where a and b are the indices (positions) of the start and end of the substring. \n",
    "# The start index is inclusive, while the end index is exclusive\n",
    "# Note that indices indicate the characters in a string, with the first character being the 0th index\n",
    "# For example:\n",
    "# Characters: H e l l o \n",
    "# Index:      0 1 2 3 4\n",
    "\n",
    "\n",
    "s = \"sample string\"\n",
    "print (s[0:6])  \n",
    "\n",
    "print(s[5:]) # if a or b is left out, the substring begins or ends from the first or last character, respectively\n",
    "\n",
    "# concatenate (connect) two strings together\n",
    "print (s + \" number two\") #spaces are important characters too!\n",
    "\n",
    "# repeat the same string multiple times\n",
    "print (s * 2)"
   ]
  },
  {
   "cell_type": "markdown",
   "metadata": {},
   "source": [
    "##### Advanced Operations\n",
    "One programming-specific operation is called type casting, in which we take a variable of one datatype and convert it to another."
   ]
  },
  {
   "cell_type": "code",
   "execution_count": null,
   "metadata": {
    "collapsed": true
   },
   "outputs": [],
   "source": [
    "d = 50\n",
    "\n",
    "# convert from int to str\n",
    "d = str(d)\n",
    "print(d) # appears the same, but...\n",
    "print (type(d))\n",
    "\n",
    "\n",
    "f = 5.4\n",
    "# convert from float to int. Try printing it. Note how f changes. Why?\n",
    "f = int(f)\n",
    "print(f)\n",
    "print (type(f))"
   ]
  },
  {
   "cell_type": "markdown",
   "metadata": {},
   "source": [
    "##### Advanced String Slicing"
   ]
  },
  {
   "cell_type": "markdown",
   "metadata": {},
   "source": [
    "Slices also can have a third value. This value determines how many characters to skip when selecting from the string."
   ]
  },
  {
   "cell_type": "code",
   "execution_count": null,
   "metadata": {
    "collapsed": true
   },
   "outputs": [],
   "source": [
    "# Example\n",
    "str1 = \"I really like Python\"\n",
    "print(str1[0:10:2]) #gets every other character between indices 0 and 10\n",
    "\n",
    "print(str1[15:3:-2]) #a negative third value means you traverse in the opposite direction \n",
    "# so your first value should be greater than your second\n",
    "\n",
    "print(str1[::2]) # you can also completely drop the first and second values if you simply want to go through the entire string"
   ]
  },
  {
   "cell_type": "markdown",
   "metadata": {},
   "source": [
    "## Example: Pythagorean Theorem"
   ]
  },
  {
   "cell_type": "markdown",
   "metadata": {},
   "source": [
    "Let's walk through how to programmatically solve the Pythagorean Theorem"
   ]
  },
  {
   "cell_type": "markdown",
   "metadata": {},
   "source": [
    "We first define two variables, `a` and `b`. Fill in whatever values you'd like for `a` and `b` (3 and 4 strongly recommended)"
   ]
  },
  {
   "cell_type": "code",
   "execution_count": null,
   "metadata": {
    "collapsed": true
   },
   "outputs": [],
   "source": [
    "a = ??\n",
    "b = ??"
   ]
  },
  {
   "cell_type": "markdown",
   "metadata": {},
   "source": [
    "The Pythagorean formula states that the sum of the squares of the two legs of a right triangle equals the square of the hypotenuse, or $a^2 + b^2 = c^2$, where $a$ and $b$ are the leg lengths and $c$ is the hypotenuse length. In this case, we solve for $c$ by first using the exponentiate operator to square both variables add them together. Then, we solve for $c$ by taking the square root by raising $a^2 + b^2$ to the $\\frac{1}{2}$ power."
   ]
  },
  {
   "cell_type": "code",
   "execution_count": null,
   "metadata": {
    "collapsed": true
   },
   "outputs": [],
   "source": [
    "c = (a**2 + b**2)**0.5\n",
    "print (\"The hypotenuse is: \"+str(c)) # using string concatenation"
   ]
  },
  {
   "cell_type": "markdown",
   "metadata": {},
   "source": [
    "Lets take a look at the triangle! Don't worry about what this code does just yet"
   ]
  },
  {
   "cell_type": "code",
   "execution_count": null,
   "metadata": {
    "collapsed": true
   },
   "outputs": [],
   "source": [
    "import matplotlib.pyplot as plt\n",
    "%matplotlib notebook\n",
    "plt.plot([0, a],[0, 0])\n",
    "plt.plot([0, 0],[b, 0])\n",
    "plt.plot([0, a],[b, 0])"
   ]
  },
  {
   "cell_type": "markdown",
   "metadata": {},
   "source": [
    "# Problem Set 1"
   ]
  },
  {
   "cell_type": "markdown",
   "metadata": {},
   "source": [
    "If you have any questions about problems or problem ideas, please contact anyone on the Dev Team through whatever communications service is convenient. \n",
    "\n",
    "_Some problems sourced from Beaverworks Summer Institute and KTBYTE Computer Science Academy_"
   ]
  },
  {
   "cell_type": "markdown",
   "metadata": {},
   "source": [
    "1.1\\. Create a variable `x`, set it equal to 7.3, and print it out"
   ]
  },
  {
   "cell_type": "code",
   "execution_count": null,
   "metadata": {
    "collapsed": true
   },
   "outputs": [],
   "source": [
    "# YOUR CODE HERE #"
   ]
  },
  {
   "cell_type": "markdown",
   "metadata": {},
   "source": [
    "1.2\\. Create a variable `name`, set it equal to your name, and print it out"
   ]
  },
  {
   "cell_type": "code",
   "execution_count": null,
   "metadata": {
    "collapsed": true
   },
   "outputs": [],
   "source": [
    "# YOUR CODE HERE #"
   ]
  },
  {
   "cell_type": "markdown",
   "metadata": {},
   "source": [
    "1.3\\. In 1,487 regular season hockey games Wayne Gretzky scored 2,857 points. Print his points per game.\n"
   ]
  },
  {
   "cell_type": "code",
   "execution_count": null,
   "metadata": {
    "collapsed": true
   },
   "outputs": [],
   "source": [
    "# YOUR CODE HERE #"
   ]
  },
  {
   "cell_type": "markdown",
   "metadata": {},
   "source": [
    "1.4\\. In 1781 regular season hockey games Jaromir Jagr has scored 1914 points. What is the difference between Jagr's points per game and Gretzky's points per game?"
   ]
  },
  {
   "cell_type": "code",
   "execution_count": null,
   "metadata": {
    "collapsed": true
   },
   "outputs": [],
   "source": [
    "# YOUR CODE HERE #"
   ]
  },
  {
   "cell_type": "markdown",
   "metadata": {},
   "source": [
    "1.5\\. Concatenate these two strings and assign them to a new variable called `concat`, then print it out."
   ]
  },
  {
   "cell_type": "code",
   "execution_count": null,
   "metadata": {
    "collapsed": true
   },
   "outputs": [],
   "source": [
    "# DON'T MODIFY #\n",
    "string1 = \"Foo\"\n",
    "string2 = \"Bar\"\n",
    "\n",
    "# YOUR CODE HERE #"
   ]
  },
  {
   "cell_type": "markdown",
   "metadata": {
    "collapsed": true
   },
   "source": [
    "1.6\\. Create a variable, x, with the string value \"I'm a string, hear me roar!\" assigned to it. Now print out the last 13 characters contained in x by using a slice."
   ]
  },
  {
   "cell_type": "code",
   "execution_count": null,
   "metadata": {
    "collapsed": true
   },
   "outputs": [],
   "source": [
    "# YOUR CODE HERE #"
   ]
  },
  {
   "cell_type": "markdown",
   "metadata": {},
   "source": [
    "1.7\\. Given variables `a`, `b`, and `c`, solve for x in a quadratic equation of the form $ax^2 + bx + c = 0$\n",
    "\n",
    "NOTE: The quadratic formula is $x = \\frac{-b \\pm \\sqrt{b^2 - 4ac}}{2a} $ (Only give one of the roots, don't bother with the plus or minus)\n"
   ]
  },
  {
   "cell_type": "code",
   "execution_count": null,
   "metadata": {
    "collapsed": true
   },
   "outputs": [],
   "source": [
    "# DON'T MODIFY #\n",
    "a = 1\n",
    "b = 2\n",
    "c = -15\n",
    "\n",
    "# YOUR CODE HERE #\n"
   ]
  },
  {
   "cell_type": "markdown",
   "metadata": {},
   "source": [
    "1.8\\. Based on the Pythagorean Theorem code from above, modify the objective so that instead of calculating c from a and b, calculate b given a and c as input. For example, if `a = 3` and `c = 5`, your code should output that `b = 4`."
   ]
  },
  {
   "cell_type": "code",
   "execution_count": null,
   "metadata": {
    "collapsed": true
   },
   "outputs": [],
   "source": [
    "#fill these in\n",
    "a = ?? \n",
    "c = ??\n",
    "\n",
    "# YOUR CODE HERE #:\n",
    "#define variable b\n",
    "\n",
    "print(\"b is: \"+str(b))"
   ]
  },
  {
   "cell_type": "markdown",
   "metadata": {},
   "source": [
    "1.9\\. Compare the Python assignment operators to the equals sign in math. For example, if you solved $ x = x^2 $ algebraically, you'd find that $x = 0, 1$ . On the other hand, if we wrote `x = x**2` in Python, what would it do?"
   ]
  },
  {
   "cell_type": "code",
   "execution_count": null,
   "metadata": {
    "collapsed": true
   },
   "outputs": [],
   "source": [
    "# ANSWER HERE #"
   ]
  },
  {
   "cell_type": "markdown",
   "metadata": {},
   "source": [
    "### Advanced Problem Set"
   ]
  },
  {
   "cell_type": "markdown",
   "metadata": {},
   "source": [
    "1.10\\. Print the variable `concat` that you created in Problem 1.6 ten times, each separated by a new line. This is possible to do in one line"
   ]
  },
  {
   "cell_type": "code",
   "execution_count": null,
   "metadata": {
    "collapsed": true
   },
   "outputs": [],
   "source": [
    "# YOUR CODE HERE #"
   ]
  },
  {
   "cell_type": "markdown",
   "metadata": {},
   "source": [
    "1.11\\. Print the reverse of a string using string slicing"
   ]
  },
  {
   "cell_type": "code",
   "execution_count": null,
   "metadata": {
    "collapsed": true
   },
   "outputs": [],
   "source": [
    "# DON'T MODIFY #\n",
    "string_to_reverse = \"Reverse me!\"\n",
    "# YOUR CODE HERE #"
   ]
  },
  {
   "cell_type": "markdown",
   "metadata": {},
   "source": [
    "1.12\\. Using the Pythagorean Theorem example above, what numbers, when inputted into the program, cause the code to stop working? What error does it give? Why does it give this error? Can you add something to the code to deal with this issue and make the code more robust?"
   ]
  },
  {
   "cell_type": "code",
   "execution_count": null,
   "metadata": {
    "collapsed": true
   },
   "outputs": [],
   "source": [
    "# YOUR CODE HERE #"
   ]
  },
  {
   "cell_type": "markdown",
   "metadata": {},
   "source": [
    "1.13\\. How do you think the Python int() typecast works? Try writing your own int() function and restrict it to converting from integers to strings. For example, when I write int(\"255\") using your typecast function, your program should output 255. Hint: consider breaking the string up and using ASCII codes."
   ]
  },
  {
   "cell_type": "code",
   "execution_count": null,
   "metadata": {
    "collapsed": true
   },
   "outputs": [],
   "source": [
    "# YOUR CODE HERE #"
   ]
  },
  {
   "cell_type": "markdown",
   "metadata": {},
   "source": [
    "# Project: Seconds to Time"
   ]
  },
  {
   "cell_type": "markdown",
   "metadata": {},
   "source": [
    "Write a program in the cell below that converts the number of seconds (represented by the variable seconds) into minutes. Print out the resulting number of minutes as an integer (whole number) and make sure to include the remaining number of seconds as well. For example, if seconds = 128, your program should print something like 2 minutes 8 seconds. Don't worry about formatting, just give the number of minutes and remaining seconds. No time will be over 60 minutes."
   ]
  },
  {
   "cell_type": "code",
   "execution_count": null,
   "metadata": {
    "collapsed": true
   },
   "outputs": [],
   "source": [
    "seconds = 29610\n",
    "\n",
    "#HINT: use modulo and floor division\n",
    "# YOUR CODE HERE #"
   ]
  },
  {
   "cell_type": "markdown",
   "metadata": {},
   "source": [
    "You can check your answers here: https://www.tools4noobs.com/online_tools/seconds_to_hh_mm_ss/"
   ]
  },
  {
   "cell_type": "markdown",
   "metadata": {},
   "source": [
    "## Seconds to Time: Advanced"
   ]
  },
  {
   "cell_type": "markdown",
   "metadata": {},
   "source": [
    "Write a program in the cell below that converts the number of seconds (represented by the variable seconds) into hours, minutes, and seconds. Print out the resulting number of hours as an integer, the number of minutes as an integer, and the number of remaining seconds. For example, if `seconds = 11085`, your program should print out 3 hours 4 minutes 45 seconds. "
   ]
  },
  {
   "cell_type": "code",
   "execution_count": null,
   "metadata": {
    "collapsed": true
   },
   "outputs": [],
   "source": [
    "seconds = 81724\n",
    "\n",
    "# YOUR CODE HERE #"
   ]
  }
 ],
 "metadata": {
  "kernelspec": {
   "display_name": "Python 3",
   "language": "python",
   "name": "python3"
  },
  "language_info": {
   "codemirror_mode": {
    "name": "ipython",
    "version": 3
   },
   "file_extension": ".py",
   "mimetype": "text/x-python",
   "name": "python",
   "nbconvert_exporter": "python",
   "pygments_lexer": "ipython3",
   "version": "3.6.1"
  }
 },
 "nbformat": 4,
 "nbformat_minor": 2
}
