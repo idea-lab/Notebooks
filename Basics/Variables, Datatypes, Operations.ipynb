{
 "cells": [
  {
   "cell_type": "markdown",
   "metadata": {},
   "source": [
    "# Variables, Datatypes, and Operations"
   ]
  },
  {
   "cell_type": "markdown",
   "metadata": {},
   "source": [
    "### Getting comfortable with jupyter"
   ]
  },
  {
   "cell_type": "markdown",
   "metadata": {},
   "source": [
    "Some basic Python console commands: using Python for simple mathematical expressions"
   ]
  },
  {
   "cell_type": "code",
   "execution_count": 1,
   "metadata": {},
   "outputs": [
    {
     "data": {
      "text/plain": [
       "10"
      ]
     },
     "execution_count": 1,
     "metadata": {},
     "output_type": "execute_result"
    }
   ],
   "source": [
    "#These are called comments, denoted by a #. Nothing on these lines will be run as code; they're just notes for you\n",
    "#Remember: To run a cell, ctrl-enter, shift-enter, or the play button.\n",
    "#Ctrl-enter will keep the current cell highlighted, while shift-enter will move down a cell\n",
    "10"
   ]
  },
  {
   "cell_type": "code",
   "execution_count": 2,
   "metadata": {},
   "outputs": [
    {
     "data": {
      "text/plain": [
       "4"
      ]
     },
     "execution_count": 2,
     "metadata": {},
     "output_type": "execute_result"
    }
   ],
   "source": [
    "2+2"
   ]
  },
  {
   "cell_type": "code",
   "execution_count": 3,
   "metadata": {},
   "outputs": [
    {
     "data": {
      "text/plain": [
       "0.6666666666666666"
      ]
     },
     "execution_count": 3,
     "metadata": {},
     "output_type": "execute_result"
    }
   ],
   "source": [
    "2/3"
   ]
  },
  {
   "cell_type": "code",
   "execution_count": 4,
   "metadata": {
    "collapsed": true
   },
   "outputs": [],
   "source": [
    "# Feel free to experiment with code here!\n"
   ]
  },
  {
   "cell_type": "markdown",
   "metadata": {},
   "source": [
    "## Variables"
   ]
  },
  {
   "cell_type": "markdown",
   "metadata": {},
   "source": [
    "### What is a variable?"
   ]
  },
  {
   "cell_type": "markdown",
   "metadata": {},
   "source": [
    "Unlike in algebra, a variable in Computer Science is anything that stores a value. Variables are usually modified by the programmer, and so there is nothing to \"solve for\". Try not to get too attached to the mathematical definition of variables as you move forward."
   ]
  },
  {
   "cell_type": "markdown",
   "metadata": {},
   "source": [
    "##### Advanced Explanation\n",
    "\n",
    "When programming a computer, there is one fundamental question that we must ask ourselves:\n",
    "    -How do I get a machine, which only understands basic logic, to understand me?\n",
    "    \n",
    "To answer this question, let's get our feet wet with a bit of code implementing the Pythagorean Theorem. In these examples, we'll be using Python 3, a programming language which allows us to write commands which the computer can understand. The basic python program has several lines of code in which we use to communicate with the computer. Since Python is \"interpreted,\" when the computer runs your code, it reads the lines in your program and runs each command as it gets to it. By using a programming language, the makers of the it have already told the computer how to use the basic logic. All we have to do is use the programming language to interact with the computer.\n",
    "\n",
    "We first import the math module. The math module has common mathematical functions, such as factorials, floors, powers, square roots, and trigonometric functions all for the programmer to utilize. Don't worry about how imports work right now. Just think of it like increasing the capability of what we as programmers can do. In this example, we'll be using the square root function in the math module to calculate the hypotenuse of a right triangle based on the Pythagorean Theorem. "
   ]
  },
  {
   "cell_type": "code",
   "execution_count": 4,
   "metadata": {
    "collapsed": true
   },
   "outputs": [],
   "source": [
    "import math"
   ]
  },
  {
   "cell_type": "markdown",
   "metadata": {},
   "source": [
    "We then define two variables, a and b. You can think of a and b as math variables: they can take on any value and we can use them for further operations. In this case, input() is a built-in python function to ask for user input, and int(input()) tells Python that whatever input it receives is actually an integer. This allows us to perform computations on a and b in the future."
   ]
  },
  {
   "cell_type": "code",
   "execution_count": 5,
   "metadata": {},
   "outputs": [
    {
     "name": "stdout",
     "output_type": "stream",
     "text": [
      "Give me the first side length and press enter: 3\n",
      "Give me the second side length and press enter: 4\n"
     ]
    }
   ],
   "source": [
    "a = int(input(\"Give me the first side length and press enter: \"))\n",
    "b = int(input(\"Give me the second side length and press enter: \"))"
   ]
  },
  {
   "cell_type": "markdown",
   "metadata": {},
   "source": [
    "The Pythagorean formula states that the sum of the squares of the two legs of a right triangle equals the square of the hypotenuse, or a^2+b^2=c^2, where a and b are the leg lengths and c is the hypotenuse length. In this case, we solve for c by first using the exponentiate operator to square both sides and then using the addition operator to take the sum. Subsequently, we take the square root by using the math.sqrt() function from the math module imported above."
   ]
  },
  {
   "cell_type": "code",
   "execution_count": 6,
   "metadata": {},
   "outputs": [
    {
     "name": "stdout",
     "output_type": "stream",
     "text": [
      "Computing hypotenuse length...\n",
      "The hypotenuse is:  5.0\n"
     ]
    }
   ],
   "source": [
    "print (\"Computing hypotenuse length...\")\n",
    "h = math.sqrt(a**2 + b**2)\n",
    "print (\"The hypotenuse is: \", h)"
   ]
  },
  {
   "cell_type": "markdown",
   "metadata": {},
   "source": [
    "Voila. If we run the cells and plug in 3 and 4 for a and b, we get 5. This satisifies the Pythagorean Theorem and is a correct solution to the problem! Imagine how many tedious homework problems we would be able to solve if we had the above code. And even so, this is only a small demonstration of the power of programming! Now, let's dig a bit deeper to see how the above code works."
   ]
  },
  {
   "cell_type": "markdown",
   "metadata": {},
   "source": [
    "a and b are variables, reserved spots in the computer memory that can be used to store some type of data. The amount of memory allocated per variable is decided by the interpreter, and in Python is defined by the type of data we assign to the variable. When we create a variable, the name of the variable, \"a\", goes on the left side of the equals sign and the data we want it to store goes on the right. If we were the Python interpreter, behind the scenes we would do the following: \n",
    "\n",
    "    1) Look at the right hand side of the =, get the user input, and observe that it is an integer.\n",
    "    2) Block off a certain chunk of memory for an integer.\n",
    "    3) Fill the data on the right-hand side of the = into the memory.\n",
    "    4) Create a variable \"a\" referencing this portion of the memory. \"a\" is called a reference.\n",
    "    \n",
    "In Python, the two basic types of data we can assign to variables are numbers and strings. Subtypes of numbers include integers, longs, and floats, while all strings are just assortments of characters. The comments above each variable definition below indicates what the respective datatype is used for. Note how in Python, you don't need to explicitly give the interpreter the type of data a certain variable points to. Rather, the interpreter assumes the datatype based on what's given."
   ]
  },
  {
   "cell_type": "code",
   "execution_count": 15,
   "metadata": {},
   "outputs": [
    {
     "name": "stdout",
     "output_type": "stream",
     "text": [
      "4444\n",
      "<class 'int'>\n"
     ]
    }
   ],
   "source": [
    "# integer - positive or negative whole numbers\n",
    "d = 4444\n",
    "print(d)\n",
    "print (type(d))"
   ]
  },
  {
   "cell_type": "code",
   "execution_count": 16,
   "metadata": {},
   "outputs": [
    {
     "name": "stdout",
     "output_type": "stream",
     "text": [
      "4.444\n",
      "<class 'float'>\n"
     ]
    }
   ],
   "source": [
    "# float - numbers with decimal points\n",
    "f = 4.444\n",
    "print(f)\n",
    "print (type(f))"
   ]
  },
  {
   "cell_type": "code",
   "execution_count": 17,
   "metadata": {},
   "outputs": [
    {
     "name": "stdout",
     "output_type": "stream",
     "text": [
      "Hello IdeaLab!\n",
      "<class 'str'>\n"
     ]
    }
   ],
   "source": [
    "# string - an infinitely long chain of letters. Note the quotes surrounding the string definition.\n",
    "g = \"Hello IdeaLab!\"\n",
    "print (type(g))"
   ]
  },
  {
   "cell_type": "markdown",
   "metadata": {},
   "source": [
    "Once we have a variable which references a particular position in memory, we can use it in subsequent operations. One such operation is called type casting, in which we take a variable of one datatype and convert it to another. In the Pythagorean Theoream example, we did this using the int() function, which took in a string and returned an integer. Similar functions include long(), float(), and str(), which can all be used to convert between datatypes."
   ]
  },
  {
   "cell_type": "code",
   "execution_count": 18,
   "metadata": {},
   "outputs": [
    {
     "name": "stdout",
     "output_type": "stream",
     "text": [
      "Hello \n",
      " World\n"
     ]
    }
   ],
   "source": [
    "# convert from int to str\n",
    "d = str(d)\n",
    "print (type(d))\n",
    "\n",
    "# convert from float to int. Try printing it. Note how f changes. Why?\n",
    "f = int(f)\n",
    "print (type(f))"
   ]
  },
  {
   "cell_type": "markdown",
   "metadata": {},
   "source": [
    "For numbers, other essential operators include arithmetic operators and assignment operators. As the names suggest, arithmetic operators enable one to perform arithmetic operators on numbers."
   ]
  },
  {
   "cell_type": "code",
   "execution_count": 19,
   "metadata": {},
   "outputs": [
    {
     "name": "stdout",
     "output_type": "stream",
     "text": [
      "7\n",
      "3\n",
      "10\n",
      "2.5\n",
      "1\n",
      "25\n",
      "2\n"
     ]
    }
   ],
   "source": [
    "# the seven arithmetic operators for numbers: addition (+), subtraction (-), multiplication (*), regular division (/),\n",
    "# modulo (%), exponent (**), and floor division (//)\n",
    "\n",
    "# modulo - returns the remainder when a is divided by b\n",
    "print (5 % 2)\n",
    "\n",
    "# exponent - return a ^ b\n",
    "print (5 ** 2)\n",
    "\n",
    "# floor division - unlike regular division, which returns a float, floor division truncates all decimal points\n",
    "print (5 / 2)\n",
    "print (5 // 2)"
   ]
  },
  {
   "cell_type": "markdown",
   "metadata": {},
   "source": [
    "While arithmetic operators perform operations on numbers, we can't use the result of these operations later without using assignment operators. These operators, such as = allow users to re-assign data to the variable's memory."
   ]
  },
  {
   "cell_type": "code",
   "execution_count": 20,
   "metadata": {},
   "outputs": [
    {
     "name": "stdout",
     "output_type": "stream",
     "text": [
      "100\n",
      "-31\n",
      "3.0\n",
      "4.146341463414634\n"
     ]
    }
   ],
   "source": [
    "# to make an assignment operator, just prepend an equals sign to each of the arithmetic operators above. The resulting arithmetic\n",
    "# is saved to the variable on the left side of the operator\n",
    "\n",
    "#You can combine variables and constants\n",
    "print(var1 * 10)\n",
    "\n",
    "#You can use two variables together\n",
    "print(var1 - var2)\n",
    "\n",
    "#You can use more than two variables together (order of operations still applies)\n",
    "print((var1 + var2) / var3)\n",
    "\n",
    "#You can even combine multiple varibles with constants!\n",
    "print(var3 * 10 / var2)\n"
   ]
  },
  {
   "cell_type": "markdown",
   "metadata": {},
   "source": [
    "Note that the values of the variables themselves don't change. We can't use these results unless we store them in a variable. Let's take a look at the following code:"
   ]
  },
  {
   "cell_type": "code",
   "execution_count": 21,
   "metadata": {},
   "outputs": [
    {
     "name": "stdout",
     "output_type": "stream",
     "text": [
      "11\n"
     ]
    }
   ],
   "source": [
    "x = 10\n",
    "\n",
    "x = x + 1\n",
    "print(x)"
   ]
  },
  {
   "cell_type": "markdown",
   "metadata": {},
   "source": [
    "If `x = x + 1` was an algebraic equation, we would eliminate the `x`'s, then realize that 0 = 1 and promptly give up on the problem. However, in Computer Science, this increases the value of `x` by 1.\n",
    "\n",
    "**What's really happening here?**\n",
    "\n",
    "The single equals sign (aka the assignment operator) simply takes whatever value is on its right side, and shoves it into the variable on the left side. \n",
    "\n",
    "So let's look at the right side first: `x + 1`. \n",
    "\n",
    "Because we know that the value stored in `x` is `10` (we said it was), the right side evaluates to `10 + 1 = 11` \n",
    "\n",
    "Then, we take the 11 and save it as `x`. Now when we print `x`, it finds the stored value of 11 instead of 10."
   ]
  },
  {
   "cell_type": "markdown",
   "metadata": {},
   "source": [
    "Here are some more advanced operators stemming from the same concept:"
   ]
  },
  {
   "cell_type": "code",
   "execution_count": 22,
   "metadata": {},
   "outputs": [
    {
     "name": "stdout",
     "output_type": "stream",
     "text": [
      "15\n",
      "8\n",
      "16\n",
      "4.0\n",
      "1.0\n"
     ]
    }
   ],
   "source": [
    "f = 5\n",
    "print (f)\n",
    "# more advanced assignment operator. Compute 5 % 2 and save result to f. Equivalent to saying f = f % 2, where f is the previous value of f\n",
    "f %= 2  \n",
    "print (f)"
   ]
  },
  {
   "cell_type": "markdown",
   "metadata": {},
   "source": [
    "Similar operators exist for modifying strings. Three of the most useful operators include string splicing for accessing parts of a string, and concatenation, repetition, and assignment for updating strings."
   ]
  },
  {
   "cell_type": "code",
   "execution_count": 23,
   "metadata": {},
   "outputs": [
    {
     "name": "stdout",
     "output_type": "stream",
     "text": [
      "sample\n",
      "e string\n",
      "sample string number two\n",
      "sample stringsample string\n"
     ]
    }
   ],
   "source": [
    "# string splicing allows us to take a substring of a string. Splicing involves using [a:b] after a string, where a and b\n",
    "# are the indices of the start and end of the substring, exclusive. Note that indices indicate the characters in a string, with\n",
    "# the first character being the 0th index\n",
    "s = \"sample string\"\n",
    "print (s[0:6])  # if a or b is left out, the substring begins or ends from the first or last character, respectively\n",
    "\n",
    "# concatenate two strings together\n",
    "print (s + \" number two\")\n",
    "\n",
    "# repeat same string multiple times\n",
    "print (s * 2)\n",
    "\n",
    "# update string, saving new string to memory, replacing the old string\n",
    "s = \"python is life\"\n",
    "print (s)"
   ]
  },
  {
   "cell_type": "markdown",
   "metadata": {},
   "source": [
    "##### Advanced String Slicing"
   ]
  },
  {
   "cell_type": "markdown",
   "metadata": {},
   "source": [
    "Slices also can have a third value. This value determines how many characters to skip when selecting from the string."
   ]
  },
  {
   "cell_type": "code",
   "execution_count": null,
   "metadata": {
    "collapsed": true
   },
   "outputs": [],
   "source": [
    "# Example\n",
    "str1 = \"I really like Python\"\n",
    "print(str1[0:10:2]) #gets every other character between indices 0 and 10\n",
    "\n",
    "print(str1[15:3:-2]) #a negative third value means you traverse in the opposite direction \n",
    "# so your first value should be greater than your second\n",
    "\n",
    "print(str1[::2]) # you can also completely drop the first and second values if you simply want to go through the entire string"
   ]
  },
  {
   "cell_type": "markdown",
   "metadata": {},
   "source": [
    "## Example: Pythagorean Theorem"
   ]
  },
  {
   "cell_type": "markdown",
   "metadata": {},
   "source": [
    "Let's walk through how to programmatically solve the Pythagorean Theorem"
   ]
  },
  {
   "cell_type": "markdown",
   "metadata": {},
   "source": [
    "We first define two variables, `a` and `b`. Fill in whatever values you'd like for `a` and `b` (3 and 4 strongly recommended)"
   ]
  },
  {
   "cell_type": "code",
   "execution_count": null,
   "metadata": {
    "collapsed": true
   },
   "outputs": [],
   "source": [
    "a = ??\n",
    "b = ??"
   ]
  },
  {
   "cell_type": "markdown",
   "metadata": {},
   "source": [
    "The Pythagorean formula states that the sum of the squares of the two legs of a right triangle equals the square of the hypotenuse, or $a^2 + b^2 = c^2$, where $a$ and $b$ are the leg lengths and $c$ is the hypotenuse length. In this case, we solve for $c$ by first using the exponentiate operator to square both variables add them together. Then, we solve for $c$ by taking the square root by raising $a^2 + b^2$ to the $\\frac{1}{2}$ power."
   ]
  },
  {
   "cell_type": "code",
   "execution_count": null,
   "metadata": {
    "collapsed": true
   },
   "outputs": [],
   "source": [
    "c = (a**2 + b**2)**0.5\n",
    "print (\"The hypotenuse is: \"+str(c)) # using string concatenation"
   ]
  },
  {
   "cell_type": "markdown",
   "metadata": {},
   "source": [
    "Lets take a look at the triangle! Don't worry about what this code does just yet"
   ]
  },
  {
   "cell_type": "code",
   "execution_count": null,
   "metadata": {
    "collapsed": true
   },
   "outputs": [],
   "source": [
    "import matplotlib.pyplot as plt\n",
    "%matplotlib notebook\n",
    "plt.plot([0, a],[0, 0])\n",
    "plt.plot([0, 0],[b, 0])\n",
    "plt.plot([0, a],[b, 0])"
   ]
  },
  {
   "cell_type": "markdown",
   "metadata": {},
   "source": [
    "# Problem Set 1"
   ]
  },
  {
   "cell_type": "markdown",
   "metadata": {},
   "source": [
    "If you have any questions about problems or problem ideas, please contact anyone on the Dev Team through whatever communications service is convenient. \n",
    "\n",
    "_Some problems sourced from Beaverworks Summer Institute and KTBYTE Computer Science Academy_"
   ]
  },
  {
   "cell_type": "markdown",
   "metadata": {},
   "source": [
    "1) Using the Pythagorean Theorem code from above, modify the objective so that instead of calculating c from a and b, calculate b given a and c as input. For example, if I inputted a = 3 and c = 5, your code would tell me that b = 4."
   ]
  },
  {
   "cell_type": "code",
   "execution_count": null,
   "metadata": {
    "collapsed": true
   },
   "outputs": [],
   "source": []
  },
  {
   "cell_type": "markdown",
   "metadata": {},
   "source": [
    "2) In the Pythagorean Theorem code above, we get values for x by using int(input(something)). Why is the outside int() needed? Would the code still work if we removed it? What would happen if we used float() instead?"
   ]
  },
  {
   "cell_type": "code",
   "execution_count": null,
   "metadata": {
    "collapsed": true
   },
   "outputs": [],
   "source": []
  },
  {
   "cell_type": "markdown",
   "metadata": {},
   "source": [
    "3) In the Pythagorean Theorem code above, we use print (\"The hypotenuse is: \", h). Based on the output of the code, what do you think the ',' implicitly does in Python. Can you replace the ',' by something else (hint: a string operator) and have it still work as intended?"
   ]
  },
  {
   "cell_type": "code",
   "execution_count": null,
   "metadata": {
    "collapsed": true
   },
   "outputs": [],
   "source": []
  },
  {
   "cell_type": "markdown",
   "metadata": {},
   "source": [
    "4) Contrast the Python assignment operators to the equals sign in math. For example, if f(x) = x^2 was a math equation, its domain would be restricted to [0,1]. In contrast, if we wrote x = x^2 in Python, what would it do? Can you explain the fundamental difference in a few words?"
   ]
  },
  {
   "cell_type": "code",
   "execution_count": null,
   "metadata": {
    "collapsed": true
   },
   "outputs": [],
   "source": []
  },
  {
   "cell_type": "markdown",
   "metadata": {},
   "source": [
    "5) Experiment with using negative numbers for a and b in string splicing. What do negative numbers seem to connotate?"
   ]
  },
  {
   "cell_type": "code",
   "execution_count": null,
   "metadata": {
    "collapsed": true
   },
   "outputs": [],
   "source": []
  },
  {
   "cell_type": "markdown",
   "metadata": {},
   "source": [
    "Advanced Problem Set"
   ]
  },
  {
   "cell_type": "markdown",
   "metadata": {},
   "source": [
    "1) Using the Pythagorean Theorem example above, what numbers, when inputted into the program, cause the code to stop working? What error does it give? Why does it give this error? Can you add something the code to deal with this issue and make the code more robust?"
   ]
  },
  {
   "cell_type": "code",
   "execution_count": null,
   "metadata": {
    "collapsed": true
   },
   "outputs": [],
   "source": []
  },
  {
   "cell_type": "markdown",
   "metadata": {},
   "source": [
    "2) How do you think the Python int() typecast works? Try writing your own int() function and restrict it to converting from integers to strings. For example, when I write int(\"255\") using your typecast function, your program should output 255. Hint: consider breaking the string up and using ASCII codes."
   ]
  },
  {
   "cell_type": "code",
   "execution_count": null,
   "metadata": {
    "collapsed": true
   },
   "outputs": [],
   "source": []
  },
  {
   "cell_type": "markdown",
   "metadata": {},
   "source": [
    "More ideas for advanced pset: escape expressions in strings (\\n), regular expressions in strings (%s), and using the built in python functions described at the bottom of here (https://www.tutorialspoint.com/python/python_strings.htm) and here (https://www.tutorialspoint.com/python/python_numbers.htm) to make interesting problems like finding the palindrome, padding, and truncating. Also, if you want to do something really cool then use bitwise operators."
   ]
  },
  {
   "cell_type": "markdown",
   "metadata": {},
   "source": [
    "Seconds to Time"
   ]
  },
  {
   "cell_type": "markdown",
   "metadata": {},
   "source": [
    "Write a program in the cell below that converts the number of seconds (represented by the variable seconds) into minutes. Print out the resulting number of minutes as an integer (whole number) and make sure to include the remaining number of seconds as well. For example, if seconds = 128, your program should print something like 2 minutes 8 seconds. Don't worry about formatting, just give the number of minutes and remaining seconds."
   ]
  },
  {
   "cell_type": "code",
   "execution_count": null,
   "metadata": {
    "collapsed": true
   },
   "outputs": [],
   "source": [
    "seconds = 29610"
   ]
  },
  {
   "cell_type": "markdown",
   "metadata": {},
   "source": [
    "#Seconds to Time Advanced"
   ]
  },
  {
   "cell_type": "markdown",
   "metadata": {},
   "source": [
    "Write a program in the cell below that converts the number of seconds (represented by the variable seconds) into hours. Print out the resulting number of hours as an integer, the number of minutes as an integer, and the number of remaining seconds. For example, if seconds = 11085, your program should print out 3 hours 4 minutes 45 seconds. "
   ]
  },
  {
   "cell_type": "code",
   "execution_count": 2,
   "metadata": {
    "collapsed": true
   },
   "outputs": [],
   "source": [
    "seconds = 81724"
   ]
  },
  {
   "cell_type": "code",
   "execution_count": null,
   "metadata": {
    "collapsed": true
   },
   "outputs": [],
   "source": []
  }
 ],
 "metadata": {
  "kernelspec": {
   "display_name": "Python 3",
   "language": "python",
   "name": "python3"
  },
  "language_info": {
   "codemirror_mode": {
    "name": "ipython",
    "version": 3
   },
   "file_extension": ".py",
   "mimetype": "text/x-python",
   "name": "python",
   "nbconvert_exporter": "python",
   "pygments_lexer": "ipython3",
   "version": "3.6.1"
  }
 },
 "nbformat": 4,
 "nbformat_minor": 2
}
