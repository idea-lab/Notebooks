{
 "cells": [
  {
   "cell_type": "markdown",
   "metadata": {},
   "source": [
    "In this tutorial, we'll be exploring the fundamental topics involved in computer programming, including memory storage and operations on various parts of the memory. We'll start by showing the impact and usage of these ideas and then move down into the more nitty gritty details.\n",
    "\n",
    "When programming a computer, there is one fundamental question that we must ask ourselves:\n",
    "    -How do I get a machine, which only understands basic logic, to understand me?\n",
    "    \n",
    "To answer this question, let's get our feet wet with a bit of code implementing the Pythagorean Theorem. In these examples, we'll be using Python 3, a programming language which allows us to write commands which the computer can understand. The basic python program has several lines of code in which we use to communicate with the computer. Since Python is \"interpreted,\" when the computer runs your code, it reads the lines in your program and runs each command as it gets to it. By using a programming language, the makers of the it have already told the computer how to use the basic logic. All we have to do is use the programming language to interact with the computer.\n",
    "\n",
    "We first import the math module. The math module has common mathematical functions, such as factorials, floors, powers, square roots, and trigonometric functions all for the programmer to utilize. Don't worry about how imports work right now. Just think of it like increasing the capability of what we as programmers can do. In this example, we'll be using the square root function in the math module to calculate the hypotenuse of a right triangle based on the Pythagorean Theorem. "
   ]
  },
  {
   "cell_type": "code",
   "execution_count": 4,
   "metadata": {
    "collapsed": true
   },
   "outputs": [],
   "source": [
    "import math"
   ]
  },
  {
   "cell_type": "markdown",
   "metadata": {},
   "source": [
    "We then define two variables, a and b. You can think of a and b as math variables: they can take on any value and we can use them for further operations. In this case, input() is a built-in python function to ask for user input, and int(input()) tells Python that whatever input it receives is actually an integer. This allows us to perform computations on a and b in the future."
   ]
  },
  {
   "cell_type": "code",
   "execution_count": 5,
   "metadata": {},
   "outputs": [
    {
     "name": "stdout",
     "output_type": "stream",
     "text": [
      "Give me the first side length and press enter: 3\n",
      "Give me the second side length and press enter: 4\n"
     ]
    }
   ],
   "source": [
    "a = int(input(\"Give me the first side length and press enter: \"))\n",
    "b = int(input(\"Give me the second side length and press enter: \"))"
   ]
  },
  {
   "cell_type": "markdown",
   "metadata": {},
   "source": [
    "The Pythagorean formula states that the sum of the squares of the two legs of a right triangle equals the square of the hypotenuse, or a^2+b^2=c^2, where a and b are the leg lengths and c is the hypotenuse length. In this case, we solve for c by first using the exponentiate operator to square both sides and then using the addition operator to take the sum. Subsequently, we take the square root by using the math.sqrt() function from the math module imported above."
   ]
  },
  {
   "cell_type": "code",
   "execution_count": 6,
   "metadata": {},
   "outputs": [
    {
     "name": "stdout",
     "output_type": "stream",
     "text": [
      "Computing hypotenuse length...\n",
      "The hypotenuse is:  5.0\n"
     ]
    }
   ],
   "source": [
    "print (\"Computing hypotenuse length...\")\n",
    "h = math.sqrt(a**2 + b**2)\n",
    "print (\"The hypotenuse is: \", h)"
   ]
  },
  {
   "cell_type": "markdown",
   "metadata": {},
   "source": [
    "Voila. If we run the cells and plug in 3 and 4 for a and b, we get 5. This satisifies the Pythagorean Theorem and is a correct solution to the problem! Imagine how many tedious homework problems we would be able to solve if we had the above code. And even so, this is only a small demonstration of the power of programming! Now, let's dig a bit deeper to see how the above code works."
   ]
  },
  {
   "cell_type": "markdown",
   "metadata": {},
   "source": [
    "a and b are variables, reserved spots in the computer memory that can be used to store some type of data. The amount of memory allocated per variable is decided by the interpreter, and in Python is defined by the type of data we assign to the variable. When we create a variable, the name of the variable, \"a\", goes on the left side of the equals sign and the data we want it to store goes on the right. If we were the Python interpreter, behind the scenes we would do the following: \n",
    "\n",
    "    1) Look at the right hand side of the =, get the user input, and observe that it is an integer.\n",
    "    2) Block off a certain chunk of memory for an integer.\n",
    "    3) Fill the data on the right-hand side of the = into the memory.\n",
    "    4) Create a variable \"a\" referencing this portion of the memory. \"a\" is called a reference.\n",
    "    \n",
    "In Python, the two basic types of data we can assign to variables are numbers and strings. Subtypes of numbers include integers, longs, and floats, while all strings are just assortments of characters. The comments above each variable definition below indicates what the respective datatype is used for. Note how in Python, you don't need to explicitly give the interpreter the type of data a certain variable points to. Rather, the interpreter assumes the datatype based on what's given."
   ]
  },
  {
   "cell_type": "code",
   "execution_count": null,
   "metadata": {
    "collapsed": true
   },
   "outputs": [],
   "source": [
    "# integer - positive or negative whole numbers\n",
    "d = 4444\n",
    "print (type(d))\n",
    "# long - infinitely long integers. Note that you need an L after the number.\n",
    "e = 444444444444444444444444444444444444444L\n",
    "print (type(e))\n",
    "# float - numbers with decimal points\n",
    "f = 4.444\n",
    "print (type(f))\n",
    "\n",
    "# string - an infinitely long chain of letters. Note the single or double quotes surrounding the string definition.\n",
    "g = \"Hello IdeaLab!\"\n",
    "print (type(g))"
   ]
  },
  {
   "cell_type": "markdown",
   "metadata": {},
   "source": [
    "Once we have a variable which references a particular position in memory, we can use it in subsequent operations. One such operation is called type casting, in which we take a variable of one datatype and convert it to another. In the Pythagorean Theoream example, we did this using the int() function, which took in a string and returned an integer. Similar functions include long(), float(), and str(), which can all be used to convert between datatypes."
   ]
  },
  {
   "cell_type": "code",
   "execution_count": null,
   "metadata": {
    "collapsed": true
   },
   "outputs": [],
   "source": [
    "# convert from int to str\n",
    "d = str(d)\n",
    "print (type(d))\n",
    "\n",
    "# convert from float to int. Try printing it. Note how f changes. Why?\n",
    "f = int(f)\n",
    "print (type(f))"
   ]
  },
  {
   "cell_type": "markdown",
   "metadata": {},
   "source": [
    "For numbers, other essential operators include arithmetic operators and assignment operators. As the names suggest, arithmetic operators enable one to perform arithmetic operators on numbers."
   ]
  },
  {
   "cell_type": "code",
   "execution_count": null,
   "metadata": {
    "collapsed": true
   },
   "outputs": [],
   "source": [
    "# the seven arithmetic operators for numbers: addition (+), subtraction (-), multiplication (*), regular division (/),\n",
    "# modulo (%), exponent (**), and floor division (//)\n",
    "\n",
    "# modulo - returns the remainder when a is divided by b\n",
    "print (5 % 2)\n",
    "\n",
    "# exponent - return a ^ b\n",
    "print (5 ** 2)\n",
    "\n",
    "# floor division - unlike regular division, which returns a float, floor division truncates all decimal points\n",
    "print (5 / 2)\n",
    "print (5 // 2)"
   ]
  },
  {
   "cell_type": "markdown",
   "metadata": {},
   "source": [
    "While arithmetic operators perform operations on numbers, we can't use the result of these operations later without using assignment operators. These operators, such as = allow users to re-assign data to the variable's memory."
   ]
  },
  {
   "cell_type": "code",
   "execution_count": null,
   "metadata": {
    "collapsed": true
   },
   "outputs": [],
   "source": [
    "# to make an assignment operator, just prepend an equals sign to each of the arithmetic operators above. The resulting arithmetic\n",
    "# is saved to the variable on the left side of the operator\n",
    "\n",
    "# regular = operator for basic variable assignment\n",
    "f = 5\n",
    "print (f)\n",
    "# more advanced assignment operator. Compute 5 % 2 and save result to f. Equivalent to saying f = f % 2, where f is the previous value of f\n",
    "f %= 2  \n",
    "print (f)"
   ]
  },
  {
   "cell_type": "markdown",
   "metadata": {},
   "source": [
    "Similar operators exist for modifying strings. Three of the most useful operators include string splicing for accessing parts of a string, and concatenation, repetition, and assignment for updating strings."
   ]
  },
  {
   "cell_type": "code",
   "execution_count": null,
   "metadata": {
    "collapsed": true
   },
   "outputs": [],
   "source": [
    "# string splicing allows us to take a substring of a string. Splicing involves using [a:b] after a string, where a and b\n",
    "# are the indices of the start and end of the substring, exclusive. Note that indices indicate the characters in a string, with\n",
    "# the first character being the 0th index\n",
    "s = \"sample string\"\n",
    "print (s[0:6])  # if a or b is left out, the substring begins or ends from the first or last character, respectively\n",
    "\n",
    "# concatenate two strings together\n",
    "print (s + \" number two\")\n",
    "\n",
    "# repeat same string multiple times\n",
    "print (s * 2)\n",
    "\n",
    "# update string, saving new string to memory, replacing the old string\n",
    "s = \"python is life\"\n",
    "print (s)"
   ]
  },
  {
   "cell_type": "markdown",
   "metadata": {},
   "source": [
    "Now let's go a bit deeper and talk about some something even more fundamental regarding storing data and performing operations:\n",
    "\n",
    "In the end, computers are essentially a complex system of electrical circuits. Thus, the basic state of a computer is either on or off, electricity flow or no electricity flow, 1 or 0. Multiple such states are combined in a computer's memory, and modern hard drives allow for tens of trillions of such 1's and 0's, also called bits, to be used by a central processor.\n",
    "\n",
    "Alan Turing, one of founding fathers of computer science, thought of a way to theoretically represent computers. In his work, he came up with an idea called a Turing Machine, a machine which operates on a giant tape of 1's and 0's. The computer in this case uses a read head to look at the memory, read it, and then perform some future operations on the memory. The operations it performs are based off of a table of commands and the only allowable operations are to move the reader head along the spool of memory and to modify the memory. Surprisingly, from these basic operations Turing proved the endless possibilities of a computer program (search Turing Machines on Wikipedia for more info). Today, nearly all programming languages are Turing Complete, meaning that they can do any tasks a Turing machine, and by extension, a computer can do.\n",
    "\n",
    "What this shows is the immense power of computer programming languages. They have to operate at the level of both basic bits in addition to being usable for large-scale industrial applications for things so complex as mapping and facial recognition. If you have extra time and enjoy learning this type of stuff, you should definitely try looking at Compilers and the Assembly programming language, low-level interfaces to go even closer to the fundamental hardware."
   ]
  },
  {
   "cell_type": "markdown",
   "metadata": {},
   "source": [
    "Problem Set"
   ]
  },
  {
   "cell_type": "markdown",
   "metadata": {},
   "source": [
    "1) Using the Pythagorean Theorem code from above, modify the objective so that instead of calculating c from a and b, calculate b given a and c as input. For example, if I inputted a = 3 and c = 5, your code would tell me that b = 4."
   ]
  },
  {
   "cell_type": "code",
   "execution_count": null,
   "metadata": {
    "collapsed": true
   },
   "outputs": [],
   "source": []
  },
  {
   "cell_type": "markdown",
   "metadata": {},
   "source": [
    "2) In the Pythagorean Theorem code above, we get values for x by using int(input(something)). Why is the outside int() needed? Would the code still work if we removed it? What would happen if we used float() instead?"
   ]
  },
  {
   "cell_type": "code",
   "execution_count": null,
   "metadata": {
    "collapsed": true
   },
   "outputs": [],
   "source": []
  },
  {
   "cell_type": "markdown",
   "metadata": {},
   "source": [
    "3) In the Pythagorean Theorem code above, we use print (\"The hypotenuse is: \", h). Based on the output of the code, what do you think the ',' implicitly does in Python. Can you replace the ',' by something else (hint: a string operator) and have it still work as intended?"
   ]
  },
  {
   "cell_type": "code",
   "execution_count": null,
   "metadata": {
    "collapsed": true
   },
   "outputs": [],
   "source": []
  },
  {
   "cell_type": "markdown",
   "metadata": {},
   "source": [
    "4) Contrast the Python assignment operators to the equals sign in math. For example, if f(x) = x^2 was a math equation, its domain would be restricted to [0,1]. In contrast, if we wrote x = x^2 in Python, what would it do? Can you explain the fundamental difference in a few words?"
   ]
  },
  {
   "cell_type": "code",
   "execution_count": null,
   "metadata": {
    "collapsed": true
   },
   "outputs": [],
   "source": []
  },
  {
   "cell_type": "markdown",
   "metadata": {},
   "source": [
    "5) Experiment with using negative numbers for a and b in string splicing. What do negative numbers seem to connotate?"
   ]
  },
  {
   "cell_type": "code",
   "execution_count": null,
   "metadata": {
    "collapsed": true
   },
   "outputs": [],
   "source": []
  },
  {
   "cell_type": "markdown",
   "metadata": {},
   "source": [
    "Advanced Problem Set"
   ]
  },
  {
   "cell_type": "markdown",
   "metadata": {},
   "source": [
    "1) Using the Pythagorean Theorem example above, what numbers, when inputted into the program, cause the code to stop working? What error does it give? Why does it give this error? Can you add something the code to deal with this issue and make the code more robust?"
   ]
  },
  {
   "cell_type": "code",
   "execution_count": null,
   "metadata": {
    "collapsed": true
   },
   "outputs": [],
   "source": []
  },
  {
   "cell_type": "markdown",
   "metadata": {},
   "source": [
    "2) How do you think the Python int() typecast works? Try writing your own int() function and restrict it to converting from integers to strings. For example, when I write int(\"255\") using your typecast function, your program should output 255. Hint: consider breaking the string up and using ASCII codes."
   ]
  },
  {
   "cell_type": "code",
   "execution_count": null,
   "metadata": {
    "collapsed": true
   },
   "outputs": [],
   "source": []
  },
  {
   "cell_type": "markdown",
   "metadata": {},
   "source": [
    "More ideas for advanced pset: escape expressions in strings (\\n), regular expressions in strings (%s), and using the built in python functions described at the bottom of here (https://www.tutorialspoint.com/python/python_strings.htm) and here (https://www.tutorialspoint.com/python/python_numbers.htm) to make interesting problems like finding the palindrome, padding, and truncating. Also, if you want to do something really cool then use bitwise operators."
   ]
  },
  {
   "cell_type": "markdown",
   "metadata": {},
   "source": [
    "#Seconds to Time"
   ]
  },
  {
   "cell_type": "markdown",
   "metadata": {},
   "source": [
    "Write a program in the cell below that converts the number of seconds (represented by the variable seconds) into minutes. Print out the resulting number of minutes as an integer (whole number) and make sure to include the remaining number of seconds as well. For example, if seconds = 128, your program should print something like 2 minutes 8 seconds. Don't worry about formatting, just give the number of minutes and remaining seconds."
   ]
  },
  {
   "cell_type": "code",
   "execution_count": null,
   "metadata": {
    "collapsed": true
   },
   "outputs": [],
   "source": [
    "seconds = 29610"
   ]
  },
  {
   "cell_type": "markdown",
   "metadata": {},
   "source": [
    "#Seconds to Time Advanced"
   ]
  },
  {
   "cell_type": "markdown",
   "metadata": {},
   "source": [
    "Write a program in the cell below that converts the number of seconds (represented by the variable seconds) into hours. Print out the resulting number of hours as an integer, the number of minutes as an integer, and the number of remaining seconds. For example, if seconds = 11085, your program should print out 3 hours 4 minutes 45 seconds. "
   ]
  },
  {
   "cell_type": "code",
   "execution_count": 2,
   "metadata": {
    "collapsed": true
   },
   "outputs": [],
   "source": [
    "seconds = 81724"
   ]
  },
  {
   "cell_type": "code",
   "execution_count": null,
   "metadata": {
    "collapsed": true
   },
   "outputs": [],
   "source": []
  }
 ],
 "metadata": {
  "kernelspec": {
   "display_name": "Python 3",
   "language": "python",
   "name": "python3"
  },
  "language_info": {
   "codemirror_mode": {
    "name": "ipython",
    "version": 3
   },
   "file_extension": ".py",
   "mimetype": "text/x-python",
   "name": "python",
   "nbconvert_exporter": "python",
   "pygments_lexer": "ipython3",
   "version": "3.6.1"
  }
 },
 "nbformat": 4,
 "nbformat_minor": 2
}
