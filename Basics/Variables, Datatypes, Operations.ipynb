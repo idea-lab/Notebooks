{
 "cells": [
  {
   "cell_type": "markdown",
   "metadata": {},
   "source": [
    "# Variables, Datatypes, and Operations"
   ]
  },
  {
   "cell_type": "markdown",
   "metadata": {},
   "source": [
    "### Getting comfortable with jupyter"
   ]
  },
  {
   "cell_type": "markdown",
   "metadata": {},
   "source": [
    "Some basic Python console commands: using Python for simple mathematical expressions"
   ]
  },
  {
   "cell_type": "code",
   "execution_count": 1,
   "metadata": {},
   "outputs": [
    {
     "data": {
      "text/plain": [
       "10"
      ]
     },
     "execution_count": 1,
     "metadata": {},
     "output_type": "execute_result"
    }
   ],
   "source": [
    "#These are called comments, denoted by a #. Nothing on these lines will be run as code; they're just notes for you\n",
    "#Remember: To run a cell, ctrl-enter, shift-enter, or the play button.\n",
    "#Ctrl-enter will keep the current cell highlighted, while shift-enter will move down a cell\n",
    "10"
   ]
  },
  {
   "cell_type": "code",
   "execution_count": 2,
   "metadata": {},
   "outputs": [
    {
     "data": {
      "text/plain": [
       "4"
      ]
     },
     "execution_count": 2,
     "metadata": {},
     "output_type": "execute_result"
    }
   ],
   "source": [
    "2+2"
   ]
  },
  {
   "cell_type": "code",
   "execution_count": 3,
   "metadata": {},
   "outputs": [
    {
     "data": {
      "text/plain": [
       "0.6666666666666666"
      ]
     },
     "execution_count": 3,
     "metadata": {},
     "output_type": "execute_result"
    }
   ],
   "source": [
    "2/3"
   ]
  },
  {
   "cell_type": "code",
   "execution_count": null,
   "metadata": {
    "collapsed": true
   },
   "outputs": [],
   "source": [
    "# Feel free to experiment with code here! (This is a comment; anything on this line will not be run)\n"
   ]
  },
  {
   "cell_type": "markdown",
   "metadata": {},
   "source": [
    "## Variables"
   ]
  },
  {
   "cell_type": "markdown",
   "metadata": {},
   "source": [
    "### What is a variable?"
   ]
  },
  {
   "cell_type": "markdown",
   "metadata": {},
   "source": [
    "Unlike in algebra, a variable in Computer Science is anything that stores a value. Variables are usually modified by the programmer, and so there is nothing to \"solve for\". Try not to get too attached to the mathematical definition of variables as you move forward."
   ]
  },
  {
   "cell_type": "markdown",
   "metadata": {},
   "source": [
    "##### Advanced Explanation\n",
    "\n",
    "my_first_variable (see below) is a variable, a reserved spot in the computer memory that can be used to store some type of data. The amount of memory allocated per variable is decided by the interpreter, and in Python is defined by the type of data we assign to the variable. When we create a variable, the name of the variable, \"a\", goes on the left side of the equals sign and the data we want it to store goes on the right. If we were the Python interpreter, behind the scenes we would do the following: \n",
    "\n",
    "    1) Look at the right hand side of the =, get the user input, and observe that it is an integer.\n",
    "    2) Block off a certain chunk of memory for an integer.\n",
    "    3) Fill the data on the right-hand side of the = into the memory.\n",
    "    4) Create a variable \"a\" referencing this portion of the memory. \"a\" is called a reference.\n",
    "    \n",
    "In Python, the two basic types of data we can assign to variables are numbers and strings. Subtypes of numbers include integers, longs, and floats, while all strings are just assortments of characters. The comments above each variable definition below indicates what the respective datatype is used for. Note how in Python, you don't need to explicitly give the interpreter the type of data a certain variable points to. Rather, the interpreter assumes the datatype based on what's given."
   ]
  },
  {
   "cell_type": "markdown",
   "metadata": {},
   "source": [
    "### How do I make a variable?"
   ]
  },
  {
   "cell_type": "markdown",
   "metadata": {},
   "source": [
    "In Python, the equals sign (=) assigns a value to a variable. For example:"
   ]
  },
  {
   "cell_type": "code",
   "execution_count": 4,
   "metadata": {
    "collapsed": true
   },
   "outputs": [],
   "source": [
    "#Run this cell! (Play button or ctrl+enter)\n",
    "#This code saves the value of my_first_variable as 10\n",
    "my_first_variable = 3.14"
   ]
  },
  {
   "cell_type": "markdown",
   "metadata": {},
   "source": [
    "Now, the program has saved a variable named 'x' which has a value of 3.14. Run the cell below to verify:"
   ]
  },
  {
   "cell_type": "code",
   "execution_count": 5,
   "metadata": {},
   "outputs": [
    {
     "data": {
      "text/plain": [
       "3.14"
      ]
     },
     "execution_count": 5,
     "metadata": {},
     "output_type": "execute_result"
    }
   ],
   "source": [
    "my_first_variable"
   ]
  },
  {
   "cell_type": "markdown",
   "metadata": {},
   "source": [
    "If you try to get the value of a variable that hasn't been assigned one yet, you get an error (specifically that 'unassigned_variable' is not defined):"
   ]
  },
  {
   "cell_type": "code",
   "execution_count": 6,
   "metadata": {},
   "outputs": [
    {
     "ename": "NameError",
     "evalue": "name 'unassigned_variable' is not defined",
     "output_type": "error",
     "traceback": [
      "\u001b[1;31m---------------------------------------------------------------------------\u001b[0m",
      "\u001b[1;31mNameError\u001b[0m                                 Traceback (most recent call last)",
      "\u001b[1;32m<ipython-input-6-4a5b0a897577>\u001b[0m in \u001b[0;36m<module>\u001b[1;34m()\u001b[0m\n\u001b[1;32m----> 1\u001b[1;33m \u001b[0munassigned_variable\u001b[0m\u001b[1;33m\u001b[0m\u001b[0m\n\u001b[0m",
      "\u001b[1;31mNameError\u001b[0m: name 'unassigned_variable' is not defined"
     ]
    }
   ],
   "source": [
    "unassigned_variable"
   ]
  },
  {
   "cell_type": "markdown",
   "metadata": {},
   "source": [
    "You can also reassign a value to a variable:"
   ]
  },
  {
   "cell_type": "code",
   "execution_count": 7,
   "metadata": {
    "collapsed": true
   },
   "outputs": [],
   "source": [
    "my_first_variable = 20"
   ]
  },
  {
   "cell_type": "code",
   "execution_count": 8,
   "metadata": {},
   "outputs": [
    {
     "data": {
      "text/plain": [
       "20"
      ]
     },
     "execution_count": 8,
     "metadata": {},
     "output_type": "execute_result"
    }
   ],
   "source": [
    "my_first_variable"
   ]
  },
  {
   "cell_type": "markdown",
   "metadata": {},
   "source": [
    "Variables can be more than just numbers as well!"
   ]
  },
  {
   "cell_type": "code",
   "execution_count": 9,
   "metadata": {
    "collapsed": true
   },
   "outputs": [],
   "source": [
    "my_string = \"Hello World\""
   ]
  },
  {
   "cell_type": "markdown",
   "metadata": {},
   "source": [
    "my_string contains the string \"Hello World\". Numbers and strings are both what are called **datatypes**. There are many more datatypes in \n",
    "\n",
    "A string is essentially any piece of text. You mark text with quotes (single or double, just make sure they match). Run the next cell to see the value of my_string"
   ]
  },
  {
   "cell_type": "code",
   "execution_count": 10,
   "metadata": {},
   "outputs": [
    {
     "name": "stdout",
     "output_type": "stream",
     "text": [
      "Hello World\n"
     ]
    }
   ],
   "source": [
    "print(my_string)"
   ]
  },
  {
   "cell_type": "markdown",
   "metadata": {},
   "source": [
    "Note here that we use the print() function. Don't worry about exactly how it works for now, but it essentially just outputs whatever you put inside the parentheses. It's useful right now because you don't have to create another cell to output data.\n",
    "\n",
    "Note: print() can be used for all types of variables, not just strings. You also don't have to use print() to output strings in a jupyter notebook. "
   ]
  },
  {
   "cell_type": "markdown",
   "metadata": {},
   "source": [
    "Some more examples of variables and more specific variable types:"
   ]
  },
  {
   "cell_type": "code",
   "execution_count": null,
   "metadata": {
    "collapsed": true
   },
   "outputs": [],
   "source": [
    "# integer - positive or negative whole numbers, these can be as large as you want\n",
    "d = 4444\n",
    "print(d)\n",
    "print (type(d))\n",
    "\n",
    "# float - numbers with decimal points\n",
    "f = 4.444\n",
    "print(f)\n",
    "print (type(f))\n",
    "\n",
    "# string - an infinitely long chain of letters. Note the single or double quotes surrounding the string definition.\n",
    "g = \"Hello IdeaLab!\"\n",
    "print(g)\n",
    "print (type(g))"
   ]
  },
  {
   "cell_type": "markdown",
   "metadata": {},
   "source": [
    "### Operations with Numbers"
   ]
  },
  {
   "cell_type": "markdown",
   "metadata": {},
   "source": [
    "With numbers, you can use all of the basic mathematical operations:"
   ]
  },
  {
   "cell_type": "code",

   "execution_count": null,
   "metadata": {
    "collapsed": true
   },
   "outputs": [],
   "source": [
    "# the seven arithmetic operators for numbers: addition (+), subtraction (-), multiplication (*), regular division (/),\n",
    "# modulo (%), exponent (**), and floor division (//)\n",
    "\n",
    "#addition\n",
    "print(5 + 2)\n",
    "\n",
    "#subtraction\n",
    "print(5 - 2)\n",
    "\n",
    "#multiplication\n",
    "print(5 * 2)\n",
    "\n",
    "#division\n",
    "print (5 / 2)\n",
    "\n",
    "# modulo - returns the remainder when 5 is divided by 2\n",
    "print (5 % 2)\n",
    "\n",
    "# exponent - return 5 ^ 2\n",
    "print (5 ** 2)\n",
    "\n",
    "# floor division - unlike regular division, which returns a float (i.e. a decimal),\n",
    "# floor division cuts off everything after the decimal point\n",
    "\n",
    "print (5 // 2)"
   ]
  },
  {
   "cell_type": "markdown",
   "metadata": {},
   "source": [
    "You can also subsitute in variables:"
   ]
  },
  {
   "cell_type": "code",
   "execution_count": null,
   "metadata": {
    "collapsed": true
   },
   "outputs": [],
   "source": [
    "var1 = 10\n",
    "var2 = 41\n",
    "var3 = 17\n",
    "\n",
    "#You can combine variables and constants\n",
    "print(var1 * 10)\n",
    "\n",
    "#You can use two variables together\n",
    "print(var1 - var2)\n",
    "\n",
    "#You can use more than two variables together (order of operations still applies)\n",
    "print((var1 + var2) / var3)\n",
    "\n",
    "#You can even combine multiple varibles with constants!\n",
    "print(var3 * 10 / var2)\n"
   ]
  },
  {
   "cell_type": "markdown",
   "metadata": {},
   "source": [
    "Note that the values of the variables themselves don't change. We can't use the result of these operations later without using assignment operators. Let's take a look at the following code:"
   ]
  },
  {
   "cell_type": "code",
   "execution_count": null,
   "metadata": {},
   "outputs": [],
   "source": [
    "x = 10\n",
    "\n",
    "x = x + 1\n",
    "print(x)"
   ]
  },
  {
   "cell_type": "markdown",
   "metadata": {},
   "source": [
    "If `x = x + 1` was an algebraic equation, we would eliminate the `x`'s, then realize that 0 = 1 and promptly give up on the problem. However, in Computer Science, this increases the value of `x` by 1.\n",
    "\n",
    "**What's really happening here?**\n",
    "\n",
    "The equals sign simply takes whatever value is on its right side, and shoves it into the variable on the left side. \n",
    "\n",
    "So let's look at the right side first: `x + 1`. \n",
    "\n",
    "Because we know that the value stored in `x` is `10` (we said it was), the right side evaluates to `10 + 1 = 11` \n",
    "\n",
    "Then, we take the 11 and save it as `x`. Now when we print `x`, it finds the stored value of 11 instead of 10."
   ]
  },
  {
   "cell_type": "markdown",
   "metadata": {},
   "source": [
    "Here are some more advanced operators stemming from the same concept:"
   ]
  },
  {
   "cell_type": "code",
   "execution_count": 15,
   "metadata": {},
   "outputs": [
    {
     "name": "stdout",
     "output_type": "stream",
     "text": [
      "15\n",
      "8\n",
      "16\n",
      "4.0\n",
      "1.0\n"
     ]
    }
   ],
   "source": [
    "f = 5\n",
    "# more advanced assignment operator. Equivalent to saying f = f OPERATION VALUE, where f is the previous value of f\n",
    "\n",
    "#equivalent to f = f + 10\n",
    "f += 10 #f = 5 + 10\n",
    "print(f) #15\n",
    "\n",
    "#equivalent to f = f - 7\n",
    "f -= 7 #f = 15 - 7\n",
    "print(f) #8\n",
    "\n",
    "#equivalent to f = f * 10\n",
    "f *= 2 # f = 8 * 2\n",
    "print(f) #16\n",
    "\n",
    "#equivalent to f = f / 10\n",
    "f /= 4 # f = 16 / 4\n",
    "print(f) #4\n",
    "\n",
    "#equivalent to f = f % 3\n",
    "f %= 3 # f = 4 % 3\n",
    "print (f) #1"
   ]
  },
  {
   "cell_type": "markdown",
   "metadata": {},
   "source": [
    "\n",
    "Of course, you can throw in some additional variables here as well."
   ]
  },
  {
   "cell_type": "markdown",
   "metadata": {},
   "source": [
    "### Operations with Strings"
   ]
  },
  {
   "cell_type": "markdown",
   "metadata": {},
   "source": [
    "Similar operators exist for modifying strings. Some of the most useful operators include string splicing for accessing parts of a string, concatenation, repetition, and assignment for updating strings."
   ]
  },
  {
   "cell_type": "code",
   "execution_count": null,
   "metadata": {
    "collapsed": true
   },
   "outputs": [],
   "source": [
    "# String splicing allows us to take a section of a string. \n",
    "# To splice, put [a:b] after a string, where a and b are the indices (positions) of the start and end of the substring. \n",
    "# The start index is inclusive, while the end index is exclusive\n",
    "# Note that indices indicate the characters in a string, with the first character being the 0th index\n",
    "# For example:\n",
    "# Characters: H e l l o \n",
    "# Index:      0 1 2 3 4\n",
    "\n",
    "\n",
    "s = \"sample string\"\n",
    "print (s[0:6])  \n",
    "\n",
    "print(s[5:]) # if a or b is left out, the substring begins or ends from the first or last character, respectively\n",
    "\n",
    "# concatenate (connect) two strings together\n",
    "print (s + \" number two\") #spaces are important characters too!\n",
    "\n",
    "# repeat same string multiple times\n",
    "print (s * 2)"
   ]
  },
  {
   "cell_type": "markdown",
   "metadata": {},
   "source": [
    "##### Advanced Operations\n",
    "One programming-specific operation is called type casting, in which we take a variable of one datatype and convert it to another."
   ]
  },
  {
   "cell_type": "code",
   "execution_count": 19,
   "metadata": {},
   "outputs": [
    {
     "name": "stdout",
     "output_type": "stream",
     "text": [
      "50\n",
      "<class 'str'>\n",
      "5\n",
      "<class 'int'>\n"
     ]
    }
   ],
   "source": [
    "d = 50\n",
    "\n",
    "# convert from int to str\n",
    "d = str(d)\n",
    "print(d) # appears the same, but...\n",
    "print (type(d))\n",
    "\n",
    "\n",
    "f = 5.4\n",
    "# convert from float to int. Try printing it. Note how f changes. Why?\n",
    "f = int(f)\n",
    "print(f)\n",
    "print (type(f))"
   ]
  },
  {
   "cell_type": "markdown",
   "metadata": {},
   "source": [
    "## Example: Pythagorean Theorem"
   ]
  },
  {
   "cell_type": "markdown",
   "metadata": {},
   "source": [
    "Let's walk through how to programmatically solve the Pythagorean Theorem"
   ]
  },
  {
   "cell_type": "markdown",
   "metadata": {},
   "source": [
    "We first import the math module. Imports essentially allow us to use code that we ourselves have not written (called libraries or modules). These usually must be installed onto the user's computer.\n",
    "\n",
    "`math` is one of Python's standard libraries, so it is available to all Python users. It has common mathematical functions, such as factorials, floors, powers, square roots, and trigonometric functions all for the us to utilize. \n",
    "\n",
    "In this example, we'll be using the square root function in the math module to calculate the hypotenuse of a right triangle based on the Pythagorean Theorem. "
   ]
  },
  {
   "cell_type": "code",
   "execution_count": null,
   "metadata": {
    "collapsed": true
   },
   "outputs": [],
   "source": [
    "import math"
   ]
  },
  {
   "cell_type": "markdown",
   "metadata": {},
   "source": [
    "We then define two variables, `a` and `b`. Fill in whatever values you'd like for `a` and `b` (3 and 4 strongly recommended)"
   ]
  },
  {
   "cell_type": "code",
   "execution_count": null,
   "metadata": {
    "collapsed": true
   },
   "outputs": [],
   "source": [
    "a = ??\n",
    "b = ??"
   ]
  },
  {
   "cell_type": "markdown",
   "metadata": {},
   "source": [
    "The Pythagorean formula states that the sum of the squares of the two legs of a right triangle equals the square of the hypotenuse, or a^2+b^2=c^2, where a and b are the leg lengths and c is the hypotenuse length. In this case, we solve for c by first using the exponentiate operator to square both sides and then using the addition operator to take the sum. Subsequently, we take the square root by using the math.sqrt() function from the math module imported above."
   ]
  },
  {
   "cell_type": "code",
   "execution_count": null,
   "metadata": {
    "collapsed": true
   },
   "outputs": [],
   "source": [
    "c = math.sqrt(a**2 + b**2)\n",
    "print (\"The hypotenuse is: \"+str(c)) # using string concatenation"
   ]
  },
  {
   "cell_type": "markdown",
   "metadata": {},
   "source": [
    "##### Advanced Explanation\n",
    "\n",
    "Now let's go a bit deeper and talk about some something even more fundamental regarding storing data and performing operations:\n",
    "\n",
    "In the end, computers are essentially a complex system of electrical circuits. Thus, the basic state of a computer is either on or off, electricity flow or no electricity flow, 1 or 0. Multiple such states are combined in a computer's memory, and modern hard drives allow for tens of trillions of such 1's and 0's, also called bits, to be used by a central processor.\n",
    "\n",
    "Alan Turing, one of founding fathers of computer science, thought of a way to theoretically represent computers. In his work, he came up with an idea called a Turing Machine, a machine which operates on a giant tape of 1's and 0's. The computer in this case uses a read head to look at the memory, read it, and then perform some future operations on the memory. The operations it performs are based off of a table of commands and the only allowable operations are to move the reader head along the spool of memory and to modify the memory. Surprisingly, from these basic operations Turing proved the endless possibilities of a computer program (search Turing Machines on Wikipedia for more info). Today, nearly all programming languages are Turing Complete, meaning that they can do any tasks a Turing machine, and by extension, a computer can do.\n",
    "\n",
    "What this shows is the immense power of computer programming languages. They have to operate at the level of both basic bits in addition to being usable for large-scale industrial applications for things so complex as mapping and facial recognition. If you have extra time and enjoy learning this type of stuff, you should definitely try looking at Compilers and the Assembly programming language, low-level interfaces to go even closer to the fundamental hardware."
   ]
  },
  {
   "cell_type": "markdown",
   "metadata": {},
   "source": [
    "# Problems"
   ]
  },
  {
   "cell_type": "code",
   "execution_count": null,
   "metadata": {
    "collapsed": true
   },
   "outputs": [],
   "source": []
  },
  {
   "cell_type": "markdown",
   "metadata": {},
   "source": [
    "1) Using the Pythagorean Theorem code from above, modify the objective so that instead of calculating c from a and b, calculate b given a and c as input. For example, if `a = 3` and `c = 5`, your code should output that `b = 4`."
   ]
  },
  {
   "cell_type": "code",
   "execution_count": null,
   "metadata": {
    "collapsed": true
   },
   "outputs": [],
   "source": [
    "#fill these in\n",
    "a = ?? \n",
    "c = ??\n",
    "\n",
    "# YOUR CODE HERE #:\n",
    "#define variable b\n",
    "\n",
    "print(\"b is: \"+str(b))"
   ]
  },
  {
   "cell_type": "markdown",
   "metadata": {},
   "source": [
    "2) Contrast the Python assignment operators to the equals sign in math. For example, if f(x) = x^2 was a math equation, its domain would be restricted to [0,1]. In contrast, if we wrote x = x^2 in Python, what would it do? Can you explain the fundamental difference in a few words?"
   ]
  },
  {
   "cell_type": "markdown",
   "metadata": {},
   "source": []
  },
  {
   "cell_type": "markdown",
   "metadata": {},
   "source": [
    "3) Experiment with using negative numbers for a and b in string splicing. What do negative numbers seem to connotate?"
   ]
  },
  {
   "cell_type": "code",
   "execution_count": null,
   "metadata": {
    "collapsed": true
   },
   "outputs": [],
   "source": []
  },
  {
   "cell_type": "markdown",
   "metadata": {},
   "source": [
    "Advanced Problem Set"
   ]
  },
  {
   "cell_type": "markdown",
   "metadata": {},
   "source": [
    "1) Using the Pythagorean Theorem example above, what numbers, when inputted into the program, cause the code to stop working? What error does it give? Why does it give this error? Can you add something the code to deal with this issue and make the code more robust?"
   ]
  },
  {
   "cell_type": "code",
   "execution_count": null,
   "metadata": {
    "collapsed": true
   },
   "outputs": [],
   "source": []
  },
  {
   "cell_type": "markdown",
   "metadata": {},
   "source": [
    "2) How do you think the Python int() typecast works? Try writing your own int() function and restrict it to converting from integers to strings. For example, when I write int(\"255\") using your typecast function, your program should output 255. Hint: consider breaking the string up and using ASCII codes."
   ]
  },
  {
   "cell_type": "code",
   "execution_count": null,
   "metadata": {
    "collapsed": true
   },
   "outputs": [],
   "source": []
  },
  {
   "cell_type": "markdown",
   "metadata": {},
   "source": [
    "More ideas for advanced pset: escape expressions in strings (\\n), regular expressions in strings (%s), and using the built in python functions described at the bottom of here (https://www.tutorialspoint.com/python/python_strings.htm) and here (https://www.tutorialspoint.com/python/python_numbers.htm) to make interesting problems like finding the palindrome, padding, and truncating. Also, if you want to do something really cool then use bitwise operators."
   ]
  },
  {
   "cell_type": "markdown",
   "metadata": {},
   "source": [
    "#Seconds to Time"
   ]
  },
  {
   "cell_type": "markdown",
   "metadata": {},
   "source": [
    "Write a program in the cell below that converts the number of seconds (represented by the variable seconds) into minutes. Print out the resulting number of minutes as an integer (whole number) and make sure to include the remaining number of seconds as well. For example, if seconds = 128, your program should print something like 2 minutes 8 seconds. Don't worry about formatting, just give the number of minutes and remaining seconds."
   ]
  },
  {
   "cell_type": "code",
   "execution_count": null,
   "metadata": {
    "collapsed": true
   },
   "outputs": [],
   "source": [
    "seconds = 29610"
   ]
  },
  {
   "cell_type": "markdown",
   "metadata": {},
   "source": [
    "#Seconds to Time Advanced"
   ]
  },
  {
   "cell_type": "markdown",
   "metadata": {},
   "source": [
    "Write a program in the cell below that converts the number of seconds (represented by the variable seconds) into hours. Print out the resulting number of hours as an integer, the number of minutes as an integer, and the number of remaining seconds. For example, if seconds = 11085, your program should print out 3 hours 4 minutes 45 seconds. "
   ]
  },
  {
   "cell_type": "code",
   "execution_count": 2,
   "metadata": {
    "collapsed": true
   },
   "outputs": [],
   "source": [
    "seconds = 81724"
   ]
  },
  {
   "cell_type": "code",
   "execution_count": null,
   "metadata": {
    "collapsed": true
   },
   "outputs": [],
   "source": []
  }
 ],
 "metadata": {
  "kernelspec": {
   "display_name": "Python 3",
   "language": "python",
   "name": "python3"
  },
  "language_info": {
   "codemirror_mode": {
    "name": "ipython",
    "version": 3
   },
   "file_extension": ".py",
   "mimetype": "text/x-python",
   "name": "python",
   "nbconvert_exporter": "python",
   "pygments_lexer": "ipython3",
   "version": "3.6.1"
  }
 },
 "nbformat": 4,
 "nbformat_minor": 2
}
