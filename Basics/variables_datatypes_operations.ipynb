{
 "cells": [
  {
   "cell_type": "markdown",
   "metadata": {},
   "source": [
    "#solutions"
   ]
  },
  {
   "cell_type": "markdown",
   "metadata": {},
   "source": [
    "solutions to smaller problems"
   ]
  },
  {
   "cell_type": "markdown",
   "metadata": {},
   "source": [
    "Seconds to Time Basic"
   ]
  },
  {
   "cell_type": "code",
   "execution_count": 15,
   "metadata": {},
   "outputs": [
    {
     "name": "stdout",
     "output_type": "stream",
     "text": [
      "49 minutes 21 seconds\n"
     ]
    }
   ],
   "source": [
    "seconds = 29610\n",
    "minutes = seconds // 60\n",
    "seconds %= 60\n",
    "print(str(minutes) + \" minutes \" + str(seconds) + \" seconds\")"
   ]
  },
  {
   "cell_type": "markdown",
   "metadata": {},
   "source": [
    "Seconds to Time Advanced"
   ]
  },
  {
   "cell_type": "code",
   "execution_count": 28,
   "metadata": {},
   "outputs": [
    {
     "name": "stdout",
     "output_type": "stream",
     "text": [
      "8 hours 13 minutes 30 seconds\n",
      "8 hours 13 minutes 30 seconds\n"
     ]
    }
   ],
   "source": [
    "seconds = 29610\n",
    "hours = seconds // 3600\n",
    "minutes = (seconds - 3600 * hours) // 60\n",
    "seconds = seconds - 3600 * hours - 60 * minutes\n",
    "print(str(hours) + \" hours \" + str(minutes) + \" minutes \" + str(seconds) + \" seconds\")\n",
    "# or this way: print(\"{} hours {} minutes {} seconds\".format(hours, minutes, seconds))"
   ]
  },
  {
   "cell_type": "code",
   "execution_count": null,
   "metadata": {
    "collapsed": true
   },
   "outputs": [],
   "source": []
  }
 ],
 "metadata": {
  "kernelspec": {
   "display_name": "Python 3",
   "language": "python",
   "name": "python3"
  },
  "language_info": {
   "codemirror_mode": {
    "name": "ipython",
    "version": 3
   },
   "file_extension": ".py",
   "mimetype": "text/x-python",
   "name": "python",
   "nbconvert_exporter": "python",
   "pygments_lexer": "ipython3",
   "version": "3.6.1"
  }
 },
 "nbformat": 4,
 "nbformat_minor": 2
}
