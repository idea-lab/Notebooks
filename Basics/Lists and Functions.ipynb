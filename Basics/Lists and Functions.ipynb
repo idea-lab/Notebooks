{
 "cells": [
  {
   "cell_type": "markdown",
   "metadata": {},
   "source": [
    "# Week 3: Lists and Functions"
   ]
  },
  {
   "cell_type": "markdown",
   "metadata": {
    "collapsed": true
   },
   "source": [
    "# Lists"
   ]
  },
  {
   "cell_type": "markdown",
   "metadata": {},
   "source": [
    "Python Documentation: [Lists](https://docs.python.org/3/tutorial/introduction.html#lists)"
   ]
  },
  {
   "cell_type": "markdown",
   "metadata": {},
   "source": [
    "So far, we've looked at variables storing a singular variable. What happens when we need to group values together? \n",
    "\n",
    "In this case, we have to use a type of variable called a **list**"
   ]
  },
  {
   "cell_type": "markdown",
   "metadata": {},
   "source": [
    "Let's create a basic list. \n",
    "\n",
    "Like any variable, we need a name for it, `my_list` in this example. To denote a grouping of values, use square brackets `[]` and separate different values (called **elements**) by commas. "
   ]
  },
  {
   "cell_type": "code",
   "execution_count": 1,
   "metadata": {},
   "outputs": [
    {
     "name": "stdout",
     "output_type": "stream",
     "text": [
      "[10, 42, -7]\n"
     ]
    }
   ],
   "source": [
    "my_list = [10, 42, -7]\n",
    "print(my_list)"
   ]
  },
  {
   "cell_type": "markdown",
   "metadata": {},
   "source": [
    "As you can see, `my_list` simultaneously stores all three values, and can output them. \n",
    "\n",
    "But what if we only want one?"
   ]
  },
  {
   "cell_type": "code",
   "execution_count": 2,
   "metadata": {},
   "outputs": [
    {
     "name": "stdout",
     "output_type": "stream",
     "text": [
      "10\n"
     ]
    }
   ],
   "source": [
    "print(my_list[0])"
   ]
  },
  {
   "cell_type": "markdown",
   "metadata": {},
   "source": [
    "We just accessed the first element in the list. (Notice the similarity to strings?)\n",
    "\n",
    "Note the syntax here: in order to get a certain element from the list, just type `{listname}[{position}]` (fill in `{listname}` and `{position}`)\n",
    "\n",
    "One of the most important things to take away is that the first element of the list is actually index **0** (**index** means position). This means that the **indices** (positions) in `my_list` actually are 0, 1, and 2. In general, with a list of length $n$, the indices will range from $0...n-1$, inclusive."
   ]
  },
  {
   "cell_type": "markdown",
   "metadata": {},
   "source": [
    "What happens if we try to access an element that isn't in the list (the list doesn't have that index)?"
   ]
  },
  {
   "cell_type": "code",
   "execution_count": 3,
   "metadata": {},
   "outputs": [
    {
     "ename": "IndexError",
     "evalue": "list index out of range",
     "output_type": "error",
     "traceback": [
      "\u001b[1;31m---------------------------------------------------------------------------\u001b[0m",
      "\u001b[1;31mIndexError\u001b[0m                                Traceback (most recent call last)",
      "\u001b[1;32m<ipython-input-3-dda403e99fc3>\u001b[0m in \u001b[0;36m<module>\u001b[1;34m()\u001b[0m\n\u001b[1;32m----> 1\u001b[1;33m \u001b[0mprint\u001b[0m\u001b[1;33m(\u001b[0m\u001b[0mmy_list\u001b[0m\u001b[1;33m[\u001b[0m\u001b[1;36m3\u001b[0m\u001b[1;33m]\u001b[0m\u001b[1;33m)\u001b[0m\u001b[1;33m\u001b[0m\u001b[0m\n\u001b[0m",
      "\u001b[1;31mIndexError\u001b[0m: list index out of range"
     ]
    }
   ],
   "source": [
    "print(my_list[3])"
   ]
  },
  {
   "cell_type": "markdown",
   "metadata": {},
   "source": [
    "The `index out of range` exception is one of the most common types of errors for introductory and even advanced programmers. All it means is that you've given the list an index that would be outside of the list. \n",
    "\n",
    "For example, here we tried to access index `3` (the fourth element), except we don't actually have a fourth element in the list. As a result, the compiler gets super confused and throws an error."
   ]
  },
  {
   "cell_type": "markdown",
   "metadata": {},
   "source": [
    "You can also change the values of elements in a list:"
   ]
  },
  {
   "cell_type": "code",
   "execution_count": 4,
   "metadata": {},
   "outputs": [
    {
     "name": "stdout",
     "output_type": "stream",
     "text": [
      "[10, 100, -7]\n"
     ]
    }
   ],
   "source": [
    "my_list[1] = 100\n",
    "print(my_list)"
   ]
  },
  {
   "cell_type": "markdown",
   "metadata": {},
   "source": [
    "`my_list[1]` is treated like any other variable, except that it also is contained within the larger `my_list` variable."
   ]
  },
  {
   "cell_type": "markdown",
   "metadata": {},
   "source": [
    "Many of the things you can do with strings, you can also do with lists. For example: slicing."
   ]
  },
  {
   "cell_type": "code",
   "execution_count": 7,
   "metadata": {},
   "outputs": [
    {
     "name": "stdout",
     "output_type": "stream",
     "text": [
      "[10, 100]\n",
      "[-7, 100, 10]\n"
     ]
    }
   ],
   "source": [
    "print(my_list[0:2]) # the first two elements in the list\n",
    "\n",
    "print(my_list[::-1]) # the reverse of the list"
   ]
  },
  {
   "cell_type": "markdown",
   "metadata": {},
   "source": [
    "In order to add new elements to the list, you can do one of two things:\n",
    "\n",
    "First, use `.append()`."
   ]
  },
  {
   "cell_type": "code",
   "execution_count": 9,
   "metadata": {},
   "outputs": [
    {
     "name": "stdout",
     "output_type": "stream",
     "text": [
      "['Apples', 'Computer', 'Cheese', 'Civilization 6']\n"
     ]
    }
   ],
   "source": [
    "shopping_list = [\"Apples\", \"Computer\", \"Cheese\", \"Civilization 6\"] # just a normal shopping list\n",
    "print(shopping_list)"
   ]
  },
  {
   "cell_type": "code",
   "execution_count": 10,
   "metadata": {},
   "outputs": [
    {
     "name": "stdout",
     "output_type": "stream",
     "text": [
      "['Apples', 'Computer', 'Cheese', 'Civilization 6', 'Europa Universalis 4']\n"
     ]
    }
   ],
   "source": [
    "shopping_list.append(\"Europa Universalis 4\") \n",
    "print(shopping_list) # a better shopping list"
   ]
  },
  {
   "cell_type": "markdown",
   "metadata": {},
   "source": [
    "Second, concatenate (add together) two different lists."
   ]
  },
  {
   "cell_type": "code",
   "execution_count": 11,
   "metadata": {},
   "outputs": [
    {
     "name": "stdout",
     "output_type": "stream",
     "text": [
      "['Apples', 'Computer', 'Cheese', 'Civilization 6', 'Europa Universalis 4', 'SSB Melee', 'Salt', 'Cat', 'A passing grade in English']\n"
     ]
    }
   ],
   "source": [
    "my_friends_shopping_list = [\"SSB Melee\", \"Salt\", \"Cat\", \"A passing grade in English\"]\n",
    "#alternatively, directly add the lists: shopping_list+= [\"SSB Melee\", \"Salt\", \"Cat\", \"A passing grade in English\"]\n",
    "shopping_list += my_friends_shopping_list \n",
    "print(shopping_list)"
   ]
  },
  {
   "cell_type": "markdown",
   "metadata": {},
   "source": [
    "It's important to remember that when using concatentation, you have to add two _lists_ (meaning there should be square brackets somewhere). "
   ]
  },
  {
   "cell_type": "markdown",
   "metadata": {},
   "source": [
    "Overall, you should be able to see that `.append()` is better to use if you're adding one element at a time, while concatenation is better used when adding multiple elements at the same time, or combining lists."
   ]
  },
  {
   "cell_type": "code",
   "execution_count": null,
   "metadata": {
    "collapsed": true
   },
   "outputs": [],
   "source": []
  },
  {
   "cell_type": "markdown",
   "metadata": {},
   "source": [
    "### Example: Find all even numbers between 1 and 100 (inclusive) and store them in a list."
   ]
  },
  {
   "cell_type": "markdown",
   "metadata": {},
   "source": [
    "This problem is pretty self explanatory. At the end of the program, we want to have a list containing `[2, 4, 6, 8, ..., 98, 100]`"
   ]
  },
  {
   "cell_type": "markdown",
   "metadata": {},
   "source": [
    "###### Solution 1:"
   ]
  },
  {
   "cell_type": "code",
   "execution_count": 12,
   "metadata": {},
   "outputs": [
    {
     "name": "stdout",
     "output_type": "stream",
     "text": [
      "[2, 4, 6, 8, 10, 12, 14, 16, 18, 20, 22, 24, 26, 28, 30, 32, 34, 36, 38, 40, 42, 44, 46, 48, 50, 52, 54, 56, 58, 60, 62, 64, 66, 68, 70, 72, 74, 76, 78, 80, 82, 84, 86, 88, 90, 92, 94, 96, 98, 100]\n"
     ]
    }
   ],
   "source": [
    "even_nums = [] #started as empty so that we can add even numbers as we find them\n",
    "for i in range(1, 101): #remember, range() is exclusive, so we need to go to 101 to include 100\n",
    "    if i % 2 == 0: #if i is even\n",
    "        even_nums.append(i) #add i to the list\n",
    "\n",
    "print(even_nums)"
   ]
  },
  {
   "cell_type": "markdown",
   "metadata": {},
   "source": [
    "##### Solution 2:"
   ]
  },
  {
   "cell_type": "code",
   "execution_count": 13,
   "metadata": {},
   "outputs": [
    {
     "name": "stdout",
     "output_type": "stream",
     "text": [
      "[2, 4, 6, 8, 10, 12, 14, 16, 18, 20, 22, 24, 26, 28, 30, 32, 34, 36, 38, 40, 42, 44, 46, 48, 50, 52, 54, 56, 58, 60, 62, 64, 66, 68, 70, 72, 74, 76, 78, 80, 82, 84, 86, 88, 90, 92, 94, 96, 98, 100]\n"
     ]
    }
   ],
   "source": [
    "even_nums = [] #again, empty list\n",
    "for i in range(2, 102, 2): #instead of testing if i is even, if we skip by twos, we know that i will be even \n",
    "    #(assuming we start on an even number)\n",
    "    even_nums.append(i)\n",
    "    \n",
    "print(even_nums)"
   ]
  },
  {
   "cell_type": "markdown",
   "metadata": {},
   "source": [
    "### Advanced: List comprehensions"
   ]
  },
  {
   "cell_type": "markdown",
   "metadata": {},
   "source": [
    "**List Comprehensions** are a way to procedurally generate a (usually numerical) list on the spot. \n",
    "\n",
    "Example:"
   ]
  },
  {
   "cell_type": "code",
   "execution_count": 14,
   "metadata": {},
   "outputs": [
    {
     "name": "stdout",
     "output_type": "stream",
     "text": [
      "[0, 1, 4, 9, 16, 25, 36, 49, 64, 81]\n"
     ]
    }
   ],
   "source": [
    "x = [x**2 for x in range(0, 10)] #gets squares of integers from 0-9\n",
    "print(x)"
   ]
  },
  {
   "cell_type": "markdown",
   "metadata": {},
   "source": [
    "Let's break this down.\n",
    "\n",
    "> `x = `\n",
    "\n",
    "Ok, so we're assigning something to a variable.\n",
    "\n",
    "> `x**2`\n",
    "\n",
    "We're squaring some number (`x` here refers to a general variable, not specifically the variable `x` that we are assigning to right now).\n",
    "\n",
    "> `for x in range(0, 10)`\n",
    "\n",
    "So this placeholder `x` will be the values from 0-9."
   ]
  },
  {
   "cell_type": "markdown",
   "metadata": {},
   "source": [
    "Putting it all together, we can see that the operation `x**2` gets applied to each value from 0-9, and then all of the results are put together in a list."
   ]
  },
  {
   "cell_type": "markdown",
   "metadata": {},
   "source": [
    "This is extremely similar to standard notation for a set in regular mathematics, for example:\n",
    "\n",
    "`S = {x² : x in {0 ... 9}}`\n",
    "\n",
    "`M = {x | x in S and x even}`\n",
    "\n",
    "To put the conditions on the values (like in the second example), we can add an if to the comprehension:"
   ]
  },
  {
   "cell_type": "code",
   "execution_count": 15,
   "metadata": {},
   "outputs": [
    {
     "name": "stdout",
     "output_type": "stream",
     "text": [
      "[0, 4, 16, 36, 64]\n"
     ]
    }
   ],
   "source": [
    "y = [x**2 for x in range(0, 10) if x%2 == 0] #only get squares of even integers\n",
    "print(y)"
   ]
  },
  {
   "cell_type": "markdown",
   "metadata": {},
   "source": [
    "Here, `x` again refers to a placeholder value that goes through the values of 0-9. However, we selectively filter out some values of `x`, only choosing those that are even (`x%2 == 0`)"
   ]
  },
  {
   "cell_type": "markdown",
   "metadata": {},
   "source": [
    "# Functions"
   ]
  },
  {
   "cell_type": "code",
   "execution_count": null,
   "metadata": {
    "collapsed": true
   },
   "outputs": [],
   "source": []
  },
  {
   "cell_type": "markdown",
   "metadata": {},
   "source": [
    "# Problem Set 3\n",
    "3\\.1 Print out the string at the third index of the list below."
   ]
  },
  {
   "cell_type": "code",
   "execution_count": null,
   "metadata": {
    "collapsed": true
   },
   "outputs": [],
   "source": [
    "animals = ['Cow','Dog','Mouse','Seahorse','Elephant']\n",
    "\n",
    "# YOUR CODE HERE #"
   ]
  },
  {
   "cell_type": "markdown",
   "metadata": {},
   "source": [
    "3\\.2 Print out only the animals in the following list using list slicing."
   ]
  },
  {
   "cell_type": "code",
   "execution_count": null,
   "metadata": {
    "collapsed": true
   },
   "outputs": [],
   "source": [
    "species = ['Cow','Chicken','Moose','Goat','Basil','Oak','Maple']\n",
    "\n",
    "# YOUR CODE HERE #"
   ]
  },
  {
   "cell_type": "markdown",
   "metadata": {},
   "source": [
    "3\\.3 Define a list named `artists` so that the code below prints `Rembrandt and Van Gogh`."
   ]
  },
  {
   "cell_type": "code",
   "execution_count": null,
   "metadata": {
    "collapsed": true
   },
   "outputs": [],
   "source": [
    "# YOUR CODE HERE #\n",
    "\n",
    "print(artists[3] + \" and \" + artists[0])"
   ]
  },
  {
   "cell_type": "markdown",
   "metadata": {},
   "source": [
    "3\\.4 Define a function that returns the number of instances of a string `target` in a list `strList`."
   ]
  },
  {
   "cell_type": "code",
   "execution_count": null,
   "metadata": {
    "collapsed": true
   },
   "outputs": [],
   "source": [
    "def strCount(strList, target):\n",
    "    # YOUR CODE HERE #\n",
    "    return None # change this to return the count\n",
    "\n",
    "testCase1 = ['Cow','Cow','Cow','Dog','Cow']\n",
    "print(strCount(testCase1,'Cow'))\n",
    "print(strCount(testCase1, 'Dog'))\n",
    "\n",
    "testCase2 = ['Pig','Chicken','Cod', 'Cod','IdeaLab']\n",
    "print(strCount(testCase2, 'IdeaLab'))\n",
    "print(strCount(testCase2, 'Pig'))"
   ]
  },
  {
   "cell_type": "markdown",
   "metadata": {},
   "source": [
    "3\\.5 Given an array of length 3, return an array with the elements \"rotated left\" so {1,2,3} yields {2,3,1} (credit to CodingBat) "
   ]
  },
  {
   "cell_type": "code",
   "execution_count": null,
   "metadata": {
    "collapsed": true
   },
   "outputs": [],
   "source": [
    "def rotate_left3(nums):\n",
    "    # YOUR CODE HERE #\n",
    "    return None # Change to return the new array\n",
    "\n",
    "print(rotate_left3([1,2,3]))\n",
    "print(rotate_left3([3,2,1]))\n",
    "print(rotate_left3([1,1,2]))\n",
    "print(rotate_left3([10,12,11]))"
   ]
  },
  {
   "cell_type": "markdown",
   "metadata": {},
   "source": [
    "3\\.6 Given an array of length `n`, reverse the array so {1,2,3} yields {3,2,1}. HINT: Look at the operations notebook section on slicing. HINT 2: Google the \"third\" slice argument (array[::1]) HINT 3: Ask us!"
   ]
  },
  {
   "cell_type": "code",
   "execution_count": null,
   "metadata": {
    "collapsed": true
   },
   "outputs": [],
   "source": [
    "def reverse(array_in):\n",
    "    # YOUR CODE HERE #\n",
    "    return None # Change to return the new array\n",
    "\n",
    "print(reverse([1,2,3]))\n",
    "print(reverse([3,2,1]))\n",
    "print(reverse(['b','e','l','a','c']))\n",
    "print(reverse(['meeting','idealab','an','at','are','you']))\n",
    "print(reverse([3.14,3.141,3.1415,3.14159]))"
   ]
  },
  {
   "cell_type": "markdown",
   "metadata": {},
   "source": [
    "3\\.7 Re-implement Python's built-in startswith string function as `starts_with`."
   ]
  },
  {
   "cell_type": "code",
   "execution_count": null,
   "metadata": {
    "collapsed": true
   },
   "outputs": [],
   "source": [
    "# EXAMPLE\n",
    "print('Mississippi'.startswith('Miss')) # Mississippi is the orig, Miss is the substring\n",
    "print('Aardvark'.startswith('Ant')) # Aardvark is the orig, Ant is the substring"
   ]
  },
  {
   "cell_type": "code",
   "execution_count": null,
   "metadata": {
    "collapsed": true
   },
   "outputs": [],
   "source": [
    "def starts_with(orig,substring):\n",
    "    # YOUR CODE HERE #\n",
    "    return None # Change to return a boolean\n",
    "\n",
    "print(starts_with(\"Orig\",\"Or\"))\n",
    "print(starts_with(\"Mississippi\",\"Miss\"))\n",
    "print(starts_with(\"Aardvark\",\"Ant\"))\n",
    "print(starts_with(\"IdeaLab\",\"SciOly\"))\n",
    "print(starts_with(\"Sweater\",\"Sweat\"))"
   ]
  },
  {
   "cell_type": "markdown",
   "metadata": {
    "collapsed": true
   },
   "source": [
    "3\\.8 Given a list of tuples in the format `(name, age, height)`, sort the list by height. HINT: Look up the sorted() function. HINT 2: The key should be related to what we're sorting by. HINT 3: Come ask for help!"
   ]
  },
  {
   "cell_type": "code",
   "execution_count": 1,
   "metadata": {},
   "outputs": [
    {
     "name": "stdout",
     "output_type": "stream",
     "text": [
      "None\n",
      "None\n"
     ]
    }
   ],
   "source": [
    "def height_sort(info_list):\n",
    "    # YOUR CODE HERE #\n",
    "    return None # change to return the new list\n",
    "\n",
    "print(height_sort([(\"Caleb\",17,1.727),(\"Sky\",16,1.7),(\"Serena Williams\",36,1.75),(\"Victor\",17,2.0),(\"Sun Fang\",30,2.21)]))\n",
    "print(height_sort([(\"Freshmen\",14,1.0),(\"Sophomores\",15,0.5),(\"Juniors\",16,0.3),(\"Seniors\",17,-5)]))"
   ]
  },
  {
   "cell_type": "markdown",
   "metadata": {},
   "source": [
    "3\\.9 Given a list of tuples in the format `[(name, [majors])]`, use the strCount() method previously defined in this notebook to count how many of a certain major there are. EXAMPLE: `students = [\n",
    "    (\"John\", [\"CompSci\", \"Physics\"]),\n",
    "    (\"Vusi\", [\"Maths\", \"CompSci\", \"Stats\"]),\n",
    "    (\"Jess\", [\"CompSci\", \"Accounting\", \"Economics\", \"Management\"]),\n",
    "    (\"Sarah\", [\"InfSys\", \"Accounting\", \"Economics\", \"CommLaw\"]),\n",
    "    (\"Zuki\", [\"Sociology\", \"Economics\", \"Law\", \"Stats\", \"Music\"])]`\n",
    "    \n",
    "   `major_count(students, \"Stats\") == 2`\n",
    "   \n",
    "   `major_count(students, \"Sociology\") == 1`\n",
    "   \n",
    "   `major_count(students, \"BasketWeaving\") == 0`"
   ]
  },
  {
   "cell_type": "code",
   "execution_count": null,
   "metadata": {
    "collapsed": true
   },
   "outputs": [],
   "source": [
    "def major_count(students, major):\n",
    "    # YOUR CODE HERE #\n",
    "    return None # change to return the number of majors matching major\n",
    "\n",
    "students = [\n",
    "    (\"John\", [\"CompSci\", \"Physics\"]),\n",
    "    (\"Vusi\", [\"Maths\", \"CompSci\", \"Stats\"]),\n",
    "    (\"Jess\", [\"CompSci\", \"Accounting\", \"Economics\", \"Management\"]),\n",
    "    (\"Sarah\", [\"InfSys\", \"Accounting\", \"Economics\", \"CommLaw\"]),\n",
    "    (\"Zuki\", [\"Sociology\", \"Economics\", \"Law\", \"Stats\", \"Music\"])]\n",
    "\n",
    "print(major_count(students, \"Stats\"))\n",
    "print(major_count(students, \"Law\"))\n",
    "print(major_count(students, \"Economics\"))\n",
    "print(major_count(students, \"CompSci\"))"
   ]
  }
 ],
 "metadata": {
  "kernelspec": {
   "display_name": "Python 3",
   "language": "python",
   "name": "python3"
  },
  "language_info": {
   "codemirror_mode": {
    "name": "ipython",
    "version": 3
   },
   "file_extension": ".py",
   "mimetype": "text/x-python",
   "name": "python",
   "nbconvert_exporter": "python",
   "pygments_lexer": "ipython3",
   "version": "3.6.1"
  }
 },
 "nbformat": 4,
 "nbformat_minor": 2
}
