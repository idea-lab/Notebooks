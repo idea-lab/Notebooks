{
 "cells": [
  {
   "cell_type": "markdown",
   "metadata": {},
   "source": [
    "#Solutions"
   ]
  },
  {
   "cell_type": "markdown",
   "metadata": {},
   "source": [
    "###Problem Set 1"
   ]
  },
  {
   "cell_type": "markdown",
   "metadata": {},
   "source": [
    "1.1. Create a variable `x`, set it equal to 7.3, and print it out"
   ]
  },
  {
   "cell_type": "code",
   "execution_count": 16,
   "metadata": {},
   "outputs": [
    {
     "name": "stdout",
     "output_type": "stream",
     "text": [
      "7.3\n"
     ]
    }
   ],
   "source": [
    "x = 7.3\n",
    "print(x)"
   ]
  },
  {
   "cell_type": "markdown",
   "metadata": {},
   "source": [
    "1.2. Create a variable `name`, set it equal to your name, and print it out"
   ]
  },
  {
   "cell_type": "code",
   "execution_count": 17,
   "metadata": {},
   "outputs": [
    {
     "name": "stdout",
     "output_type": "stream",
     "text": [
      "Richard\n"
     ]
    }
   ],
   "source": [
    "name = \"Richard\"\n",
    "print(name)"
   ]
  },
  {
   "cell_type": "markdown",
   "metadata": {},
   "source": [
    "1.3. In 1,487 regular season hockey games Wayne Gretzky scored 2,857 points. Print his points per game."
   ]
  },
  {
   "cell_type": "code",
   "execution_count": 45,
   "metadata": {},
   "outputs": [
    {
     "name": "stdout",
     "output_type": "stream",
     "text": [
      "1.921318090114324\n"
     ]
    }
   ],
   "source": [
    "games_w = 1487\n",
    "points_w = 2857\n",
    "ppg_w = points_w/games_w\n",
    "print(ppg_w)"
   ]
  },
  {
   "cell_type": "markdown",
   "metadata": {},
   "source": [
    "1.4. In 1781 regular season hockey games Jaromir Jagr has scored 1914 points. What is the difference between Jagr's points per game and Gretzky's points per game?"
   ]
  },
  {
   "cell_type": "code",
   "execution_count": 46,
   "metadata": {},
   "outputs": [
    {
     "name": "stdout",
     "output_type": "stream",
     "text": [
      "0.8466409424444756\n"
     ]
    }
   ],
   "source": [
    "games_j = 1781\n",
    "points_j = 1914\n",
    "ppg_j = points_j/games_j\n",
    "print(ppg_w - ppg_j)"
   ]
  },
  {
   "cell_type": "markdown",
   "metadata": {},
   "source": [
    "1.5. Concatenate these two strings and assign them to a new variable called `concat`, then print it out."
   ]
  },
  {
   "cell_type": "code",
   "execution_count": 20,
   "metadata": {},
   "outputs": [
    {
     "name": "stdout",
     "output_type": "stream",
     "text": [
      "FooBar\n"
     ]
    }
   ],
   "source": [
    "string1 = \"Foo\"\n",
    "string2 = \"Bar\"\n",
    "\n",
    "concat = string1 + string2\n",
    "print(concat)"
   ]
  },
  {
   "cell_type": "markdown",
   "metadata": {},
   "source": [
    "1.6. Create a variable, x, with the string value \"I'm a string, hear me roar!\" assigned to it. Now print out the last 13 characters contained in x by using a slice."
   ]
  },
  {
   "cell_type": "code",
   "execution_count": 21,
   "metadata": {},
   "outputs": [
    {
     "name": "stdout",
     "output_type": "stream",
     "text": [
      " hear me roar!\n"
     ]
    }
   ],
   "source": [
    "x = \"I'm a string, hear me roar!\"\n",
    "print(x[13:])"
   ]
  },
  {
   "cell_type": "markdown",
   "metadata": {},
   "source": [
    "1.7\\. Given variables `a`, `b`, and `c`, solve for x in a quadratic equation of the form $ax^2 + bx + c = 0$\n",
    "\n",
    "NOTE: The quadratic formula is $x = \\frac{-b \\pm \\sqrt{b^2 - 4ac}}{2a} $ (Only give one of the roots, don't bother with the plus or minus)\n"
   ]
  },
  {
   "cell_type": "code",
   "execution_count": 25,
   "metadata": {},
   "outputs": [
    {
     "name": "stdout",
     "output_type": "stream",
     "text": [
      "3.0\n"
     ]
    }
   ],
   "source": [
    "a = 1\n",
    "b = 2\n",
    "c = -15\n",
    "\n",
    "x = (-b + (b**2 - 4 * a * c)**0.5)/(2 * a)\n",
    "print(x)"
   ]
  },
  {
   "cell_type": "markdown",
   "metadata": {},
   "source": [
    "1.8\\. Based on the Pythagorean Theorem code from above, modify the objective so that instead of calculating c from a and b, calculate b given a and c as input. For example, if `a = 3` and `c = 5`, your code should output that `b = 4`."
   ]
  },
  {
   "cell_type": "code",
   "execution_count": 53,
   "metadata": {},
   "outputs": [
    {
     "name": "stdout",
     "output_type": "stream",
     "text": [
      "b is: 4.0\n"
     ]
    }
   ],
   "source": [
    "a = 3\n",
    "c = 5\n",
    "\n",
    "b = (c**2 - a**2)**0.5\n",
    "\n",
    "print(\"b is: \"+ str(b))"
   ]
  },
  {
   "cell_type": "markdown",
   "metadata": {},
   "source": [
    "1.9\\. Compare the Python assignment operators to the equals sign in math. For example, if you solved $ x = x^2 $ algebraically, you'd find that $x = 0, 1$ . On the other hand, if we wrote `x = x**2` in Python, what would it do?"
   ]
  },
  {
   "cell_type": "markdown",
   "metadata": {},
   "source": [
    "The equals sign in math makes it a rule that the stuff to its left has the same value as the stuff on its right. When you solve for $ x = x^2 $ algebraically, you are solving for an unknown, called x, based on the fact that the x on the left is equal to the $x^2 $ on the right. <br />\n",
    "In computer science, the equals sign is actually the assignment operator, meaning it stores whatever is on its right into the variable on its left. <br />\n",
    "If we write `x = x**2`, that means we have a variable called `x`, and we are assigning it the new value that is itself squared. For example, if `x` was initially 4, `x` is now itself squared, $4^2$, or 16."
   ]
  },
  {
   "cell_type": "markdown",
   "metadata": {},
   "source": [
    "### Advanced Problem Set"
   ]
  },
  {
   "cell_type": "markdown",
   "metadata": {},
   "source": [
    "1.10\\. Print the variable `concat` that you created in Problem 1.5 ten times, each separated by a new line. This is possible to do in one line"
   ]
  },
  {
   "cell_type": "code",
   "execution_count": 44,
   "metadata": {
    "scrolled": false
   },
   "outputs": [
    {
     "name": "stdout",
     "output_type": "stream",
     "text": [
      "FooBar\n",
      "FooBar\n",
      "FooBar\n",
      "FooBar\n",
      "FooBar\n",
      "FooBar\n",
      "FooBar\n",
      "FooBar\n",
      "FooBar\n",
      "FooBar\n",
      "\n"
     ]
    }
   ],
   "source": [
    "print((concat + '\\n') * 10)"
   ]
  },
  {
   "cell_type": "markdown",
   "metadata": {},
   "source": [
    "1.11\\. Print the reverse of a string using string slicing"
   ]
  },
  {
   "cell_type": "code",
   "execution_count": 51,
   "metadata": {},
   "outputs": [
    {
     "name": "stdout",
     "output_type": "stream",
     "text": [
      "!em esreveR\n"
     ]
    }
   ],
   "source": [
    "string_to_reverse = \"Reverse me!\"\n",
    "print(string_to_reverse[::-1])"
   ]
  },
  {
   "cell_type": "markdown",
   "metadata": {},
   "source": [
    "1.12\\. Using the Pythagorean Theorem example above, what numbers, when inputted into the program, cause the code to stop working? What error does it give? Why does it give this error? Can you add something to the code to deal with this issue and make the code more robust?"
   ]
  },
  {
   "cell_type": "code",
   "execution_count": 54,
   "metadata": {
    "collapsed": true
   },
   "outputs": [],
   "source": [
    "# no errors"
   ]
  },
  {
   "cell_type": "markdown",
   "metadata": {},
   "source": [
    "1.13\\. How do you think the Python int() typecast works? Try writing your own int() function and restrict it to converting from integers to strings. For example, when I write int(\"255\") using your typecast function, your program should output 255. Hint: consider breaking the string up and using ASCII codes."
   ]
  },
  {
   "cell_type": "code",
   "execution_count": 63,
   "metadata": {},
   "outputs": [
    {
     "name": "stdout",
     "output_type": "stream",
     "text": [
      "49\n",
      "549\n",
      "5649\n",
      "57649\n",
      "57649\n"
     ]
    }
   ],
   "source": [
    "def int2(x):\n",
    "    num = 0\n",
    "    for i in x:\n",
    "        digit = ord(i) - 48\n",
    "        ind = x.index(i)\n",
    "        if (digit>=0 and digit<=9):\n",
    "            num += digit * 10**ind\n",
    "            print(num)\n",
    "    return num\n",
    "\n",
    "print(int2(\"1234\"))\n",
    "        "
   ]
  },
  {
   "cell_type": "markdown",
   "metadata": {},
   "source": [
    "### Seconds to Time"
   ]
  },
  {
   "cell_type": "code",
   "execution_count": 1,
   "metadata": {},
   "outputs": [
    {
     "name": "stdout",
     "output_type": "stream",
     "text": [
      "493 minutes 30 seconds\n"
     ]
    }
   ],
   "source": [
    "seconds = 29610\n",
    "minutes = seconds // 60\n",
    "seconds = seconds - 60 * minutes\n",
    "print(str(minutes) + \" minutes \" + str(seconds) + \" seconds\")"
   ]
  },
  {
   "cell_type": "markdown",
   "metadata": {},
   "source": [
    "### Seconds to Time Advanced"
   ]
  },
  {
   "cell_type": "code",
   "execution_count": 30,
   "metadata": {},
   "outputs": [
    {
     "name": "stdout",
     "output_type": "stream",
     "text": [
      "22 hours 42 minutes 4 seconds\n"
     ]
    }
   ],
   "source": [
    "seconds = 81724\n",
    "hours = seconds // 3600\n",
    "minutes = (seconds - 3600 * hours) // 60\n",
    "seconds = seconds - 3600 * hours - 60 * minutes\n",
    "print(str(hours) + \" hours \" + str(minutes) + \" minutes \" + str(seconds) + \" seconds\")\n",
    "# or this way: print(\"{} hours {} minutes {} seconds\".format(hours, minutes, seconds))"
   ]
  }
 ],
 "metadata": {
  "kernelspec": {
   "display_name": "Python 3",
   "language": "python",
   "name": "python3"
  },
  "language_info": {
   "codemirror_mode": {
    "name": "ipython",
    "version": 3
   },
   "file_extension": ".py",
   "mimetype": "text/x-python",
   "name": "python",
   "nbconvert_exporter": "python",
   "pygments_lexer": "ipython3",
   "version": "3.6.1"
  }
 },
 "nbformat": 4,
 "nbformat_minor": 2
}
