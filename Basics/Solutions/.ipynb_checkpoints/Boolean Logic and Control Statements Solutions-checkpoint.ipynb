{
 "cells": [
  {
   "cell_type": "markdown",
   "metadata": {},
   "source": [
    "## Stairs"
   ]
  },
  {
   "cell_type": "code",
   "execution_count": null,
   "metadata": {},
   "outputs": [],
   "source": [
    "height = 50\n",
    "rowStr = \"\"\n",
    "\n",
    "for i in range(0, height):\n",
    "    rowStr = \"\"\n",
    "    for j in range(0, height - i - 1):\n",
    "        rowStr += \" \"\n",
    "    for k in range(height - i - 1, height):\n",
    "        rowStr += \"#\"\n",
    "    print(rowStr)"
   ]
  },
  {
   "cell_type": "markdown",
   "metadata": {},
   "source": [
    "## Greedy"
   ]
  },
  {
   "cell_type": "code",
   "execution_count": null,
   "metadata": {},
   "outputs": [],
   "source": [
    "change = 0.41\n",
    "coins = 0\n",
    "cents = change * 100\n",
    "coins += cents//25\n",
    "cents %= 25\n",
    "coins += cents//10\n",
    "cents %= 10\n",
    "coins += cents//5 + cents%5\n",
    "print(coins)"
   ]
  },
  {
   "cell_type": "markdown",
   "metadata": {},
   "source": [
    "## Pyramid"
   ]
  },
  {
   "cell_type": "code",
   "execution_count": 33,
   "metadata": {},
   "outputs": [
    {
     "name": "stdout",
     "output_type": "stream",
     "text": [
      "         #\n",
      "        ###\n",
      "       #####\n",
      "      #######\n",
      "     #########\n",
      "    ###########\n",
      "   #############\n",
      "  ###############\n",
      " #################\n",
      "###################\n"
     ]
    }
   ],
   "source": [
    "height = 10\n",
    "rowStr = \"\"\n",
    "\n",
    "for i in range(0, height):\n",
    "    rowStr = \"\"\n",
    "    for j in range(0, (height - i - 1)):\n",
    "        rowStr += \" \"\n",
    "    for k in range(height - i - 1, height - 1):\n",
    "        rowStr += \"##\"\n",
    "    rowStr += \"#\"\n",
    "    print(rowStr)\n"
   ]
  },
  {
   "cell_type": "markdown",
   "metadata": {},
   "source": [
    "## Credit"
   ]
  },
  {
   "cell_type": "code",
   "execution_count": 66,
   "metadata": {},
   "outputs": [
    {
     "name": "stdout",
     "output_type": "stream",
     "text": [
      "27\n",
      "60\n",
      "AMEX\n"
     ]
    }
   ],
   "source": [
    "cardNumber = 378282246310005\n",
    "digits = []\n",
    "for digit in str(cardNumber):\n",
    "    digits.append(int(digit))  \n",
    "length = len(digits)\n",
    "sumDigits = 0\n",
    "\n",
    "for digit in digits[1::2]:\n",
    "    sumDigits += (digit*2)//10 + (digit*2)%10\n",
    "for digit in digits[0::2]:\n",
    "    sumDigits += digit\n",
    "    \n",
    "if (length == 13):\n",
    "    for digit in digits[1::2]:\n",
    "        sumDigits += (digit*2)//10 + (digit*2)%10\n",
    "    for digit in digits[0::2]:\n",
    "        sumDigits += digit\n",
    "    if (sumDigits%10 == 0):\n",
    "        if (digits[0] == 4):\n",
    "            print(\"VISA\")\n",
    "    else:\n",
    "        print(\"INVALID\")\n",
    "elif (length == 15):\n",
    "    if (sumDigits%10 == 0):\n",
    "        if (digits[0:2]==[3,4] or digits[0:2]==[3,7]):\n",
    "            print(\"AMEX\")\n",
    "    else:\n",
    "        print(\"INVALID\")\n",
    "elif (length == 16):\n",
    "    if (sumDigits%10 == 0):\n",
    "        if (digits[0:2]==[3,4] or digits[0:2]==[3,7]):\n",
    "            print(\"AMEX\")\n",
    "        elif(digits[0:2]==[5,1] or digits[0:2]==[5,2] or digits[0:2]==[5,3] or digits[0:2]==[5,4] or digits[0:2]==[5,5]):\n",
    "            print(\"MASTERCARD\")\n",
    "    else:\n",
    "        print(\"INVALID\")\n",
    "else:\n",
    "    print(\"INVALID\")  "
   ]
  },
  {
   "cell_type": "code",
   "execution_count": null,
   "metadata": {
    "collapsed": true
   },
   "outputs": [],
   "source": []
  }
 ],
 "metadata": {
  "kernelspec": {
   "display_name": "Python 3",
   "language": "python",
   "name": "python3"
  }
 },
 "nbformat": 4,
 "nbformat_minor": 2
}
