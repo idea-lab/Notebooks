{
 "cells": [
  {
   "cell_type": "markdown",
   "metadata": {},
   "source": [
    "# Variables, Datatypes, and Operations"
   ]
  },
  {
   "cell_type": "markdown",
   "metadata": {},
   "source": [
    "### Getting comfortable with jupyter"
   ]
  },
  {
   "cell_type": "markdown",
   "metadata": {},
   "source": [
    "Some basic Python console commands: using Python for simple mathematical expressions"
   ]
  },
  {
   "cell_type": "code",
   "execution_count": 2,
   "metadata": {},
   "outputs": [
    {
     "data": {
      "text/plain": [
       "10"
      ]
     },
     "execution_count": 2,
     "metadata": {},
     "output_type": "execute_result"
    }
   ],
   "source": [
    "#These are called comments, denoted by a #. Nothing on these lines will be run as code; they're just notes for you\n",
    "#Remember: To run a cell, ctrl-enter, shift-enter, or the play button.\n",
    "#Ctrl-enter will keep the current cell highlighted, while shift-enter will move down a cell\n",
    "10"
   ]
  },
  {
   "cell_type": "code",
   "execution_count": 3,
   "metadata": {},
   "outputs": [
    {
     "data": {
      "text/plain": [
       "4"
      ]
     },
     "execution_count": 3,
     "metadata": {},
     "output_type": "execute_result"
    }
   ],
   "source": [
    "2+2"
   ]
  },
  {
   "cell_type": "code",
   "execution_count": 4,
   "metadata": {},
   "outputs": [
    {
     "data": {
      "text/plain": [
       "0.6666666666666666"
      ]
     },
     "execution_count": 4,
     "metadata": {},
     "output_type": "execute_result"
    }
   ],
   "source": [
    "2/3"
   ]
  },
  {
   "cell_type": "code",
   "execution_count": 5,
   "metadata": {
    "collapsed": true
   },
   "outputs": [],
   "source": [
    "# Feel free to experiment with code here!\n"
   ]
  },
  {
   "cell_type": "markdown",
   "metadata": {},
   "source": [
    "## Variables"
   ]
  },
  {
   "cell_type": "markdown",
   "metadata": {},
   "source": [
    "### What is a variable?"
   ]
  },
  {
   "cell_type": "markdown",
   "metadata": {},
   "source": [
    "Unlike in algebra, a variable in Computer Science is anything that stores a value. Variables are usually modified by the programmer, and so there is nothing to \"solve for\". Try not to get too attached to the mathematical definition of variables as you move forward."
   ]
  },
  {
   "cell_type": "markdown",
   "metadata": {},
   "source": [
    "##### Advanced Explanation\n",
    "\n",
    "my_first_variable (see below) is a variable, a reserved spot in the computer memory that can be used to store some type of data. The amount of memory allocated per variable is decided by the interpreter, and in Python is defined by the type of data we assign to the variable. When we create a variable, the name of the variable, \"a\", goes on the left side of the equals sign and the data we want it to store goes on the right. If we were the Python interpreter, behind the scenes we would do the following: \n",
    "\n",
    "    1) Look at the right hand side of the =, get the user input, and observe that it is an integer.\n",
    "    2) Block off a certain chunk of memory for an integer.\n",
    "    3) Fill the data on the right-hand side of the = into the memory.\n",
    "    4) Create a variable \"a\" referencing this portion of the memory. \"a\" is called a reference.\n",
    "    \n",
    "In Python, the two basic types of data we can assign to variables are numbers and strings. Subtypes of numbers include integers, longs, and floats, while all strings are just assortments of characters. The comments above each variable definition below indicates what the respective datatype is used for. Note how in Python, you don't need to explicitly give the interpreter the type of data a certain variable points to. Rather, the interpreter assumes the datatype based on what's given."
   ]
  },
  {
   "cell_type": "markdown",
   "metadata": {},
   "source": [
    "### How do I make a variable?"
   ]
  },
  {
   "cell_type": "markdown",
   "metadata": {},
   "source": [
    "In Python, the equals sign (=) assigns a value to a variable. For example:"
   ]
  },
  {
   "cell_type": "code",
   "execution_count": null,
   "metadata": {
    "collapsed": true
   },
   "outputs": [],
   "source": [
    "#Run this cell! (Play button or ctrl+enter)\n",
    "#This code saves the value of my_first_variable as 10\n",
    "my_first_variable = 3.14"
   ]
  },
  {
   "cell_type": "markdown",
   "metadata": {},
   "source": [
    "Now, the program has saved a variable named 'x' which has a value of 3.14. Run the cell below to verify:"
   ]
  },
  {
   "cell_type": "code",
   "execution_count": null,
   "metadata": {
    "collapsed": true
   },
   "outputs": [],
   "source": [
    "my_first_variable"
   ]
  },
  {
   "cell_type": "markdown",
   "metadata": {},
   "source": [
    "If you try to get the value of a variable that hasn't been assigned one yet, you get an error (specifically that 'unassigned_variable' is not defined):"
   ]
  },
  {
   "cell_type": "code",
   "execution_count": null,
   "metadata": {
    "collapsed": true
   },
   "outputs": [],
   "source": [
    "unassigned_variable"
   ]
  },
  {
   "cell_type": "markdown",
   "metadata": {},
   "source": [
    "You can also reassign a value to a variable:"
   ]
  },
  {
   "cell_type": "code",
   "execution_count": null,
   "metadata": {
    "collapsed": true
   },
   "outputs": [],
   "source": [
    "my_first_variable = 20"
   ]
  },
  {
   "cell_type": "code",
   "execution_count": null,
   "metadata": {
    "collapsed": true
   },
   "outputs": [],
   "source": [
    "my_first_variable"
   ]
  },
  {
   "cell_type": "markdown",
   "metadata": {},
   "source": [
    "### Strings"
   ]
  },
  {
   "cell_type": "markdown",
   "metadata": {},
   "source": [
    "Variables can be more than just numbers as well!"
   ]
  },
  {
   "cell_type": "code",
   "execution_count": null,
   "metadata": {
    "collapsed": true
   },
   "outputs": [],
   "source": [
    "my_string = \"Hello World\""
   ]
  },
  {
   "cell_type": "markdown",
   "metadata": {},
   "source": [
    "my_string contains the string \"Hello World\". Numbers and strings are both what are called **datatypes**. There are many more datatypes in \n",
    "\n",
    "A string is essentially any piece of text. You mark text with quotes (single or double, just make sure they match). Run the next cell to see the value of my_string"
   ]
  },
  {
   "cell_type": "code",
   "execution_count": null,
   "metadata": {
    "collapsed": true
   },
   "outputs": [],
   "source": [
    "print(my_string)"
   ]
  },
  {
   "cell_type": "markdown",
   "metadata": {},
   "source": [
    "Note here that we use the print() function. Don't worry about exactly how it works for now, but it essentially just outputs whatever you put inside the parentheses. It's useful right now because you don't have to create another cell to output data.\n",
    "\n",
    "Note: print() can be used for all types of variables, not just strings. You also don't have to use print() to output strings in a jupyter notebook. "
   ]
  },
  {
   "cell_type": "markdown",
   "metadata": {},
   "source": [
    "Some more examples of variables and more specific variable types:"
   ]
  },
  {
   "cell_type": "code",
   "execution_count": null,
   "metadata": {
    "collapsed": true
   },
   "outputs": [],
   "source": [
    "# integer - positive or negative whole numbers, these can be as large as you want\n",
    "d = 4444\n",
    "print(d)\n",
    "print (type(d))"
   ]
  },
  {
   "cell_type": "code",
   "execution_count": null,
   "metadata": {
    "collapsed": true
   },
   "outputs": [],
   "source": [
    "# float - numbers with decimal points\n",
    "f = 4.444\n",
    "print(f)\n",
    "print (type(f))"
   ]
  },
  {
   "cell_type": "code",
   "execution_count": null,
   "metadata": {
    "collapsed": true
   },
   "outputs": [],
   "source": [
    "# string - an infinitely long chain of letters. Note the quotes surrounding the string definition.\n",
    "g = \"Hello IdeaLab!\"\n",
    "print(g)\n",
    "print (type(g))"
   ]
  },
  {
   "cell_type": "markdown",
   "metadata": {},
   "source": [
    "##### Advanced Strings #####\n",
    "In Python, certain characters have special meaning. Called \"escape characters,\" these consist of a backslash (`\\`) followed by a letter. \n",
    "For example, `\\n` creates a new line in a string. \n",
    "\n",
    "A full list can be found here: https://docs.python.org/3/reference/lexical_analysis.html (ctrl-f \"escape sequence\")"
   ]
  },
  {
   "cell_type": "code",
   "execution_count": null,
   "metadata": {
    "collapsed": true
   },
   "outputs": [],
   "source": [
    "#example:\n",
    "print(\"Hello \\n World\")"
   ]
  },
  {
   "cell_type": "markdown",
   "metadata": {},
   "source": [
    "### Operations with Numbers"
   ]
  },
  {
   "cell_type": "markdown",
   "metadata": {},
   "source": [
    "With numbers, you can use all of the basic mathematical operations:"
   ]
  },
  {
   "cell_type": "code",
   "execution_count": null,
   "metadata": {
    "collapsed": true
   },
   "outputs": [],
   "source": [
    "# the seven arithmetic operators for numbers: addition (+), subtraction (-), multiplication (*), regular division (/),\n",
    "# modulo (%), exponent (**), and floor division (//)\n",
    "\n",
    "#addition\n",
    "print(5 + 2)\n",
    "\n",
    "#subtraction\n",
    "print(5 - 2)\n",
    "\n",
    "#multiplication\n",
    "print(5 * 2)\n",
    "\n",
    "#division\n",
    "print (5 / 2)\n",
    "\n",
    "# modulo - returns the remainder when 5 is divided by 2\n",
    "print (5 % 2)\n",
    "\n",
    "# exponent - return 5 ^ 2\n",
    "print (5 ** 2)\n",
    "\n",
    "# floor division - unlike regular division, which returns a float (i.e. a decimal),\n",
    "# floor division cuts off everything after the decimal point\n",
    "\n",
    "print (5 // 2)"
   ]
  },
  {
   "cell_type": "markdown",
   "metadata": {},
   "source": [
    "You can also subsitute in variables:"
   ]
  },
  {
   "cell_type": "code",
   "execution_count": null,
   "metadata": {
    "collapsed": true
   },
   "outputs": [],
   "source": [
    "var1 = 10\n",
    "var2 = 41\n",
    "var3 = 17\n",
    "\n",
    "#You can combine variables and constants\n",
    "print(var1 * 10)\n",
    "\n",
    "#You can use two variables together\n",
    "print(var1 - var2)\n",
    "\n",
    "#You can use more than two variables together (order of operations still applies)\n",
    "print((var1 + var2) / var3)\n",
    "\n",
    "#You can even combine multiple varibles with constants!\n",
    "print(var3 * 10 / var2)\n"
   ]
  },
  {
   "cell_type": "markdown",
   "metadata": {},
   "source": [
    "Note that the values of the variables themselves don't change. We can't use these results unless we store them in a variable. Let's take a look at the following code:"
   ]
  },
  {
   "cell_type": "code",
   "execution_count": null,
   "metadata": {
    "collapsed": true
   },
   "outputs": [],
   "source": [
    "x = 10\n",
    "\n",
    "x = x + 1\n",
    "print(x)"
   ]
  },
  {
   "cell_type": "markdown",
   "metadata": {},
   "source": [
    "If `x = x + 1` was an algebraic equation, we would eliminate the `x`'s, then realize that 0 = 1 and promptly give up on the problem. However, in Computer Science, this increases the value of `x` by 1.\n",
    "\n",
    "**What's really happening here?**\n",
    "\n",
    "The single equals sign (aka the assignment operator) simply takes whatever value is on its right side, and shoves it into the variable on the left side. \n",
    "\n",
    "So let's look at the right side first: `x + 1`. \n",
    "\n",
    "Because we know that the value stored in `x` is `10` (we said it was), the right side evaluates to `10 + 1 = 11` \n",
    "\n",
    "Then, we take the 11 and save it as `x`. Now when we print `x`, it finds the stored value of 11 instead of 10."
   ]
  },
  {
   "cell_type": "markdown",
   "metadata": {},
   "source": [
    "Here are some more advanced operators stemming from the same concept:"
   ]
  },
  {
   "cell_type": "code",
   "execution_count": null,
   "metadata": {
    "collapsed": true
   },
   "outputs": [],
   "source": [
    "f = 5\n",
    "# more advanced assignment operator. Equivalent to saying f = f OPERATION VALUE, where f is the previous value of f\n",
    "\n",
    "#equivalent to f = f + 10\n",
    "f += 10 #f = 5 + 10\n",
    "print(f) #15\n",
    "\n",
    "#equivalent to f = f - 7\n",
    "f -= 7 #f = 15 - 7\n",
    "print(f) #8\n",
    "\n",
    "#equivalent to f = f * 10\n",
    "f *= 2 # f = 8 * 2\n",
    "print(f) #16\n",
    "\n",
    "#equivalent to f = f / 10\n",
    "f /= 4 # f = 16 / 4\n",
    "print(f) #4\n",
    "\n",
    "#equivalent to f = f % 3\n",
    "f %= 3 # f = 4 % 3\n",
    "print (f) #1"
   ]
  },
  {
   "cell_type": "markdown",
   "metadata": {},
   "source": [
    "\n",
    "Of course, you can throw in some additional variables here as well."
   ]
  },
  {
   "cell_type": "markdown",
   "metadata": {},
   "source": [
    "### Operations with Strings"
   ]
  },
  {
   "cell_type": "markdown",
   "metadata": {},
   "source": [
    "Similar operators exist for modifying strings. Some of the most useful operators include string splicing for accessing parts of a string, concatenation, repetition, and assignment for updating strings."
   ]
  },
  {
   "cell_type": "code",
   "execution_count": null,
   "metadata": {
    "collapsed": true
   },
   "outputs": [],
   "source": [
    "# String splicing allows us to take a section of a string. \n",
    "# To splice, put [a:b] after a string, where a and b are the indices (positions) of the start and end of the substring. \n",
    "# The start index is inclusive, while the end index is exclusive\n",
    "# Note that indices indicate the characters in a string, with the first character being the 0th index\n",
    "# For example:\n",
    "# Characters: H e l l o \n",
    "# Index:      0 1 2 3 4\n",
    "\n",
    "\n",
    "s = \"sample string\"\n",
    "print (s[0:6])  \n",
    "\n",
    "print(s[5:]) # if a or b is left out, the substring begins or ends from the first or last character, respectively\n",
    "\n",
    "# concatenate (connect) two strings together\n",
    "print (s + \" number two\") #spaces are important characters too!\n",
    "\n",
    "# repeat the same string multiple times\n",
    "print (s * 2)"
   ]
  },
  {
   "cell_type": "markdown",
   "metadata": {},
   "source": [
    "##### Advanced Operations\n",
    "One programming-specific operation is called type casting, in which we take a variable of one datatype and convert it to another."
   ]
  },
  {
   "cell_type": "code",
   "execution_count": null,
   "metadata": {
    "collapsed": true
   },
   "outputs": [],
   "source": [
    "d = 50\n",
    "\n",
    "# convert from int to str\n",
    "d = str(d)\n",
    "print(d) # appears the same, but...\n",
    "print (type(d))\n",
    "\n",
    "\n",
    "f = 5.4\n",
    "# convert from float to int. Try printing it. Note how f changes. Why?\n",
    "f = int(f)\n",
    "print(f)\n",
    "print (type(f))"
   ]
  },
  {
   "cell_type": "markdown",
   "metadata": {},
   "source": [
    "##### Advanced String Slicing"
   ]
  },
  {
   "cell_type": "markdown",
   "metadata": {},
   "source": [
    "Slices also can have a third value. This value determines how many characters to skip when selecting from the string."
   ]
  },
  {
   "cell_type": "code",
   "execution_count": null,
   "metadata": {
    "collapsed": true
   },
   "outputs": [],
   "source": [
    "# Example\n",
    "str1 = \"I really like Python\"\n",
    "print(str1[0:10:2]) #gets every other character between indices 0 and 10\n",
    "\n",
    "print(str1[15:3:-2]) #a negative third value means you traverse in the opposite direction \n",
    "# so your first value should be greater than your second\n",
    "\n",
    "print(str1[::2]) # you can also completely drop the first and second values if you simply want to go through the entire string"
   ]
  },
  {
   "cell_type": "markdown",
   "metadata": {},
   "source": [
    "## Example: Pythagorean Theorem"
   ]
  },
  {
   "cell_type": "markdown",
   "metadata": {},
   "source": [
    "Let's walk through how to programmatically solve the Pythagorean Theorem"
   ]
  },
  {
   "cell_type": "markdown",
   "metadata": {},
   "source": [
    "We first define two variables, `a` and `b`. Fill in whatever values you'd like for `a` and `b` (3 and 4 strongly recommended)"
   ]
  },
  {
   "cell_type": "code",
   "execution_count": 7,
   "metadata": {
    "collapsed": true
   },
   "outputs": [],
   "source": [
    "a = 3\n",
    "b = 4"
   ]
  },
  {
   "cell_type": "markdown",
   "metadata": {},
   "source": [
    "The Pythagorean formula states that the sum of the squares of the two legs of a right triangle equals the square of the hypotenuse, or $a^2 + b^2 = c^2$, where $a$ and $b$ are the leg lengths and $c$ is the hypotenuse length. In this case, we solve for $c$ by first using the exponentiate operator to square both variables add them together. Then, we solve for $c$ by taking the square root by raising $a^2 + b^2$ to the $\\frac{1}{2}$ power."
   ]
  },
  {
   "cell_type": "code",
   "execution_count": 8,
   "metadata": {},
   "outputs": [
    {
     "name": "stdout",
     "output_type": "stream",
     "text": [
      "The hypotenuse is: 5.0\n"
     ]
    }
   ],
   "source": [
    "c = (a**2 + b**2)**0.5\n",
    "print (\"The hypotenuse is: \"+str(c)) # using string concatenation"
   ]
  },
  {
   "cell_type": "markdown",
   "metadata": {},
   "source": [
    "Lets take a look at the triangle! Don't worry about what this code does just yet"
   ]
  },
  {
   "cell_type": "code",
   "execution_count": 10,
   "metadata": {},
   "outputs": [
    {
     "data": {
      "application/javascript": [
       "/* Put everything inside the global mpl namespace */\n",
       "window.mpl = {};\n",
       "\n",
       "\n",
       "mpl.get_websocket_type = function() {\n",
       "    if (typeof(WebSocket) !== 'undefined') {\n",
       "        return WebSocket;\n",
       "    } else if (typeof(MozWebSocket) !== 'undefined') {\n",
       "        return MozWebSocket;\n",
       "    } else {\n",
       "        alert('Your browser does not have WebSocket support.' +\n",
       "              'Please try Chrome, Safari or Firefox ≥ 6. ' +\n",
       "              'Firefox 4 and 5 are also supported but you ' +\n",
       "              'have to enable WebSockets in about:config.');\n",
       "    };\n",
       "}\n",
       "\n",
       "mpl.figure = function(figure_id, websocket, ondownload, parent_element) {\n",
       "    this.id = figure_id;\n",
       "\n",
       "    this.ws = websocket;\n",
       "\n",
       "    this.supports_binary = (this.ws.binaryType != undefined);\n",
       "\n",
       "    if (!this.supports_binary) {\n",
       "        var warnings = document.getElementById(\"mpl-warnings\");\n",
       "        if (warnings) {\n",
       "            warnings.style.display = 'block';\n",
       "            warnings.textContent = (\n",
       "                \"This browser does not support binary websocket messages. \" +\n",
       "                    \"Performance may be slow.\");\n",
       "        }\n",
       "    }\n",
       "\n",
       "    this.imageObj = new Image();\n",
       "\n",
       "    this.context = undefined;\n",
       "    this.message = undefined;\n",
       "    this.canvas = undefined;\n",
       "    this.rubberband_canvas = undefined;\n",
       "    this.rubberband_context = undefined;\n",
       "    this.format_dropdown = undefined;\n",
       "\n",
       "    this.image_mode = 'full';\n",
       "\n",
       "    this.root = $('<div/>');\n",
       "    this._root_extra_style(this.root)\n",
       "    this.root.attr('style', 'display: inline-block');\n",
       "\n",
       "    $(parent_element).append(this.root);\n",
       "\n",
       "    this._init_header(this);\n",
       "    this._init_canvas(this);\n",
       "    this._init_toolbar(this);\n",
       "\n",
       "    var fig = this;\n",
       "\n",
       "    this.waiting = false;\n",
       "\n",
       "    this.ws.onopen =  function () {\n",
       "            fig.send_message(\"supports_binary\", {value: fig.supports_binary});\n",
       "            fig.send_message(\"send_image_mode\", {});\n",
       "            if (mpl.ratio != 1) {\n",
       "                fig.send_message(\"set_dpi_ratio\", {'dpi_ratio': mpl.ratio});\n",
       "            }\n",
       "            fig.send_message(\"refresh\", {});\n",
       "        }\n",
       "\n",
       "    this.imageObj.onload = function() {\n",
       "            if (fig.image_mode == 'full') {\n",
       "                // Full images could contain transparency (where diff images\n",
       "                // almost always do), so we need to clear the canvas so that\n",
       "                // there is no ghosting.\n",
       "                fig.context.clearRect(0, 0, fig.canvas.width, fig.canvas.height);\n",
       "            }\n",
       "            fig.context.drawImage(fig.imageObj, 0, 0);\n",
       "        };\n",
       "\n",
       "    this.imageObj.onunload = function() {\n",
       "        this.ws.close();\n",
       "    }\n",
       "\n",
       "    this.ws.onmessage = this._make_on_message_function(this);\n",
       "\n",
       "    this.ondownload = ondownload;\n",
       "}\n",
       "\n",
       "mpl.figure.prototype._init_header = function() {\n",
       "    var titlebar = $(\n",
       "        '<div class=\"ui-dialog-titlebar ui-widget-header ui-corner-all ' +\n",
       "        'ui-helper-clearfix\"/>');\n",
       "    var titletext = $(\n",
       "        '<div class=\"ui-dialog-title\" style=\"width: 100%; ' +\n",
       "        'text-align: center; padding: 3px;\"/>');\n",
       "    titlebar.append(titletext)\n",
       "    this.root.append(titlebar);\n",
       "    this.header = titletext[0];\n",
       "}\n",
       "\n",
       "\n",
       "\n",
       "mpl.figure.prototype._canvas_extra_style = function(canvas_div) {\n",
       "\n",
       "}\n",
       "\n",
       "\n",
       "mpl.figure.prototype._root_extra_style = function(canvas_div) {\n",
       "\n",
       "}\n",
       "\n",
       "mpl.figure.prototype._init_canvas = function() {\n",
       "    var fig = this;\n",
       "\n",
       "    var canvas_div = $('<div/>');\n",
       "\n",
       "    canvas_div.attr('style', 'position: relative; clear: both; outline: 0');\n",
       "\n",
       "    function canvas_keyboard_event(event) {\n",
       "        return fig.key_event(event, event['data']);\n",
       "    }\n",
       "\n",
       "    canvas_div.keydown('key_press', canvas_keyboard_event);\n",
       "    canvas_div.keyup('key_release', canvas_keyboard_event);\n",
       "    this.canvas_div = canvas_div\n",
       "    this._canvas_extra_style(canvas_div)\n",
       "    this.root.append(canvas_div);\n",
       "\n",
       "    var canvas = $('<canvas/>');\n",
       "    canvas.addClass('mpl-canvas');\n",
       "    canvas.attr('style', \"left: 0; top: 0; z-index: 0; outline: 0\")\n",
       "\n",
       "    this.canvas = canvas[0];\n",
       "    this.context = canvas[0].getContext(\"2d\");\n",
       "\n",
       "    var backingStore = this.context.backingStorePixelRatio ||\n",
       "\tthis.context.webkitBackingStorePixelRatio ||\n",
       "\tthis.context.mozBackingStorePixelRatio ||\n",
       "\tthis.context.msBackingStorePixelRatio ||\n",
       "\tthis.context.oBackingStorePixelRatio ||\n",
       "\tthis.context.backingStorePixelRatio || 1;\n",
       "\n",
       "    mpl.ratio = (window.devicePixelRatio || 1) / backingStore;\n",
       "\n",
       "    var rubberband = $('<canvas/>');\n",
       "    rubberband.attr('style', \"position: absolute; left: 0; top: 0; z-index: 1;\")\n",
       "\n",
       "    var pass_mouse_events = true;\n",
       "\n",
       "    canvas_div.resizable({\n",
       "        start: function(event, ui) {\n",
       "            pass_mouse_events = false;\n",
       "        },\n",
       "        resize: function(event, ui) {\n",
       "            fig.request_resize(ui.size.width, ui.size.height);\n",
       "        },\n",
       "        stop: function(event, ui) {\n",
       "            pass_mouse_events = true;\n",
       "            fig.request_resize(ui.size.width, ui.size.height);\n",
       "        },\n",
       "    });\n",
       "\n",
       "    function mouse_event_fn(event) {\n",
       "        if (pass_mouse_events)\n",
       "            return fig.mouse_event(event, event['data']);\n",
       "    }\n",
       "\n",
       "    rubberband.mousedown('button_press', mouse_event_fn);\n",
       "    rubberband.mouseup('button_release', mouse_event_fn);\n",
       "    // Throttle sequential mouse events to 1 every 20ms.\n",
       "    rubberband.mousemove('motion_notify', mouse_event_fn);\n",
       "\n",
       "    rubberband.mouseenter('figure_enter', mouse_event_fn);\n",
       "    rubberband.mouseleave('figure_leave', mouse_event_fn);\n",
       "\n",
       "    canvas_div.on(\"wheel\", function (event) {\n",
       "        event = event.originalEvent;\n",
       "        event['data'] = 'scroll'\n",
       "        if (event.deltaY < 0) {\n",
       "            event.step = 1;\n",
       "        } else {\n",
       "            event.step = -1;\n",
       "        }\n",
       "        mouse_event_fn(event);\n",
       "    });\n",
       "\n",
       "    canvas_div.append(canvas);\n",
       "    canvas_div.append(rubberband);\n",
       "\n",
       "    this.rubberband = rubberband;\n",
       "    this.rubberband_canvas = rubberband[0];\n",
       "    this.rubberband_context = rubberband[0].getContext(\"2d\");\n",
       "    this.rubberband_context.strokeStyle = \"#000000\";\n",
       "\n",
       "    this._resize_canvas = function(width, height) {\n",
       "        // Keep the size of the canvas, canvas container, and rubber band\n",
       "        // canvas in synch.\n",
       "        canvas_div.css('width', width)\n",
       "        canvas_div.css('height', height)\n",
       "\n",
       "        canvas.attr('width', width * mpl.ratio);\n",
       "        canvas.attr('height', height * mpl.ratio);\n",
       "        canvas.attr('style', 'width: ' + width + 'px; height: ' + height + 'px;');\n",
       "\n",
       "        rubberband.attr('width', width);\n",
       "        rubberband.attr('height', height);\n",
       "    }\n",
       "\n",
       "    // Set the figure to an initial 600x600px, this will subsequently be updated\n",
       "    // upon first draw.\n",
       "    this._resize_canvas(600, 600);\n",
       "\n",
       "    // Disable right mouse context menu.\n",
       "    $(this.rubberband_canvas).bind(\"contextmenu\",function(e){\n",
       "        return false;\n",
       "    });\n",
       "\n",
       "    function set_focus () {\n",
       "        canvas.focus();\n",
       "        canvas_div.focus();\n",
       "    }\n",
       "\n",
       "    window.setTimeout(set_focus, 100);\n",
       "}\n",
       "\n",
       "mpl.figure.prototype._init_toolbar = function() {\n",
       "    var fig = this;\n",
       "\n",
       "    var nav_element = $('<div/>')\n",
       "    nav_element.attr('style', 'width: 100%');\n",
       "    this.root.append(nav_element);\n",
       "\n",
       "    // Define a callback function for later on.\n",
       "    function toolbar_event(event) {\n",
       "        return fig.toolbar_button_onclick(event['data']);\n",
       "    }\n",
       "    function toolbar_mouse_event(event) {\n",
       "        return fig.toolbar_button_onmouseover(event['data']);\n",
       "    }\n",
       "\n",
       "    for(var toolbar_ind in mpl.toolbar_items) {\n",
       "        var name = mpl.toolbar_items[toolbar_ind][0];\n",
       "        var tooltip = mpl.toolbar_items[toolbar_ind][1];\n",
       "        var image = mpl.toolbar_items[toolbar_ind][2];\n",
       "        var method_name = mpl.toolbar_items[toolbar_ind][3];\n",
       "\n",
       "        if (!name) {\n",
       "            // put a spacer in here.\n",
       "            continue;\n",
       "        }\n",
       "        var button = $('<button/>');\n",
       "        button.addClass('ui-button ui-widget ui-state-default ui-corner-all ' +\n",
       "                        'ui-button-icon-only');\n",
       "        button.attr('role', 'button');\n",
       "        button.attr('aria-disabled', 'false');\n",
       "        button.click(method_name, toolbar_event);\n",
       "        button.mouseover(tooltip, toolbar_mouse_event);\n",
       "\n",
       "        var icon_img = $('<span/>');\n",
       "        icon_img.addClass('ui-button-icon-primary ui-icon');\n",
       "        icon_img.addClass(image);\n",
       "        icon_img.addClass('ui-corner-all');\n",
       "\n",
       "        var tooltip_span = $('<span/>');\n",
       "        tooltip_span.addClass('ui-button-text');\n",
       "        tooltip_span.html(tooltip);\n",
       "\n",
       "        button.append(icon_img);\n",
       "        button.append(tooltip_span);\n",
       "\n",
       "        nav_element.append(button);\n",
       "    }\n",
       "\n",
       "    var fmt_picker_span = $('<span/>');\n",
       "\n",
       "    var fmt_picker = $('<select/>');\n",
       "    fmt_picker.addClass('mpl-toolbar-option ui-widget ui-widget-content');\n",
       "    fmt_picker_span.append(fmt_picker);\n",
       "    nav_element.append(fmt_picker_span);\n",
       "    this.format_dropdown = fmt_picker[0];\n",
       "\n",
       "    for (var ind in mpl.extensions) {\n",
       "        var fmt = mpl.extensions[ind];\n",
       "        var option = $(\n",
       "            '<option/>', {selected: fmt === mpl.default_extension}).html(fmt);\n",
       "        fmt_picker.append(option)\n",
       "    }\n",
       "\n",
       "    // Add hover states to the ui-buttons\n",
       "    $( \".ui-button\" ).hover(\n",
       "        function() { $(this).addClass(\"ui-state-hover\");},\n",
       "        function() { $(this).removeClass(\"ui-state-hover\");}\n",
       "    );\n",
       "\n",
       "    var status_bar = $('<span class=\"mpl-message\"/>');\n",
       "    nav_element.append(status_bar);\n",
       "    this.message = status_bar[0];\n",
       "}\n",
       "\n",
       "mpl.figure.prototype.request_resize = function(x_pixels, y_pixels) {\n",
       "    // Request matplotlib to resize the figure. Matplotlib will then trigger a resize in the client,\n",
       "    // which will in turn request a refresh of the image.\n",
       "    this.send_message('resize', {'width': x_pixels, 'height': y_pixels});\n",
       "}\n",
       "\n",
       "mpl.figure.prototype.send_message = function(type, properties) {\n",
       "    properties['type'] = type;\n",
       "    properties['figure_id'] = this.id;\n",
       "    this.ws.send(JSON.stringify(properties));\n",
       "}\n",
       "\n",
       "mpl.figure.prototype.send_draw_message = function() {\n",
       "    if (!this.waiting) {\n",
       "        this.waiting = true;\n",
       "        this.ws.send(JSON.stringify({type: \"draw\", figure_id: this.id}));\n",
       "    }\n",
       "}\n",
       "\n",
       "\n",
       "mpl.figure.prototype.handle_save = function(fig, msg) {\n",
       "    var format_dropdown = fig.format_dropdown;\n",
       "    var format = format_dropdown.options[format_dropdown.selectedIndex].value;\n",
       "    fig.ondownload(fig, format);\n",
       "}\n",
       "\n",
       "\n",
       "mpl.figure.prototype.handle_resize = function(fig, msg) {\n",
       "    var size = msg['size'];\n",
       "    if (size[0] != fig.canvas.width || size[1] != fig.canvas.height) {\n",
       "        fig._resize_canvas(size[0], size[1]);\n",
       "        fig.send_message(\"refresh\", {});\n",
       "    };\n",
       "}\n",
       "\n",
       "mpl.figure.prototype.handle_rubberband = function(fig, msg) {\n",
       "    var x0 = msg['x0'] / mpl.ratio;\n",
       "    var y0 = (fig.canvas.height - msg['y0']) / mpl.ratio;\n",
       "    var x1 = msg['x1'] / mpl.ratio;\n",
       "    var y1 = (fig.canvas.height - msg['y1']) / mpl.ratio;\n",
       "    x0 = Math.floor(x0) + 0.5;\n",
       "    y0 = Math.floor(y0) + 0.5;\n",
       "    x1 = Math.floor(x1) + 0.5;\n",
       "    y1 = Math.floor(y1) + 0.5;\n",
       "    var min_x = Math.min(x0, x1);\n",
       "    var min_y = Math.min(y0, y1);\n",
       "    var width = Math.abs(x1 - x0);\n",
       "    var height = Math.abs(y1 - y0);\n",
       "\n",
       "    fig.rubberband_context.clearRect(\n",
       "        0, 0, fig.canvas.width, fig.canvas.height);\n",
       "\n",
       "    fig.rubberband_context.strokeRect(min_x, min_y, width, height);\n",
       "}\n",
       "\n",
       "mpl.figure.prototype.handle_figure_label = function(fig, msg) {\n",
       "    // Updates the figure title.\n",
       "    fig.header.textContent = msg['label'];\n",
       "}\n",
       "\n",
       "mpl.figure.prototype.handle_cursor = function(fig, msg) {\n",
       "    var cursor = msg['cursor'];\n",
       "    switch(cursor)\n",
       "    {\n",
       "    case 0:\n",
       "        cursor = 'pointer';\n",
       "        break;\n",
       "    case 1:\n",
       "        cursor = 'default';\n",
       "        break;\n",
       "    case 2:\n",
       "        cursor = 'crosshair';\n",
       "        break;\n",
       "    case 3:\n",
       "        cursor = 'move';\n",
       "        break;\n",
       "    }\n",
       "    fig.rubberband_canvas.style.cursor = cursor;\n",
       "}\n",
       "\n",
       "mpl.figure.prototype.handle_message = function(fig, msg) {\n",
       "    fig.message.textContent = msg['message'];\n",
       "}\n",
       "\n",
       "mpl.figure.prototype.handle_draw = function(fig, msg) {\n",
       "    // Request the server to send over a new figure.\n",
       "    fig.send_draw_message();\n",
       "}\n",
       "\n",
       "mpl.figure.prototype.handle_image_mode = function(fig, msg) {\n",
       "    fig.image_mode = msg['mode'];\n",
       "}\n",
       "\n",
       "mpl.figure.prototype.updated_canvas_event = function() {\n",
       "    // Called whenever the canvas gets updated.\n",
       "    this.send_message(\"ack\", {});\n",
       "}\n",
       "\n",
       "// A function to construct a web socket function for onmessage handling.\n",
       "// Called in the figure constructor.\n",
       "mpl.figure.prototype._make_on_message_function = function(fig) {\n",
       "    return function socket_on_message(evt) {\n",
       "        if (evt.data instanceof Blob) {\n",
       "            /* FIXME: We get \"Resource interpreted as Image but\n",
       "             * transferred with MIME type text/plain:\" errors on\n",
       "             * Chrome.  But how to set the MIME type?  It doesn't seem\n",
       "             * to be part of the websocket stream */\n",
       "            evt.data.type = \"image/png\";\n",
       "\n",
       "            /* Free the memory for the previous frames */\n",
       "            if (fig.imageObj.src) {\n",
       "                (window.URL || window.webkitURL).revokeObjectURL(\n",
       "                    fig.imageObj.src);\n",
       "            }\n",
       "\n",
       "            fig.imageObj.src = (window.URL || window.webkitURL).createObjectURL(\n",
       "                evt.data);\n",
       "            fig.updated_canvas_event();\n",
       "            fig.waiting = false;\n",
       "            return;\n",
       "        }\n",
       "        else if (typeof evt.data === 'string' && evt.data.slice(0, 21) == \"data:image/png;base64\") {\n",
       "            fig.imageObj.src = evt.data;\n",
       "            fig.updated_canvas_event();\n",
       "            fig.waiting = false;\n",
       "            return;\n",
       "        }\n",
       "\n",
       "        var msg = JSON.parse(evt.data);\n",
       "        var msg_type = msg['type'];\n",
       "\n",
       "        // Call the  \"handle_{type}\" callback, which takes\n",
       "        // the figure and JSON message as its only arguments.\n",
       "        try {\n",
       "            var callback = fig[\"handle_\" + msg_type];\n",
       "        } catch (e) {\n",
       "            console.log(\"No handler for the '\" + msg_type + \"' message type: \", msg);\n",
       "            return;\n",
       "        }\n",
       "\n",
       "        if (callback) {\n",
       "            try {\n",
       "                // console.log(\"Handling '\" + msg_type + \"' message: \", msg);\n",
       "                callback(fig, msg);\n",
       "            } catch (e) {\n",
       "                console.log(\"Exception inside the 'handler_\" + msg_type + \"' callback:\", e, e.stack, msg);\n",
       "            }\n",
       "        }\n",
       "    };\n",
       "}\n",
       "\n",
       "// from http://stackoverflow.com/questions/1114465/getting-mouse-location-in-canvas\n",
       "mpl.findpos = function(e) {\n",
       "    //this section is from http://www.quirksmode.org/js/events_properties.html\n",
       "    var targ;\n",
       "    if (!e)\n",
       "        e = window.event;\n",
       "    if (e.target)\n",
       "        targ = e.target;\n",
       "    else if (e.srcElement)\n",
       "        targ = e.srcElement;\n",
       "    if (targ.nodeType == 3) // defeat Safari bug\n",
       "        targ = targ.parentNode;\n",
       "\n",
       "    // jQuery normalizes the pageX and pageY\n",
       "    // pageX,Y are the mouse positions relative to the document\n",
       "    // offset() returns the position of the element relative to the document\n",
       "    var x = e.pageX - $(targ).offset().left;\n",
       "    var y = e.pageY - $(targ).offset().top;\n",
       "\n",
       "    return {\"x\": x, \"y\": y};\n",
       "};\n",
       "\n",
       "/*\n",
       " * return a copy of an object with only non-object keys\n",
       " * we need this to avoid circular references\n",
       " * http://stackoverflow.com/a/24161582/3208463\n",
       " */\n",
       "function simpleKeys (original) {\n",
       "  return Object.keys(original).reduce(function (obj, key) {\n",
       "    if (typeof original[key] !== 'object')\n",
       "        obj[key] = original[key]\n",
       "    return obj;\n",
       "  }, {});\n",
       "}\n",
       "\n",
       "mpl.figure.prototype.mouse_event = function(event, name) {\n",
       "    var canvas_pos = mpl.findpos(event)\n",
       "\n",
       "    if (name === 'button_press')\n",
       "    {\n",
       "        this.canvas.focus();\n",
       "        this.canvas_div.focus();\n",
       "    }\n",
       "\n",
       "    var x = canvas_pos.x * mpl.ratio;\n",
       "    var y = canvas_pos.y * mpl.ratio;\n",
       "\n",
       "    this.send_message(name, {x: x, y: y, button: event.button,\n",
       "                             step: event.step,\n",
       "                             guiEvent: simpleKeys(event)});\n",
       "\n",
       "    /* This prevents the web browser from automatically changing to\n",
       "     * the text insertion cursor when the button is pressed.  We want\n",
       "     * to control all of the cursor setting manually through the\n",
       "     * 'cursor' event from matplotlib */\n",
       "    event.preventDefault();\n",
       "    return false;\n",
       "}\n",
       "\n",
       "mpl.figure.prototype._key_event_extra = function(event, name) {\n",
       "    // Handle any extra behaviour associated with a key event\n",
       "}\n",
       "\n",
       "mpl.figure.prototype.key_event = function(event, name) {\n",
       "\n",
       "    // Prevent repeat events\n",
       "    if (name == 'key_press')\n",
       "    {\n",
       "        if (event.which === this._key)\n",
       "            return;\n",
       "        else\n",
       "            this._key = event.which;\n",
       "    }\n",
       "    if (name == 'key_release')\n",
       "        this._key = null;\n",
       "\n",
       "    var value = '';\n",
       "    if (event.ctrlKey && event.which != 17)\n",
       "        value += \"ctrl+\";\n",
       "    if (event.altKey && event.which != 18)\n",
       "        value += \"alt+\";\n",
       "    if (event.shiftKey && event.which != 16)\n",
       "        value += \"shift+\";\n",
       "\n",
       "    value += 'k';\n",
       "    value += event.which.toString();\n",
       "\n",
       "    this._key_event_extra(event, name);\n",
       "\n",
       "    this.send_message(name, {key: value,\n",
       "                             guiEvent: simpleKeys(event)});\n",
       "    return false;\n",
       "}\n",
       "\n",
       "mpl.figure.prototype.toolbar_button_onclick = function(name) {\n",
       "    if (name == 'download') {\n",
       "        this.handle_save(this, null);\n",
       "    } else {\n",
       "        this.send_message(\"toolbar_button\", {name: name});\n",
       "    }\n",
       "};\n",
       "\n",
       "mpl.figure.prototype.toolbar_button_onmouseover = function(tooltip) {\n",
       "    this.message.textContent = tooltip;\n",
       "};\n",
       "mpl.toolbar_items = [[\"Home\", \"Reset original view\", \"fa fa-home icon-home\", \"home\"], [\"Back\", \"Back to  previous view\", \"fa fa-arrow-left icon-arrow-left\", \"back\"], [\"Forward\", \"Forward to next view\", \"fa fa-arrow-right icon-arrow-right\", \"forward\"], [\"\", \"\", \"\", \"\"], [\"Pan\", \"Pan axes with left mouse, zoom with right\", \"fa fa-arrows icon-move\", \"pan\"], [\"Zoom\", \"Zoom to rectangle\", \"fa fa-square-o icon-check-empty\", \"zoom\"], [\"\", \"\", \"\", \"\"], [\"Download\", \"Download plot\", \"fa fa-floppy-o icon-save\", \"download\"]];\n",
       "\n",
       "mpl.extensions = [\"eps\", \"jpeg\", \"pdf\", \"png\", \"ps\", \"raw\", \"svg\", \"tif\"];\n",
       "\n",
       "mpl.default_extension = \"png\";var comm_websocket_adapter = function(comm) {\n",
       "    // Create a \"websocket\"-like object which calls the given IPython comm\n",
       "    // object with the appropriate methods. Currently this is a non binary\n",
       "    // socket, so there is still some room for performance tuning.\n",
       "    var ws = {};\n",
       "\n",
       "    ws.close = function() {\n",
       "        comm.close()\n",
       "    };\n",
       "    ws.send = function(m) {\n",
       "        //console.log('sending', m);\n",
       "        comm.send(m);\n",
       "    };\n",
       "    // Register the callback with on_msg.\n",
       "    comm.on_msg(function(msg) {\n",
       "        //console.log('receiving', msg['content']['data'], msg);\n",
       "        // Pass the mpl event to the overriden (by mpl) onmessage function.\n",
       "        ws.onmessage(msg['content']['data'])\n",
       "    });\n",
       "    return ws;\n",
       "}\n",
       "\n",
       "mpl.mpl_figure_comm = function(comm, msg) {\n",
       "    // This is the function which gets called when the mpl process\n",
       "    // starts-up an IPython Comm through the \"matplotlib\" channel.\n",
       "\n",
       "    var id = msg.content.data.id;\n",
       "    // Get hold of the div created by the display call when the Comm\n",
       "    // socket was opened in Python.\n",
       "    var element = $(\"#\" + id);\n",
       "    var ws_proxy = comm_websocket_adapter(comm)\n",
       "\n",
       "    function ondownload(figure, format) {\n",
       "        window.open(figure.imageObj.src);\n",
       "    }\n",
       "\n",
       "    var fig = new mpl.figure(id, ws_proxy,\n",
       "                           ondownload,\n",
       "                           element.get(0));\n",
       "\n",
       "    // Call onopen now - mpl needs it, as it is assuming we've passed it a real\n",
       "    // web socket which is closed, not our websocket->open comm proxy.\n",
       "    ws_proxy.onopen();\n",
       "\n",
       "    fig.parent_element = element.get(0);\n",
       "    fig.cell_info = mpl.find_output_cell(\"<div id='\" + id + \"'></div>\");\n",
       "    if (!fig.cell_info) {\n",
       "        console.error(\"Failed to find cell for figure\", id, fig);\n",
       "        return;\n",
       "    }\n",
       "\n",
       "    var output_index = fig.cell_info[2]\n",
       "    var cell = fig.cell_info[0];\n",
       "\n",
       "};\n",
       "\n",
       "mpl.figure.prototype.handle_close = function(fig, msg) {\n",
       "    var width = fig.canvas.width/mpl.ratio\n",
       "    fig.root.unbind('remove')\n",
       "\n",
       "    // Update the output cell to use the data from the current canvas.\n",
       "    fig.push_to_output();\n",
       "    var dataURL = fig.canvas.toDataURL();\n",
       "    // Re-enable the keyboard manager in IPython - without this line, in FF,\n",
       "    // the notebook keyboard shortcuts fail.\n",
       "    IPython.keyboard_manager.enable()\n",
       "    $(fig.parent_element).html('<img src=\"' + dataURL + '\" width=\"' + width + '\">');\n",
       "    fig.close_ws(fig, msg);\n",
       "}\n",
       "\n",
       "mpl.figure.prototype.close_ws = function(fig, msg){\n",
       "    fig.send_message('closing', msg);\n",
       "    // fig.ws.close()\n",
       "}\n",
       "\n",
       "mpl.figure.prototype.push_to_output = function(remove_interactive) {\n",
       "    // Turn the data on the canvas into data in the output cell.\n",
       "    var width = this.canvas.width/mpl.ratio\n",
       "    var dataURL = this.canvas.toDataURL();\n",
       "    this.cell_info[1]['text/html'] = '<img src=\"' + dataURL + '\" width=\"' + width + '\">';\n",
       "}\n",
       "\n",
       "mpl.figure.prototype.updated_canvas_event = function() {\n",
       "    // Tell IPython that the notebook contents must change.\n",
       "    IPython.notebook.set_dirty(true);\n",
       "    this.send_message(\"ack\", {});\n",
       "    var fig = this;\n",
       "    // Wait a second, then push the new image to the DOM so\n",
       "    // that it is saved nicely (might be nice to debounce this).\n",
       "    setTimeout(function () { fig.push_to_output() }, 1000);\n",
       "}\n",
       "\n",
       "mpl.figure.prototype._init_toolbar = function() {\n",
       "    var fig = this;\n",
       "\n",
       "    var nav_element = $('<div/>')\n",
       "    nav_element.attr('style', 'width: 100%');\n",
       "    this.root.append(nav_element);\n",
       "\n",
       "    // Define a callback function for later on.\n",
       "    function toolbar_event(event) {\n",
       "        return fig.toolbar_button_onclick(event['data']);\n",
       "    }\n",
       "    function toolbar_mouse_event(event) {\n",
       "        return fig.toolbar_button_onmouseover(event['data']);\n",
       "    }\n",
       "\n",
       "    for(var toolbar_ind in mpl.toolbar_items){\n",
       "        var name = mpl.toolbar_items[toolbar_ind][0];\n",
       "        var tooltip = mpl.toolbar_items[toolbar_ind][1];\n",
       "        var image = mpl.toolbar_items[toolbar_ind][2];\n",
       "        var method_name = mpl.toolbar_items[toolbar_ind][3];\n",
       "\n",
       "        if (!name) { continue; };\n",
       "\n",
       "        var button = $('<button class=\"btn btn-default\" href=\"#\" title=\"' + name + '\"><i class=\"fa ' + image + ' fa-lg\"></i></button>');\n",
       "        button.click(method_name, toolbar_event);\n",
       "        button.mouseover(tooltip, toolbar_mouse_event);\n",
       "        nav_element.append(button);\n",
       "    }\n",
       "\n",
       "    // Add the status bar.\n",
       "    var status_bar = $('<span class=\"mpl-message\" style=\"text-align:right; float: right;\"/>');\n",
       "    nav_element.append(status_bar);\n",
       "    this.message = status_bar[0];\n",
       "\n",
       "    // Add the close button to the window.\n",
       "    var buttongrp = $('<div class=\"btn-group inline pull-right\"></div>');\n",
       "    var button = $('<button class=\"btn btn-mini btn-primary\" href=\"#\" title=\"Stop Interaction\"><i class=\"fa fa-power-off icon-remove icon-large\"></i></button>');\n",
       "    button.click(function (evt) { fig.handle_close(fig, {}); } );\n",
       "    button.mouseover('Stop Interaction', toolbar_mouse_event);\n",
       "    buttongrp.append(button);\n",
       "    var titlebar = this.root.find($('.ui-dialog-titlebar'));\n",
       "    titlebar.prepend(buttongrp);\n",
       "}\n",
       "\n",
       "mpl.figure.prototype._root_extra_style = function(el){\n",
       "    var fig = this\n",
       "    el.on(\"remove\", function(){\n",
       "\tfig.close_ws(fig, {});\n",
       "    });\n",
       "}\n",
       "\n",
       "mpl.figure.prototype._canvas_extra_style = function(el){\n",
       "    // this is important to make the div 'focusable\n",
       "    el.attr('tabindex', 0)\n",
       "    // reach out to IPython and tell the keyboard manager to turn it's self\n",
       "    // off when our div gets focus\n",
       "\n",
       "    // location in version 3\n",
       "    if (IPython.notebook.keyboard_manager) {\n",
       "        IPython.notebook.keyboard_manager.register_events(el);\n",
       "    }\n",
       "    else {\n",
       "        // location in version 2\n",
       "        IPython.keyboard_manager.register_events(el);\n",
       "    }\n",
       "\n",
       "}\n",
       "\n",
       "mpl.figure.prototype._key_event_extra = function(event, name) {\n",
       "    var manager = IPython.notebook.keyboard_manager;\n",
       "    if (!manager)\n",
       "        manager = IPython.keyboard_manager;\n",
       "\n",
       "    // Check for shift+enter\n",
       "    if (event.shiftKey && event.which == 13) {\n",
       "        this.canvas_div.blur();\n",
       "        // select the cell after this one\n",
       "        var index = IPython.notebook.find_cell_index(this.cell_info[0]);\n",
       "        IPython.notebook.select(index + 1);\n",
       "    }\n",
       "}\n",
       "\n",
       "mpl.figure.prototype.handle_save = function(fig, msg) {\n",
       "    fig.ondownload(fig, null);\n",
       "}\n",
       "\n",
       "\n",
       "mpl.find_output_cell = function(html_output) {\n",
       "    // Return the cell and output element which can be found *uniquely* in the notebook.\n",
       "    // Note - this is a bit hacky, but it is done because the \"notebook_saving.Notebook\"\n",
       "    // IPython event is triggered only after the cells have been serialised, which for\n",
       "    // our purposes (turning an active figure into a static one), is too late.\n",
       "    var cells = IPython.notebook.get_cells();\n",
       "    var ncells = cells.length;\n",
       "    for (var i=0; i<ncells; i++) {\n",
       "        var cell = cells[i];\n",
       "        if (cell.cell_type === 'code'){\n",
       "            for (var j=0; j<cell.output_area.outputs.length; j++) {\n",
       "                var data = cell.output_area.outputs[j];\n",
       "                if (data.data) {\n",
       "                    // IPython >= 3 moved mimebundle to data attribute of output\n",
       "                    data = data.data;\n",
       "                }\n",
       "                if (data['text/html'] == html_output) {\n",
       "                    return [cell, data, j];\n",
       "                }\n",
       "            }\n",
       "        }\n",
       "    }\n",
       "}\n",
       "\n",
       "// Register the function which deals with the matplotlib target/channel.\n",
       "// The kernel may be null if the page has been refreshed.\n",
       "if (IPython.notebook.kernel != null) {\n",
       "    IPython.notebook.kernel.comm_manager.register_target('matplotlib', mpl.mpl_figure_comm);\n",
       "}\n"
      ],
      "text/plain": [
       "<IPython.core.display.Javascript object>"
      ]
     },
     "metadata": {},
     "output_type": "display_data"
    },
    {
     "data": {
      "text/html": [
       "<img src=\"data:image/png;base64,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\" width=\"640\">"
      ],
      "text/plain": [
       "<IPython.core.display.HTML object>"
      ]
     },
     "metadata": {},
     "output_type": "display_data"
    },
    {
     "data": {
      "text/plain": [
       "[<matplotlib.lines.Line2D at 0x26ef033ff60>]"
      ]
     },
     "execution_count": 10,
     "metadata": {},
     "output_type": "execute_result"
    }
   ],
   "source": [
    "import matplotlib.pyplot as plt\n",
    "%matplotlib notebook\n",
    "plt.plot([0, a],[0, 0])\n",
    "plt.plot([0, 0],[b, 0])\n",
    "plt.plot([0, a],[b, 0])"
   ]
  },
  {
   "cell_type": "markdown",
   "metadata": {},
   "source": [
    "# Problem Set 1"
   ]
  },
  {
   "cell_type": "markdown",
   "metadata": {},
   "source": [
    "If you have any questions about problems or problem ideas, please contact anyone on the Dev Team through whatever communications service is convenient. \n",
    "\n",
    "_Some problems sourced from Beaverworks Summer Institute and KTBYTE Computer Science Academy_"
   ]
  },
  {
   "cell_type": "markdown",
   "metadata": {},
   "source": [
    "1.1\\. Create a variable `x`, set it equal to 7.3, and print it out"
   ]
  },
  {
   "cell_type": "code",
   "execution_count": null,
   "metadata": {
    "collapsed": true
   },
   "outputs": [],
   "source": [
    "# YOUR CODE HERE #"
   ]
  },
  {
   "cell_type": "markdown",
   "metadata": {},
   "source": [
    "1.2\\. Create a variable `name`, set it equal to your name, and print it out"
   ]
  },
  {
   "cell_type": "code",
   "execution_count": null,
   "metadata": {
    "collapsed": true
   },
   "outputs": [],
   "source": [
    "# YOUR CODE HERE #"
   ]
  },
  {
   "cell_type": "markdown",
   "metadata": {},
   "source": [
    "1.3\\. In 1,487 regular season hockey games Wayne Gretzky scored 2,857 points. Print his points per game.\n"
   ]
  },
  {
   "cell_type": "code",
   "execution_count": null,
   "metadata": {
    "collapsed": true
   },
   "outputs": [],
   "source": [
    "# YOUR CODE HERE #"
   ]
  },
  {
   "cell_type": "markdown",
   "metadata": {},
   "source": [
    "1.4\\. In 1781 regular season hockey games Jaromir Jagr has scored 1914 points. What is the difference between Jagr's points per game and Gretzky's points per game?"
   ]
  },
  {
   "cell_type": "code",
   "execution_count": null,
   "metadata": {
    "collapsed": true
   },
   "outputs": [],
   "source": [
    "# YOUR CODE HERE #"
   ]
  },
  {
   "cell_type": "markdown",
   "metadata": {},
   "source": [
    "1.5\\. Concatenate these two strings and assign them to a new variable called `concat`, then print it out."
   ]
  },
  {
   "cell_type": "code",
   "execution_count": null,
   "metadata": {
    "collapsed": true
   },
   "outputs": [],
   "source": [
    "# DON'T MODIFY #\n",
    "string1 = \"Foo\"\n",
    "string2 = \"Bar\"\n",
    "\n",
    "# YOUR CODE HERE #"
   ]
  },
  {
   "cell_type": "markdown",
   "metadata": {
    "collapsed": true
   },
   "source": [
    "1.6\\. Create a variable, x, with the string value \"I'm a string, hear me roar!\" assigned to it. Now print out the last 13 characters contained in x by using a slice."
   ]
  },
  {
   "cell_type": "code",
   "execution_count": null,
   "metadata": {
    "collapsed": true
   },
   "outputs": [],
   "source": [
    "# YOUR CODE HERE #"
   ]
  },
  {
   "cell_type": "markdown",
   "metadata": {},
   "source": [
    "1.7\\. Given variables `a`, `b`, and `c`, solve for x in a quadratic equation of the form $ax^2 + bx + c = 0$\n",
    "\n",
    "NOTE: The quadratic formula is $x = \\frac{-b \\pm \\sqrt{b^2 - 4ac}}{2a} $ (Only give one of the roots, don't bother with the plus or minus)\n"
   ]
  },
  {
   "cell_type": "code",
   "execution_count": null,
   "metadata": {
    "collapsed": true
   },
   "outputs": [],
   "source": [
    "# DON'T MODIFY #\n",
    "a = 1\n",
    "b = 2\n",
    "c = -15\n",
    "\n",
    "# YOUR CODE HERE #\n"
   ]
  },
  {
   "cell_type": "markdown",
   "metadata": {},
   "source": [
    "1.8\\. Based on the Pythagorean Theorem code from above, modify the objective so that instead of calculating c from a and b, calculate b given a and c as input. For example, if `a = 3` and `c = 5`, your code should output that `b = 4`."
   ]
  },
  {
   "cell_type": "code",
   "execution_count": null,
   "metadata": {
    "collapsed": true
   },
   "outputs": [],
   "source": [
    "#fill these in\n",
    "a = ?? \n",
    "c = ??\n",
    "\n",
    "# YOUR CODE HERE #:\n",
    "#define variable b\n",
    "\n",
    "print(\"b is: \"+str(b))"
   ]
  },
  {
   "cell_type": "markdown",
   "metadata": {},
   "source": [
    "1.9\\. Compare the Python assignment operators to the equals sign in math. For example, if you solved $ x = x^2 $ algebraically, you'd find that $x = 0, 1$ . On the other hand, if we wrote `x = x**2` in Python, what would it do?"
   ]
  },
  {
   "cell_type": "code",
   "execution_count": null,
   "metadata": {
    "collapsed": true
   },
   "outputs": [],
   "source": [
    "# ANSWER HERE #"
   ]
  },
  {
   "cell_type": "markdown",
   "metadata": {},
   "source": [
    "### Advanced Problem Set"
   ]
  },
  {
   "cell_type": "markdown",
   "metadata": {},
   "source": [
    "1.10\\. Print the variable `concat` that you created in Problem 1.6 ten times, each separated by a new line. This is possible to do in one line"
   ]
  },
  {
   "cell_type": "code",
   "execution_count": null,
   "metadata": {
    "collapsed": true
   },
   "outputs": [],
   "source": [
    "# YOUR CODE HERE #"
   ]
  },
  {
   "cell_type": "markdown",
   "metadata": {},
   "source": [
    "1.11\\. Print the reverse of a string using string slicing"
   ]
  },
  {
   "cell_type": "code",
   "execution_count": null,
   "metadata": {
    "collapsed": true
   },
   "outputs": [],
   "source": [
    "# DON'T MODIFY #\n",
    "string_to_reverse = \"Reverse me!\"\n",
    "# YOUR CODE HERE #"
   ]
  },
  {
   "cell_type": "markdown",
   "metadata": {},
   "source": [
    "1.12\\. Using the Pythagorean Theorem example above, what numbers, when inputted into the program, cause the code to stop working? What error does it give? Why does it give this error? Can you add something to the code to deal with this issue and make the code more robust?"
   ]
  },
  {
   "cell_type": "code",
   "execution_count": null,
   "metadata": {
    "collapsed": true
   },
   "outputs": [],
   "source": [
    "# YOUR CODE HERE #"
   ]
  },
  {
   "cell_type": "markdown",
   "metadata": {},
   "source": [
    "1.13\\. How do you think the Python int() typecast works? Try writing your own int() function and restrict it to converting from integers to strings. For example, when I write int(\"255\") using your typecast function, your program should output 255. Hint: consider breaking the string up and using ASCII codes."
   ]
  },
  {
   "cell_type": "code",
   "execution_count": null,
   "metadata": {
    "collapsed": true
   },
   "outputs": [],
   "source": [
    "# YOUR CODE HERE #"
   ]
  },
  {
   "cell_type": "markdown",
   "metadata": {},
   "source": [
    "# Project: Seconds to Time"
   ]
  },
  {
   "cell_type": "markdown",
   "metadata": {},
   "source": [
    "Write a program in the cell below that converts the number of seconds (represented by the variable seconds) into minutes. Print out the resulting number of minutes as an integer (whole number) and make sure to include the remaining number of seconds as well. For example, if seconds = 128, your program should print something like 2 minutes 8 seconds. Don't worry about formatting, just give the number of minutes and remaining seconds. No time will be over 60 minutes."
   ]
  },
  {
   "cell_type": "code",
   "execution_count": null,
   "metadata": {
    "collapsed": true
   },
   "outputs": [],
   "source": [
    "seconds = 29610\n",
    "\n",
    "#HINT: use modulo and floor division\n",
    "# YOUR CODE HERE #"
   ]
  },
  {
   "cell_type": "markdown",
   "metadata": {},
   "source": [
    "You can check your answers here: https://www.tools4noobs.com/online_tools/seconds_to_hh_mm_ss/"
   ]
  },
  {
   "cell_type": "markdown",
   "metadata": {},
   "source": [
    "## Seconds to Time: Advanced"
   ]
  },
  {
   "cell_type": "markdown",
   "metadata": {},
   "source": [
    "Write a program in the cell below that converts the number of seconds (represented by the variable seconds) into hours, minutes, and seconds. Print out the resulting number of hours as an integer, the number of minutes as an integer, and the number of remaining seconds. For example, if `seconds = 11085`, your program should print out 3 hours 4 minutes 45 seconds. "
   ]
  },
  {
   "cell_type": "code",
   "execution_count": null,
   "metadata": {
    "collapsed": true
   },
   "outputs": [],
   "source": [
    "seconds = 81724\n",
    "\n",
    "# YOUR CODE HERE #"
   ]
  }
 ],
 "metadata": {
  "kernelspec": {
   "display_name": "Python 3",
   "language": "python",
   "name": "python3"
  },
  "language_info": {
   "codemirror_mode": {
    "name": "ipython",
    "version": 3
   },
   "file_extension": ".py",
   "mimetype": "text/x-python",
   "name": "python",
   "nbconvert_exporter": "python",
   "pygments_lexer": "ipython3",
   "version": "3.6.1"
  }
 },
 "nbformat": 4,
 "nbformat_minor": 2
}
