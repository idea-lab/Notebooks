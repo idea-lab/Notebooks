{
 "cells": [
  {
   "cell_type": "markdown",
   "metadata": {},
   "source": [
    "In this tutorial, we'll be exploring the fundamental topics involved in computer programming, including memory storage and operations on various parts of the memory. We'll start by showing the impact and usage of these ideas and then move down into the more nitty gritty details.\n",
    "\n",
    "When programming a computer, there is one fundamental question that we must ask ourselves:\n",
    "    -How do I get a machine, which only understands basic logic, to understand me?\n",
    "    \n",
    "To answer this question, let's get our feet wet with a bit of code implementing the Pythagorean Theorem. In these examples, we'll be using Python 3, a programming language which allows us to write commands which the computer can understand. The basic python program has several lines of code in which we use to communicate with the computer. Since Python is \"interpreted,\" when the computer runs your code, it reads the lines in your program and runs each command as it gets to it. By using a programming language, the makers of the it have already told the computer how to use the basic logic. All we have to do is use the programming language to interact with the computer."
   ]
  },
  {
   "cell_type": "code",
   "execution_count": null,
   "metadata": {
    "collapsed": true
   },
   "outputs": [],
   "source": []
  }
 ],
 "metadata": {
  "kernelspec": {
   "display_name": "Python 3",
   "language": "python",
   "name": "python3"
  },
  "language_info": {
   "codemirror_mode": {
    "name": "ipython",
    "version": 3
   },
   "file_extension": ".py",
   "mimetype": "text/x-python",
   "name": "python",
   "nbconvert_exporter": "python",
   "pygments_lexer": "ipython3",
   "version": "3.6.1"
  }
 },
 "nbformat": 4,
 "nbformat_minor": 2
}
