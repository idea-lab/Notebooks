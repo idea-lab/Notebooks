{
 "cells": [
  {
   "cell_type": "markdown",
   "metadata": {},
   "source": [
    "# Boolean Logic and Control Statements"
   ]
  },
  {
   "cell_type": "markdown",
   "metadata": {},
   "source": [
    "## Note on Previous Notebooks\n",
    "Before you attempt to read through and solve the problems in this notebook, make sure you are familiar with the \"Variables, Datatypes, Operations\" notebook. This includes creating variables, common variable datatypes, performing operations on variables, and modifying the content in them. All of the material in this notebook will assume you have a good understanding of the previous week's notebook. \n",
    "\n",
    "Remember, programming concepts build upon themselves iteratively. Try to do as many of the previous notebook's problems as possible and ask if you need help in understanding something!"
   ]
  },
  {
   "cell_type": "markdown",
   "metadata": {},
   "source": [
    "### Outline of Notebook\n",
    "\n",
    "  * Boolean Logic\n",
    "  * Statements and Evaluation with logical operators\n",
    "  * Control Statements\n",
    "  * (Advanced) Short Circuiting\n",
    "  * Example: Nested if statements\n",
    "  * While loops\n",
    "  * For loops\n",
    "  * Nested loops\n"
   ]
  },
  {
   "cell_type": "markdown",
   "metadata": {},
   "source": [
    "## Boolean Logic\n",
    "\n",
    "When we consider a statement such as \"it is raining outside\", it can be evaluated as either True or False. \n",
    "\n",
    "In the 19th-century, mathematician George Boole devised a form of algebra solely based on True and False values. \n",
    "\n",
    "While we won't be going into **boolean algebra** here, we will be using **boolean** values extensively for decision making in our programs\n",
    "\n",
    "_Side Note_:\n",
    "This connection between True and False and computers intuitively makes sense, because True can be represented by a 1 and False by a 0. Since computers are just complex circuits which use electricity, 1's and 0's can easily be represented as either a flow of electricity or no electricity flow.\n",
    "\n",
    "In Python, boolean values are just another datatype we can store in a variable. The only boolean values in Python are `True` and `False`. Note that you do not need quotation marks, like you would for strings, because `True` and `False` are reserved keywords in Python."
   ]
  },
  {
   "cell_type": "code",
   "execution_count": null,
   "metadata": {
    "collapsed": true
   },
   "outputs": [],
   "source": [
    "# boolean variables\n",
    "a_true_value = True\n",
    "print (a_true_value)"
   ]
  },
  {
   "cell_type": "code",
   "execution_count": null,
   "metadata": {
    "collapsed": true
   },
   "outputs": [],
   "source": [
    "a_false_value = False\n",
    "print(a_false_value)"
   ]
  },
  {
   "cell_type": "markdown",
   "metadata": {},
   "source": [
    "Just like regular variables, boolean variables can be modified. "
   ]
  },
  {
   "cell_type": "code",
   "execution_count": null,
   "metadata": {
    "collapsed": true
   },
   "outputs": [],
   "source": [
    "# modifying boolean variables\n",
    "x = True  # initializing x as True\n",
    "x = False  # changing x to False\n",
    "print (x)"
   ]
  },
  {
   "cell_type": "markdown",
   "metadata": {},
   "source": [
    "### Comparison Operators\n",
    "The power of boolean variables come in their usage. \n",
    "\n",
    "Given the statement \"it is raining,\" we can evaluate it to be either True or False by looking or walking outside. \n",
    "\n",
    "Similarly, we can use **comparison operators** to compare two values. \n",
    "\n",
    "The comparison operators are ** == (equals) **, **!= (not equals)**, **> (greater than)**, **< (less than)**, **>= (greater than or equal to) **, and **<= (less than or equal to) **.\n",
    "\n",
    "** SOME TIPS AND EXTREMELY COMMON MISTAKES**: \n",
    "  * Note that `=` assigns a value to a variable, while `==` compares two values\n",
    "  * To remember the order of <= and >=, just say \"less than or equal to\", or \"greater than or equal to\". Just as you say it, the order is the less than/greater than sign before the equals sign\n",
    "  * While the keyword `is` does exist in Python, it actually is not equivalent to `==`. We will discuss the difference in more detail later"
   ]
  },
  {
   "cell_type": "code",
   "execution_count": null,
   "metadata": {
    "collapsed": true
   },
   "outputs": [],
   "source": [
    "# the comparison operators\n",
    "\n",
    "x = 5\n",
    "y = 5\n",
    "print (x == y) # x = 5, y = 5, therefore x is equal to y\n",
    "\n",
    "y += 2\n",
    "print (x == y) # x = 5, y = 7 therefore this statement is False, x does not equal y"
   ]
  },
  {
   "cell_type": "markdown",
   "metadata": {},
   "source": [
    "In Python, we can use relational operators on almost all datatypes, including integers, doubles, and strings. \n",
    "\n",
    "For example, if we wanted to compare if two different string variables referred the same strings, we could do:"
   ]
  },
  {
   "cell_type": "code",
   "execution_count": null,
   "metadata": {
    "collapsed": true
   },
   "outputs": [],
   "source": [
    "# comparisons with strings\n",
    "x = \"hello\"\n",
    "y = \"hello\"  # y is a separate variable from x\n",
    "print (x == y)  # comparing string content of x and y\n",
    "\n",
    "y = \"foo\"\n",
    "print(x == y) #False\n",
    "\n",
    "print(x != y) #True"
   ]
  },
  {
   "cell_type": "markdown",
   "metadata": {},
   "source": [
    "## Evaluating Complex Boolean Statements\n",
    "While evaluating statements with one point of logic is powerful, what would be even more powerful is if we could evaluate multiple statements at once. \n",
    "\n",
    "For example, if we wanted to determine whether or not we needed an umbrella today, we could state that:\n",
    "\n",
    "If it is raining ** and ** I am going outside today, I will need an umbrella\n",
    "\n",
    "We naturally break this into two verifiable statements: It is raining; I am going outside today. We can evaluate each separately and then combine them together to get an overall answer.\n",
    "\n",
    "In programming, this compounding of smaller statements is done with **logical operators**. \n",
    "\n",
    "The three central logical operators in Python are `not`, `and`, and `or`. These operators compare or modify up to two _boolean_ values to output a singular boolean value.\n",
    "\n",
    "The operator **`not`** is followed by a boolean True or False statement and outputs the negate of this statement. "
   ]
  },
  {
   "cell_type": "code",
   "execution_count": null,
   "metadata": {
    "collapsed": true
   },
   "outputs": [],
   "source": [
    "# example usage of \"not\" logical operator\n",
    "x = True\n",
    "print (not x)"
   ]
  },
  {
   "cell_type": "markdown",
   "metadata": {},
   "source": [
    "It is important to note that **`not`** can be used in front of _any_ boolean value:"
   ]
  },
  {
   "cell_type": "code",
   "execution_count": null,
   "metadata": {
    "collapsed": true
   },
   "outputs": [],
   "source": [
    "print(not (0 == 2))"
   ]
  },
  {
   "cell_type": "markdown",
   "metadata": {},
   "source": [
    "The operator **`and`** compares two boolean values and outputs True _if and only if_ both values are True"
   ]
  },
  {
   "cell_type": "code",
   "execution_count": null,
   "metadata": {
    "collapsed": true
   },
   "outputs": [],
   "source": [
    "# example usage of \"and\" logical operator\n",
    "x = True\n",
    "y = False\n",
    "print (x and y)  #y is False, so this returns False\n",
    "\n",
    "y = True\n",
    "print (x and y)  # x and y are both True, so this returns True\n",
    "\n",
    "x = False\n",
    "y = False\n",
    "print (x and y)  # Even though x and y are the same, they are both False"
   ]
  },
  {
   "cell_type": "markdown",
   "metadata": {},
   "source": [
    "The operator **`or`** compares two boolean values and returns True if _at least one_ of the values is True."
   ]
  },
  {
   "cell_type": "code",
   "execution_count": null,
   "metadata": {
    "collapsed": true
   },
   "outputs": [],
   "source": [
    "# example usage of \"or\" logical operator\n",
    "x = True\n",
    "y = False\n",
    "print (x or y)  # x is True, so this returns True\n",
    "\n",
    "x = False\n",
    "print (x or y)  # neither x nor y is True, so this returns False"
   ]
  },
  {
   "cell_type": "markdown",
   "metadata": {},
   "source": [
    "##### Advanced: `xor`"
   ]
  },
  {
   "cell_type": "markdown",
   "metadata": {},
   "source": [
    "The operator **`xor`** (**`^`**) compares two boolean values and returns True _if and only if_ they are different."
   ]
  },
  {
   "cell_type": "code",
   "execution_count": null,
   "metadata": {
    "collapsed": true
   },
   "outputs": [],
   "source": [
    "x = True\n",
    "y = False\n",
    "\n",
    "#not x to the power of y\n",
    "print(x ^ y) #True, since x is not the same as y \n",
    "\n",
    "y = True\n",
    "print(x ^ y) #False, since both are True"
   ]
  },
  {
   "cell_type": "markdown",
   "metadata": {},
   "source": [
    "### Real-World Example\n",
    "Consider we want to use the transitive property to do a round-about check to see if two variables are equal. If we have three variables x, y, and z. We can use relational operators and logical operators to determine if x == y and y == z, all in one line. If both of these are True, by definition of the transitive property, this means that x == z is also True. Try putting in numbers into the variables below to test the validity of the logic."
   ]
  },
  {
   "cell_type": "code",
   "execution_count": null,
   "metadata": {
    "collapsed": true
   },
   "outputs": [],
   "source": [
    "# example of using relational operators and logical operators with the transitive property\n",
    "x = ??\n",
    "y = ??\n",
    "z = ??\n",
    "print (x == y and y == z)  # checks whether x is equal to y and y is equal to z. By definition, if this is true, than x is equal to z.\n",
    "print (x == z)  # if the above is True, than this will always be True"
   ]
  },
  {
   "cell_type": "markdown",
   "metadata": {},
   "source": [
    "## Computer Decision Making: Control Statements\n",
    "\n",
    "With **control statements**, we make decisions about what code to run based on a True or False value. \n",
    "\n",
    "The three control statements used most often are `if`, `elif`, and `else`. \n",
    "\n",
    "`if` simply takes in a statement in parentheses and evaluates that statement to check if it is True. If it is, the indented code following the statement is run. Note the structure of \"if\" statements, including the colon after the parentheses:\n",
    "\n",
    "    if (statement to be evaluated): \n",
    "        code to run\n",
    "        \n",
    "**NOTE:** The indentation here is very important: it tells Python what code is inside the if statement, and what code is outside of it."
   ]
  },
  {
   "cell_type": "code",
   "execution_count": null,
   "metadata": {
    "collapsed": true
   },
   "outputs": [],
   "source": [
    "# example of using \"if\" statements\n",
    "x = 5\n",
    "if (x == 5):\n",
    "    print (\"X is five!\")"
   ]
  },
  {
   "cell_type": "markdown",
   "metadata": {},
   "source": [
    "`elif` stands for \"else if.\" \n",
    "\n",
    "`elif` statements are used after an `if` or another `elif` block, when you want to provide alternate cases to your program. \n",
    "\n",
    "It is important to note that Python will only check an `elif` block if the `if` or `elif` block preceding it has evaluated to False.\n",
    "\n",
    "For example, let's say you wanted to create a program which reads out a user's inputted number. While there are smarter ways to do this, one way is by using `if` and `elif` statements. The first control is always an `if`, guessing from a lower bound, and subsequent `elif`s check for other numbers."
   ]
  },
  {
   "cell_type": "code",
   "execution_count": null,
   "metadata": {
    "collapsed": true
   },
   "outputs": [],
   "source": [
    "# number writing program using \"if\" and \"elif\" statements\n",
    "x = 6\n",
    "if (x <= 5):  # computer evaluates to be False, moves on to next statement\n",
    "    print (\"X is less than or equal to five!\")\n",
    "elif (x <= 6):  # computer evaluates to be True, does not move on\n",
    "    print (\"X is six!\")\n",
    "elif (x <= 7):  # this statement is not evaluated since the above statement already evaluated to True\n",
    "    print (\"X is seven!\")"
   ]
  },
  {
   "cell_type": "markdown",
   "metadata": {},
   "source": [
    "`else` statements can come at the end of a control block. They don't actually evaluate any logic; rather, they are meant to be put at the end of the control loop as a final case if all the prior statements evaluate to False. \n",
    "\n",
    "A lazy programmer writing the above program for spelling out a number might just make it work for 3 cases. The other input cases can be handled by one final \"else\" statement."
   ]
  },
  {
   "cell_type": "code",
   "execution_count": null,
   "metadata": {
    "collapsed": true
   },
   "outputs": [],
   "source": [
    "# number writing program using \"if\", \"elif\", and \"else\" control statements\n",
    "x = 8\n",
    "if (x <= 5):  # computer evaluates to be False, moves on to next statement\n",
    "    print (\"X is less than or equal to five!\")\n",
    "elif (x <= 6):  # computer evaluates to be False, moves on to next statement\n",
    "    print (\"X is six!\")\n",
    "elif (x <= 7):  # computer evaluates to be False, moves on to next statement\n",
    "    print (\"X is seven!\")\n",
    "else:  # since all the above statements evaluate to False, this \"else\" statement is run\n",
    "    print (\"X is greater than seven!\")"
   ]
  },
  {
   "cell_type": "markdown",
   "metadata": {},
   "source": [
    "### Short-Circuiting (Advanced):\n",
    "Consider we want to make a program which tells a user whether a particular batting average (BA) for a baseball player is good. The program will take in two data points, the number of hits for a certain baseball player and the number of at bats, divide the number of hits by the number of at bats, and return whether BA is above 0.90 (our definition of a good BA). A naive programmer would simply do this:"
   ]
  },
  {
   "cell_type": "code",
   "execution_count": null,
   "metadata": {
    "collapsed": true
   },
   "outputs": [],
   "source": [
    "# A naive program for calculating batting average\n",
    "nb_hits = 3\n",
    "at_bats = 5\n",
    "\n",
    "if ((nb_hits / at_bats) > 0.90):\n",
    "    print (\"Batting average is good\")\n",
    "else:\n",
    "    print (\"Batting average is bad\")"
   ]
  },
  {
   "cell_type": "markdown",
   "metadata": {},
   "source": [
    "However, when creating programs, we must consider the worst user input (within reason). What if a user entered 0 at_bats for the stats for a particularly bad player? Try it on your own. What error does Python output? To fix this, we can use **short-circuiting** to take advantage of how boolean expressions are evaluated. Let's say we changed the if statement to this:"
   ]
  },
  {
   "cell_type": "code",
   "execution_count": null,
   "metadata": {
    "collapsed": true
   },
   "outputs": [],
   "source": [
    "if (at_bats != 0 and (nb_hits / at_bats) > 0.90):\n",
    "    print (\"Batting Average is good\")"
   ]
  },
  {
   "cell_type": "markdown",
   "metadata": {},
   "source": [
    "The computer evaluates statements from left to right, so it would first evaluate if at_bats was not 0 and then move onto computing and comparing BA. However, in order for \"and\" to return True, both the left-hand and right-hand statements need to each evaluate to True by definition of \"and\". If at_bats == 0, then the left-hand expression would evaluate to False and the \"and\" statement could never output True. The computer is smart enough to recognize this fact. In fact, if at_bats == 0, it won't even try to evaluate the right-hand side, just evaluating the entire statement to False and moving on to the next piece of code. In general, thinking about how a user will interact with a program is always good practice and will save the programmer from many embarassing errors!"
   ]
  },
  {
   "cell_type": "markdown",
   "metadata": {},
   "source": [
    "### Nested Control Statements\n",
    "While basic control statements like the ones above can be useful, sometimes a programmer will run into harder decision making problems which require **nested** control statements. Nested statements are simply a fancy word for statements inside statements. Programmatically, this means that as the computer evaluates a specific control statement to be True, it runs a specific piece of code for that control. Inside this code can be future control statements that are only run if the original control statement evaluates to True.\n",
    "\n",
    "Along the lines of the baseball player program above, let's make a program to evaluate a player's qualities. Given a player's height and running speed, the program returns whether the player is tall and fast, tall and slow, short and fast, or short and slow. The key take-away is this: use nested control statements for more complex decision making and to reduce code repetition. For example, while we could have written this:"
   ]
  },
  {
   "cell_type": "code",
   "execution_count": null,
   "metadata": {
    "collapsed": true
   },
   "outputs": [],
   "source": [
    "# program to determine a player's qualities using basic control statements\n",
    "height = 7  # height in feet\n",
    "speed = 5  # running speed in mph\n",
    "\n",
    "if (height > 6 and speed > 4):\n",
    "    print (\"Player is tall and fast\")\n",
    "elif (height > 6 and speed <= 4):\n",
    "    print (\"Player is tall and slow\")\n",
    "elif (height <= 6 and speed > 4):\n",
    "    print (\"Player is short and fast\")\n",
    "elif (height <= 6 and speed <= 4):\n",
    "    print (\"Player is short and slow\")"
   ]
  },
  {
   "cell_type": "markdown",
   "metadata": {},
   "source": [
    "We instead write this to reduce code repetition and improve readability:"
   ]
  },
  {
   "cell_type": "code",
   "execution_count": null,
   "metadata": {
    "collapsed": true
   },
   "outputs": [],
   "source": [
    "# program to determine a player's qualities using nested control statements\n",
    "height = 7  # height in feet\n",
    "speed = 5  # running speed in mph\n",
    "\n",
    "if (height > 6):\n",
    "    if (speed > 4):  # since this control is within the above \"if\" statement (seen through indentation), it is only reached if height > 6\n",
    "        print (\"Player is tall and fast\")\n",
    "    else:  # height > 6 and speed <= 4\n",
    "        print (\"Player is tall and slow\")\n",
    "else:\n",
    "    if (speed > 4):  # height <= 6 and speed > 4\n",
    "        print (\"Player is short and fast\")\n",
    "    else:  # height <= 6 and speed <= 4\n",
    "        print (\"Player is short and slow\")"
   ]
  },
  {
   "cell_type": "markdown",
   "metadata": {},
   "source": [
    "## Combining Variables with Controls: Loops\n",
    "In \"Variables, Datatypes, Operations,\" we learned about creating variables and updating them. \n",
    "\n",
    "Here, we will combine this with control statements to create blocks of code which can be run several times. The fundamental idea behind running a block of code several times, or **looping**, is that we reduce the repetitiveness of the code. \n",
    "\n",
    "Here is the syntax for the most basic type of loop, a while loop:\n",
    "\n",
    "    while (boolean value (True or False)):\n",
    "        code to repeat\n",
    "    \n",
    "For example, let's say we wanted to print out \"Hi IdeaLab!\" a specific number of times specified by the user. Instead of copying and pasting a print function several times, we could use a \"while\" loop, an external variable which constantly gets updated, and control statements to exit out of the loop given the state of the external variable. In the below code, we define x to be the **iterator**, an external variable which represents the state of the loop (i.e., the iteration number in this example). Next, we use a \"while\" loop to continuously run a block of code which prints our message and updates the external variable state. Note how since the external variable is constantly approaching the point where it makes the control statement evaluate to False (i.e., x increases until it gets greater than 10), the \"while\" loop will eventually stop."
   ]
  },
  {
   "cell_type": "code",
   "execution_count": null,
   "metadata": {
    "collapsed": true
   },
   "outputs": [],
   "source": [
    "# program to repeatedly print out a line using a \"while\" loop\n",
    "iterations = 10  # number of times to print out the line\n",
    "\n",
    "x = 0  # iterator variable which gets updated in the \"while\" loop and is used to end the loop\n",
    "while (x < iterations):  # control expression which is evaluated before each iteration of the block of code\n",
    "    print (\"Hi IdeaLab!\")\n",
    "    x += 1"
   ]
  },
  {
   "cell_type": "markdown",
   "metadata": {},
   "source": [
    "The above statement can also be re-written using what is called a for loop. \n",
    "\n",
    "For loops combine the most used properties of while loops into one line. It defines an iterative variable, then loops through a set of possible values. For example, you could loop through the values 3, 5, 1, 0, and 10. You could even loop through the values \"hello\", \"strings are cool\", \"world\", \"foo\". As long as you give Python a group of values, it can loop through them one at a time.\n",
    "\n",
    "The syntax of a for loop is as follows:\n",
    "\n",
    "    for variable in values:\n",
    "        code to repeat\n",
    " \n",
    "Note that we will frequently use the `range()` function. Although you don't need to fully understand what it does yet, just know that `range(a, b)` will give the values of all integers from `a` to `b`, exclusive. \n",
    "\n",
    "(Exclusive just means don't include `b`, for example `range(-1, 4)` would give the values of `-1, 0, 1, 2, 3`)\n",
    "\n",
    "**IMPORTANT** : `range()`, for now at least, can **only** be used in a loop. If you try using it outside of a loop, it will not give you what you want."
   ]
  },
  {
   "cell_type": "markdown",
   "metadata": {},
   "source": [
    "Example for loop:"
   ]
  },
  {
   "cell_type": "code",
   "execution_count": null,
   "metadata": {
    "collapsed": true
   },
   "outputs": [],
   "source": [
    "# program to repeatedly print out a line using a \"for\" loop\n",
    "iterations = 10  # number of times to print out the line\n",
    "\n",
    "# with each iteration, the variable x takes the next value from 0 to 9 and the block of code is run again\n",
    "for x in range(0, iterations):\n",
    "    print (\"Hi Idealab!\")\n",
    "    \n",
    "#after the loop runs when x = 9, it stops"
   ]
  },
  {
   "cell_type": "markdown",
   "metadata": {},
   "source": [
    "Note that the iterative variable is accessible from inside the loop"
   ]
  },
  {
   "cell_type": "code",
   "execution_count": null,
   "metadata": {
    "collapsed": true
   },
   "outputs": [],
   "source": [
    "for i in range(0, 10): # i is the most commonly used variable for iteration\n",
    "    print(i) #prints 0, 1, 2...9 "
   ]
  },
  {
   "cell_type": "markdown",
   "metadata": {},
   "source": [
    "Much like if statements, you can also nest loops together"
   ]
  },
  {
   "cell_type": "code",
   "execution_count": null,
   "metadata": {
    "collapsed": true
   },
   "outputs": [],
   "source": [
    "for i in range(0, 5):\n",
    "    for j in range(0, 5): # make sure to use a different variable!\n",
    "        print(\"i = {}, j = {}\".format(i, j)) #prints out the values of i and j"
   ]
  },
  {
   "cell_type": "markdown",
   "metadata": {},
   "source": [
    "# Problem Set 2"
   ]
  },
  {
   "cell_type": "markdown",
   "metadata": {},
   "source": [
    "2\\.1. If a variable `test` is true, print \"The variable is true\". If `test` is false, print \"The variable is false\""
   ]
  },
  {
   "cell_type": "code",
   "execution_count": null,
   "metadata": {
    "collapsed": true
   },
   "outputs": [],
   "source": [
    "test = ?? #fill in either True or False\n",
    "\n",
    "# YOUR CODE HERE #"
   ]
  },
  {
   "cell_type": "markdown",
   "metadata": {},
   "source": [
    "2\\.2 Without running the cell, compute the overall value of this expression. Run the cell afterwords to verify. \n",
    "\n",
    "(The actual answer here isn't really important -- you can guess and have a 50% chance of getting it right. What's critical is understanding how the comparison operators all work)"
   ]
  },
  {
   "cell_type": "code",
   "execution_count": null,
   "metadata": {
    "collapsed": true
   },
   "outputs": [],
   "source": [
    "print((False and (not True)) or (True and (7/2 == 7//2)))"
   ]
  },
  {
   "cell_type": "markdown",
   "metadata": {},
   "source": [
    "2\\.3. Give the relationship between two mathematical expressions. In this problem, print out if `a + b` is greater than, equal to, or less than `c * d`"
   ]
  },
  {
   "cell_type": "code",
   "execution_count": null,
   "metadata": {
    "collapsed": true
   },
   "outputs": [],
   "source": [
    "#change these values for testing purposes\n",
    "a = 138\n",
    "b = 2\n",
    "c = 10\n",
    "d = 17\n",
    "\n",
    "# YOUR CODE HERE #"
   ]
  },
  {
   "cell_type": "markdown",
   "metadata": {},
   "source": [
    "2\\.4 Given a numerical grade (0-100) print out its letter grade (A-F). Ignore +'s or -'s (e.g. anything from 90 to 100 is an A)"
   ]
  },
  {
   "cell_type": "code",
   "execution_count": null,
   "metadata": {
    "collapsed": true
   },
   "outputs": [],
   "source": [
    "grade = 46 #change for testing\n",
    "\n",
    "# YOUR CODE HERE #"
   ]
  },
  {
   "cell_type": "markdown",
   "metadata": {},
   "source": [
    "2\\.5 Print all the odd numbers from 0 to 100 (remember the modulo operator? [HINT: what is the remainder when an odd number is divided by 2?])"
   ]
  },
  {
   "cell_type": "code",
   "execution_count": null,
   "metadata": {
    "collapsed": true
   },
   "outputs": [],
   "source": [
    "# YOUR CODE HERE #"
   ]
  },
  {
   "cell_type": "markdown",
   "metadata": {},
   "source": [
    "2\\.6 (Famous interview question): For all numbers between 1 and 100, print \"fizz\" if the number is divisible by 3, print \"buzz\" if the number is divisible by 5, and print \"fizzbuzz\" if it is divisible by both. "
   ]
  },
  {
   "cell_type": "code",
   "execution_count": null,
   "metadata": {
    "collapsed": true
   },
   "outputs": [],
   "source": [
    "# YOUR CODE HERE #"
   ]
  },
  {
   "cell_type": "markdown",
   "metadata": {},
   "source": [
    "# Projects"
   ]
  },
  {
   "cell_type": "markdown",
   "metadata": {},
   "source": [
    "## Staircase"
   ]
  },
  {
   "cell_type": "markdown",
   "metadata": {},
   "source": [
    "Write a program that prints out a staircase of a specified height. Draw the staircase with the # character. Your program should behave as shown below. \n",
    "\n",
    "(You will need to use loops)"
   ]
  },
  {
   "cell_type": "code",
   "execution_count": null,
   "metadata": {
    "collapsed": true
   },
   "outputs": [],
   "source": [
    "#output with height = 5:\n",
    "\n",
    "    #\n",
    "   ##\n",
    "  ###\n",
    " ####\n",
    "#####\n",
    "\n",
    "#output with height = 3:\n",
    "\n",
    "  #\n",
    " ##\n",
    "###\n",
    "\n",
    "#output with height = 0: (nothing printed)\n",
    "\n",
    "\n",
    "#output with height = -5: (nothing printed)\n",
    "\n",
    "\n",
    "height = 5\n",
    "\n",
    "# YOUR CODE HERE #"
   ]
  },
  {
   "cell_type": "markdown",
   "metadata": {},
   "source": [
    "## Greedy Algorithms"
   ]
  },
  {
   "cell_type": "markdown",
   "metadata": {},
   "source": [
    "According to the National Institute of Standards and Technology (NIST), a greedy algorithm is one \"that always takes the best immediate, or local, solution while finding an answer. Greedy algorithms find the overall, or globally, optimal solution for some optimization problems, but may find less-than-optimal solutions for some instances of other problems.\""
   ]
  },
  {
   "cell_type": "markdown",
   "metadata": {},
   "source": [
    "In other words, suppose you owe someone 36¢ change. You want to figure out the minimum number of coins you can give them to pay them back\n",
    "\n",
    "If you are \"greedy\", you would want to take the biggest bite out of this \"problem\" every time you reach for a coin; that is, you would want to grab the coin with the most value each time so as to get as close to 36¢ as possible with each grab. The biggest first bite you can take is 25¢, the quarter. Note that by selecting a quarter first, you reduce the 36¢ problem down to an 11¢ problem, since 36¢ - 25¢ = 11¢. The remaining 11¢ is a much smaller version of the original problem. At this point, another 25¢ would be too big, so the next greediest bite size would be 10¢, the dime. Grabbing a dime leaves you with a 1¢ problem, at which point the largest bite would be 1¢, the penny. This entire process, known as a greedy approach, minimizes the total number of coins needed to pay the change. "
   ]
  },
  {
   "cell_type": "markdown",
   "metadata": {},
   "source": [
    "Write a program that calculates and prints out the minimum number of coins required to give a specific amount of change. Change is measured in dollars, so 1.50 means $1.50. Coins that exist are pennies (worth 0.01), nickels (0.05), dimes (0.10), and quarters (0.25). Your program should behave as shown below."
   ]
  },
  {
   "cell_type": "markdown",
   "metadata": {},
   "source": [
    "`change = 0.41` --> `4`\n",
    "\n",
    "`change = -0.29` --> ` ` (nothing should be printed because -0.29 is invalid)"
   ]
  },
  {
   "cell_type": "code",
   "execution_count": null,
   "metadata": {
    "collapsed": true
   },
   "outputs": [],
   "source": [
    "# YOUR PROGRAM #\n",
    "\n",
    "change = 0.41\n",
    "\n",
    "# WRITE REST OF PROGRAM TO CALCULATE MINIMUM NUMBER OF COINS REQUIRED TO GIVE CHANGE #"
   ]
  },
  {
   "cell_type": "markdown",
   "metadata": {},
   "source": [
    "## Pyramid (advanced)"
   ]
  },
  {
   "cell_type": "markdown",
   "metadata": {},
   "source": [
    "Write a program that prints out a pyramid of a specified height. Draw the pyramid with the # character. Your program should prompt the user for the pyramid's height and give output as shown below."
   ]
  },
  {
   "cell_type": "markdown",
   "metadata": {},
   "source": [
    "`height: 5`"
   ]
  },
  {
   "cell_type": "code",
   "execution_count": null,
   "metadata": {
    "collapsed": true
   },
   "outputs": [],
   "source": [
    "    #\n",
    "   ###\n",
    "  #####\n",
    " #######\n",
    "#########"
   ]
  },
  {
   "cell_type": "markdown",
   "metadata": {},
   "source": [
    "`height: five`"
   ]
  },
  {
   "cell_type": "code",
   "execution_count": null,
   "metadata": {
    "collapsed": true
   },
   "outputs": [],
   "source": [
    "#(nothing printed)"
   ]
  },
  {
   "cell_type": "markdown",
   "metadata": {},
   "source": [
    "`height: 3`"
   ]
  },
  {
   "cell_type": "code",
   "execution_count": null,
   "metadata": {
    "collapsed": true
   },
   "outputs": [],
   "source": [
    "  #\n",
    " ###\n",
    "#####"
   ]
  },
  {
   "cell_type": "markdown",
   "metadata": {},
   "source": [
    "`height: 0`"
   ]
  },
  {
   "cell_type": "code",
   "execution_count": null,
   "metadata": {
    "collapsed": true
   },
   "outputs": [],
   "source": [
    "#(nothing printed)"
   ]
  },
  {
   "cell_type": "markdown",
   "metadata": {},
   "source": [
    "`height: 4`  "
   ]
  },
  {
   "cell_type": "code",
   "execution_count": null,
   "metadata": {
    "collapsed": true
   },
   "outputs": [],
   "source": [
    "   #     \n",
    "asdfasdfasdf #####\n",
    "#######"
   ]
  },
  {
   "cell_type": "code",
   "execution_count": null,
   "metadata": {
    "collapsed": true
   },
   "outputs": [],
   "source": [
    "# WRITE YOUR PROGRAM HERE #\n"
   ]
  },
  {
   "cell_type": "markdown",
   "metadata": {},
   "source": [
    "## Credit (advanced)"
   ]
  },
  {
   "cell_type": "markdown",
   "metadata": {},
   "source": [
    "Every credit card number is stored in a database somewhere so that when your card is used to purchase something, the creditor knows who to bill. There are a lot of people with credit cards in this world, so those numbers are pretty long: American Express uses 15-digit numbers, MasterCard uses 16-digit numbers, and Visa uses 13- and 16-digit numbers. Moreover, American Express numbers all start with 34 or 37; MasterCard numbers all start with 51, 52, 53, 54, or 55; and Visa numbers all start with 4. All valid credit card numbers follow a formula invented by Hans Peter Luhn, a researcher in computer science at IBM. According to Luhn’s algorithm, you can determine if a credit card number is (syntactically) valid as follows:"
   ]
  },
  {
   "cell_type": "markdown",
   "metadata": {},
   "source": [
    "1. Multiply every other digit by 2, starting with the number’s second digit.   \n",
    "2. Add those products' digits together.\n",
    "3. Add the sum to the sum of the digits that weren’t multiplied by 2.\n",
    "4. If the total’s last digit is 0 (or, put more formally, if the total modulo 10 is congruent to 0), the number is valid."
   ]
  },
  {
   "cell_type": "markdown",
   "metadata": {},
   "source": [
    "Let's say a credit card number is 378282246310005. Here's how we determine whether or not it's valid:\n",
    "1. Multiply every other digit by 2  \n",
    "7•2 + 2•2 + 2•2 + 4•2 + 3•2 + 0•2 + 0•2  \n",
    "which gives us  \n",
    "14 + 4 + 4 + 8 + 6 + 0 + 0  \n",
    "2. Now add those products' digits (not the products themselves) together:  \n",
    "1 + 4 + 4 + 4 + 8 + 6 + 0 + 0 = 27  \n",
    "3. Add that sum (27) to the sum of the digits in the credit card number that weren’t multiplied by 2:  \n",
    "27 + 3 + 8 + 8 + 2 + 6 + 1 + 0 + 5 = 60  \n",
    "4. The last digit in that sum (60) is a 0, so this card is legit."
   ]
  },
  {
   "cell_type": "markdown",
   "metadata": {},
   "source": [
    "Write a program that prompts the user for a credit card number and then reports (via the `print()` function) whether it is a valid American Express, MasterCard, or Visa card number according to the above definitions of each card type's format. For simplicity, you may assume that the user's input will be entirely numeric (no hyphens). Your program should behave as shown below: "
   ]
  },
  {
   "cell_type": "markdown",
   "metadata": {},
   "source": [
    "`Number: 378282246310005`  \n",
    "`AMEX`"
   ]
  },
  {
   "cell_type": "markdown",
   "metadata": {},
   "source": [
    "`Number: 3782-822-463-10005` \n",
    "\n",
    "`INVALID`"
   ]
  },
  {
   "cell_type": "markdown",
   "metadata": {},
   "source": [
    "`Number: ilusahldfasd`\n",
    "\n",
    "`INVALID`"
   ]
  },
  {
   "cell_type": "markdown",
   "metadata": {},
   "source": [
    "`Number: 6176292929`  \n",
    "`INVALID`"
   ]
  },
  {
   "cell_type": "code",
   "execution_count": null,
   "metadata": {
    "collapsed": true
   },
   "outputs": [],
   "source": [
    "number = 378282246310005\n",
    "\n",
    "# YOUR CODE HERE #"
   ]
  }
 ],
 "metadata": {
  "kernelspec": {
   "display_name": "Python 3",
   "language": "python",
   "name": "python3"
  },
  "language_info": {
   "codemirror_mode": {
    "name": "ipython",
    "version": 3
   },
   "file_extension": ".py",
   "mimetype": "text/x-python",
   "name": "python",
   "nbconvert_exporter": "python",
   "pygments_lexer": "ipython3",
   "version": "3.6.1"
  }
 },
 "nbformat": 4,
 "nbformat_minor": 2
}
