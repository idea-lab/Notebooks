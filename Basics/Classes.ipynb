{
 "cells": [
  {
   "cell_type": "markdown",
   "metadata": {},
   "source": [
    "# Classes #"
   ]
  },
  {
   "cell_type": "markdown",
   "metadata": {},
   "source": [
    "## Notebook Outline ##"
   ]
  },
  {
   "cell_type": "markdown",
   "metadata": {},
   "source": [
    "* Object-oriented programming\n",
    "* What are classes?\n",
    "* Vehicle example\n",
    "* Instance variables\n",
    "* `__init__` function\n",
    "* Inheritance"
   ]
  },
  {
   "cell_type": "markdown",
   "metadata": {},
   "source": [
    "## Object-oriented programming"
   ]
  },
  {
   "cell_type": "markdown",
   "metadata": {},
   "source": [
    "Object oriented programming refers to the use of code to represent the real world. For instance, a car could be considered an object, and it has attributes (color, make, model, miles, etc.) and abilities (drive, park, turn off, etc.). In object-oriented programming, we represent real objects which contain data (aka attributes) and abilities (aka methods or functions)."
   ]
  },
  {
   "cell_type": "markdown",
   "metadata": {},
   "source": [
    "## What are classes?"
   ]
  },
  {
   "cell_type": "markdown",
   "metadata": {},
   "source": [
    "Classes are programmer defined data types. You have already seen the `int`, `str`, `float`, and `bool` datatypes. These are built into the Python language for you to use as you see fit. Sometimes, however, these datatypes are not sufficient to represent a real world object. That's where classes come in. We can make a class to represent an Animal or a Dog or a Cat that contains data (height, weight, age, color, breed, etc.) and methods (walk, run, meow/bark, eat, etc.) These data types can be _instantiated_ to create objects. For instance, we can instantiate the Dog class to create your personal dog, stored in a variable. "
   ]
  },
  {
   "cell_type": "markdown",
   "metadata": {},
   "source": [
    "## Vehicle Example"
   ]
  },
  {
   "cell_type": "markdown",
   "metadata": {},
   "source": [
    "Let's construct a vehicle class (a class is a general category of things) in Python."
   ]
  },
  {
   "cell_type": "code",
   "execution_count": null,
   "metadata": {
    "collapsed": true
   },
   "outputs": [],
   "source": [
    "class Vehicle(object):\n",
    "    name = \"Caleb's Vehicle\"\n",
    "    make = \"Toyota\"\n",
    "    model = \"Prius\"\n",
    "    year = 2009\n",
    "    color = \"gray\"\n",
    "    \n",
    "    \n",
    "    def full_title(self):\n",
    "        return self.name + \", a \" + str(self.year) + \" \" +self.color + \" \" + \\\n",
    "            self.make + \" \" + self.model\n",
    "    \n",
    "    "
   ]
  },
  {
   "cell_type": "markdown",
   "metadata": {},
   "source": [
    "A few things just happened. First, we opened the class definition with the line `class Vehicle(object):` This specifies the name of the class (the `(object)` is important, but we'll get to that). Each of the variables defined above (`name, make, model, year, color`) are called instance variables. Now, we'll _construct_ a new Vehicle and print the full title."
   ]
  },
  {
   "cell_type": "code",
   "execution_count": null,
   "metadata": {
    "collapsed": true
   },
   "outputs": [],
   "source": [
    "test_vehicle = Vehicle()\n",
    "print(test_vehicle.full_title())"
   ]
  },
  {
   "cell_type": "markdown",
   "metadata": {},
   "source": [
    "### Instance Variables"
   ]
  },
  {
   "cell_type": "markdown",
   "metadata": {},
   "source": [
    "Instance variables consist of the attributes of a certain object. For the `Vehicle` class, these instance variables have default values (`name = \"Caleb's Vehicle\"`, etc). They can be accessed using the dot (.) operator, which permits interaction with a specific _instance_  of a _class_."
   ]
  },
  {
   "cell_type": "code",
   "execution_count": null,
   "metadata": {
    "collapsed": true
   },
   "outputs": [],
   "source": [
    "print(test_vehicle.name)"
   ]
  },
  {
   "cell_type": "markdown",
   "metadata": {},
   "source": [
    "They can also be modified. It is important to note that modified instance variables will only be modified in that particular instance of the class. If I change `test_vehicle`'s color, not all Vehicles will update to match."
   ]
  },
  {
   "cell_type": "code",
   "execution_count": null,
   "metadata": {
    "collapsed": true
   },
   "outputs": [],
   "source": [
    "print(\"old color is \" + test_vehicle.color) # old color\n",
    "test_vehicle.color = \"red\"\n",
    "print(\"new color is \" + test_vehicle.color) # new color\n",
    "print(\"default color is \" + Vehicle.color) # the default color"
   ]
  },
  {
   "cell_type": "markdown",
   "metadata": {},
   "source": [
    "### `__init__` function / Constructor"
   ]
  },
  {
   "cell_type": "markdown",
   "metadata": {},
   "source": [
    "In the previous Vehicle class, the instance variables were preset to certain values. You might be wondering how we can take in certain values for the instance variables. That's where the `__init__(self,[args])` function comes in. This function is called a constructor. Constructors _construct_ new instances of classes. For example: my car is an instance of Car but it is different from your car, which is also an instance of Car. Both objects are Cars, but they have different attributes."
   ]
  },
  {
   "cell_type": "code",
   "execution_count": null,
   "metadata": {
    "collapsed": true
   },
   "outputs": [],
   "source": [
    "class Vehicle(object):\n",
    "    def __init__(self, name, make, model, year, color):\n",
    "        self.name = name\n",
    "        self.make = make\n",
    "        self.model = model\n",
    "        self.year = year\n",
    "        self.color = color\n",
    "    \n",
    "    \n",
    "    def full_title(self):\n",
    "        return self.name + \", a \" + str(self.year) + \" \" +self.color + \" \" + \\\n",
    "            self.make + \" \" + self.model\n",
    "    "
   ]
  },
  {
   "cell_type": "markdown",
   "metadata": {},
   "source": [
    "The `__init__` function is called when you construct a new _instance_ of a class. "
   ]
  },
  {
   "cell_type": "code",
   "execution_count": null,
   "metadata": {
    "collapsed": true
   },
   "outputs": [],
   "source": [
    "test_vehicle = Vehicle(\"Sky's Vehicle\",\"Toyota\",\"Camry\",\\\n",
    "                       \"2013\",\"red\")\n",
    "# Vehicle() is the same as Vehicle.__init__()\n",
    "print(test_vehicle.full_title())"
   ]
  },
  {
   "cell_type": "markdown",
   "metadata": {},
   "source": [
    "## Inheritance"
   ]
  },
  {
   "cell_type": "markdown",
   "metadata": {},
   "source": [
    "Classes can be related to other, superior classes. These superior classes are known in various languages as the `super` class or the parent class. By 'inheriting' a parent class, a child class automatically has the instance variables and methods of the parent class. This is called an 'is-a' relationship. Car is-a Vehicle, so Car is a subclass or child class of Vehicle. Other examples include Dog is-a Pet. There are also has-a relationships that inheritance enables. For instance, Pet has-a name and Dog has-a name as well."
   ]
  },
  {
   "cell_type": "markdown",
   "metadata": {},
   "source": [
    "Here is a thought exercise for this to make more sense: Think of the general category of Computers. What do computers all have in common? What can every computer do? What does every computer have? \n",
    "\n",
    "Now, think about a Smartphone. What else can a Smartphone do that a normal Computer cannot do? What attributes are unique to Smartphones?    \n",
    "\n",
    "Finally, consider Laptops. What functions do Laptops hold that normal computers do not? What attributes are unique to Laptops?\n",
    "\n",
    "The Computer is the parent class, and the Smartphone and Laptop are child classes. The Smartphone and Laptop have all the attributes and abilities of the parent class, but they extend them by adding new attributes and abilities unique to each platform."
   ]
  },
  {
   "cell_type": "markdown",
   "metadata": {},
   "source": [
    "When defining the `__init__` function for a child class, you need to call the `__init__` function of the parent class to define the child class properly."
   ]
  },
  {
   "cell_type": "code",
   "execution_count": null,
   "metadata": {
    "collapsed": true
   },
   "outputs": [],
   "source": [
    "## child __init__'s will look like this\n",
    "def __init__(self, params, childparam):\n",
    "    super().__init__(params) # setting up the super class. super() refers to the super class\n",
    "    self.childparam = childparam"
   ]
  },
  {
   "cell_type": "markdown",
   "metadata": {},
   "source": [
    "### Vehicles Example"
   ]
  },
  {
   "cell_type": "markdown",
   "metadata": {},
   "source": [
    "In general, vehicles have certain common attributes and abilities. To account for this, we can build a parent Vehicle class with which we can form child classes for more specific types of vehicles. Since all Vehicles have name, color, speed, and position, we can incorporate these into the parent class."
   ]
  },
  {
   "cell_type": "code",
   "execution_count": null,
   "metadata": {
    "collapsed": true
   },
   "outputs": [],
   "source": [
    "class Vehicle(object):\n",
    "    def __init__(self, name, color, speed):\n",
    "        self.name = name\n",
    "        self.color = color\n",
    "        self.speed = speed\n",
    "        self.position = 0\n",
    "    \n",
    "    def move(self):\n",
    "        self.position += self.speed\n",
    "    \n",
    "    def stop(self):\n",
    "        self.speed = 0\n",
    "        \n",
    "    def get_color(self):\n",
    "        return self.color"
   ]
  },
  {
   "cell_type": "markdown",
   "metadata": {},
   "source": [
    "Now we can form the child classes. An interesting point about child classes is that they can _override_ parent class methods by redefining them in the body of the class. The syntax for forming child classes is `class Child(Parent):`"
   ]
  },
  {
   "cell_type": "code",
   "execution_count": null,
   "metadata": {
    "collapsed": true
   },
   "outputs": [],
   "source": [
    "class Car(Vehicle):\n",
    "    def __init__(self, name, color, speed, make, model, year):\n",
    "        super().__init__(name,color,speed)\n",
    "        self.make = make\n",
    "        self.model = model\n",
    "        self.year = year\n",
    "        self.on = True\n",
    "        \n",
    "    def stop(self):\n",
    "        super().stop()\n",
    "        self.on = False\n",
    "    \n",
    "    def move(self):\n",
    "        if (not self.on): self.on = True\n",
    "        super().move()"
   ]
  },
  {
   "cell_type": "code",
   "execution_count": null,
   "metadata": {
    "collapsed": true
   },
   "outputs": [],
   "source": [
    "hi = Car(\"hello\",\"red\",2000,\"t\",\"o\",2) \n",
    "# defining a Car uses both the Vehicle attributes and the Car attributes, typically with the \n",
    "# parent attributes first"
   ]
  },
  {
   "cell_type": "code",
   "execution_count": null,
   "metadata": {
    "collapsed": true
   },
   "outputs": [],
   "source": [
    "hi.color # this shows that attributes of the parent class are accessible in child objects"
   ]
  },
  {
   "cell_type": "code",
   "execution_count": null,
   "metadata": {
    "collapsed": true
   },
   "outputs": [],
   "source": [
    "print(\"is on? \" + str(hi.on))\n",
    "hi.stop() # this calls the overridden stop method defined in the child Car class\n",
    "print(\"speed when stopped: \" + str(hi.speed)) \n",
    "print(\"stopped. is on? \" + str(hi.on))\n",
    "hi.speed = 200\n",
    "print(\"new speed: \" + str(hi.speed))\n",
    "print(\"position pre-move: \" + str(hi.position))\n",
    "hi.move() # this calls the overriden move method defined in the child Car class\n",
    "print(\"position post-move: \" + str(hi.position) + \", is on? \" + str(hi.on))"
   ]
  },
  {
   "cell_type": "markdown",
   "metadata": {},
   "source": [
    "### Demo: Numerical Container Class"
   ]
  },
  {
   "cell_type": "markdown",
   "metadata": {},
   "source": [
    "Although Python implicitely supports numerical operations, we're going to create our own custom Container class to explore the special methods that Python has."
   ]
  },
  {
   "cell_type": "markdown",
   "metadata": {},
   "source": [
    "These special methods are methods like `__add__()` and `__repr__()`. These allow Python to use the `+` operator and `print()`, respectively. (`print()` would still _work_ without `__repr__()`, but its output would be meaningless)"
   ]
  },
  {
   "cell_type": "markdown",
   "metadata": {},
   "source": [
    "Our `Container` class will just contain a `value` along with its methods. Notice how we wrap the return value of `__add__()` into a new `Container`. This ensures that we can add the result of a Container with other Containers. (Otherwise, we'd get a raw number + Container, which would confuse Python)."
   ]
  },
  {
   "cell_type": "code",
   "execution_count": null,
   "metadata": {
    "collapsed": true
   },
   "outputs": [],
   "source": [
    "class Container:\n",
    "    def __init__(self, value): #standard constructor\n",
    "        self.value = value \n",
    "        \n",
    "    def __add__(self, other): #other is another Container instance\n",
    "        return Container(self.value + other.value) #we need to extract the value from the other Container\n",
    "    "
   ]
  },
  {
   "cell_type": "markdown",
   "metadata": {},
   "source": [
    "Let's try it out!"
   ]
  },
  {
   "cell_type": "code",
   "execution_count": null,
   "metadata": {},
   "outputs": [],
   "source": [
    "a = Container(3)\n",
    "b = Container(5)\n",
    "\n",
    "print(a + b)"
   ]
  },
  {
   "cell_type": "markdown",
   "metadata": {},
   "source": [
    "Hmm. It certainly printed something. Let's try to make some sense of this.\n",
    "\n",
    "> Container object\n",
    "\n",
    "Well that's promising. It seems as if we've printed a Container object. If we look back at the `__add__()` method, we see that that's exactly what we wanted to happen.\n",
    "\n",
    "> at 0x00......\n",
    "\n",
    "This is just a memory address: where your computer stores the variable. 99% of the time, this won't be relevant to your work, so you can safely ignore the exact value here.\n",
    "\n",
    "So how do we turn this into something interpretable by us?\n",
    "\n",
    "The `__repr__()` method allows us to make a custom message or decide what to output when printing any Container. In this case, we're going to want to print out the value, and maybe a short piece of explanatory text before it."
   ]
  },
  {
   "cell_type": "code",
   "execution_count": null,
   "metadata": {
    "collapsed": true
   },
   "outputs": [],
   "source": [
    "class Container:\n",
    "    def __init__(self, value): #standard constructor\n",
    "        self.value = value \n",
    "        \n",
    "    def __add__(self, other): #other is another Container instance\n",
    "        return Container(self.value + other.value) #we need to extract the value from the other Container\n",
    "    \n",
    "    def __repr__(self):\n",
    "        return \"Contained value: {}\".format(self.value)"
   ]
  },
  {
   "cell_type": "markdown",
   "metadata": {},
   "source": [
    "Notice that we return the string `\"Contained value: \"` followed by the `value` in the Container.\n",
    "\n",
    "Let's try this out."
   ]
  },
  {
   "cell_type": "code",
   "execution_count": null,
   "metadata": {},
   "outputs": [],
   "source": [
    "a = Container(3)\n",
    "b = Container(5)\n",
    "\n",
    "print(a + b)"
   ]
  },
  {
   "cell_type": "markdown",
   "metadata": {},
   "source": [
    "This time, because we defined the `__repr__` function, Python knew what to output so that we could make sense of the value.\n",
    "\n",
    "There are many other special methods, both numerical and non-numerical. \n",
    "\n",
    "You can find a full list of numerical special methods here: http://www.diveintopython3.net/special-method-names.html#acts-like-number (this will be useful for the problem set)."
   ]
  },
  {
   "cell_type": "markdown",
   "metadata": {},
   "source": [
    "# Problem Set 4"
   ]
  },
  {
   "cell_type": "markdown",
   "metadata": {},
   "source": [
    "3\\.0 Explain the purpose of a constructor"
   ]
  },
  {
   "cell_type": "markdown",
   "metadata": {},
   "source": [
    "(Text here)"
   ]
  },
  {
   "cell_type": "markdown",
   "metadata": {},
   "source": [
    "3\\.0.1 What is the difference between an instance of a class and the class itself? "
   ]
  },
  {
   "cell_type": "markdown",
   "metadata": {},
   "source": [
    "(Text here)"
   ]
  },
  {
   "cell_type": "markdown",
   "metadata": {},
   "source": [
    "3\\.1 Given the class `Student` (below), create a new instance of `Student` with your name, age, and grade."
   ]
  },
  {
   "cell_type": "code",
   "execution_count": null,
   "metadata": {
    "collapsed": true
   },
   "outputs": [],
   "source": [
    "#RUN THIS CELL!\n",
    "\n",
    "class Student:\n",
    "    def __init__(self, name, age, grade):\n",
    "        self.name = name\n",
    "        self.age = age\n",
    "        self.grade = grade\n",
    "        \n",
    "    def __repr__(self):\n",
    "        return \"Name: {}, Age: {}, Grade: {}\".format(self.name, self.age, self.grade)"
   ]
  },
  {
   "cell_type": "code",
   "execution_count": null,
   "metadata": {
    "collapsed": true
   },
   "outputs": [],
   "source": [
    "me = # FILL THIS IN\n",
    "\n",
    "print(me)"
   ]
  },
  {
   "cell_type": "markdown",
   "metadata": {},
   "source": [
    "3\\.2 Create a class called `Animal` that contains the fields of `age`, `name`, and `isHungry` and contains the methods of `__init__()`, `make_noise()`, and `eat()`. \n",
    "\n",
    "`eat()` should change `isHungry` to `False` if `isHungry` was `True` before, and otherwise return an error message (string) that explains that `{name}` has already eaten.\n",
    "\n",
    "For any methods you don't know how to implement (`make_noise()`), just type `pass` in the method body. We'll implement this in the next problem."
   ]
  },
  {
   "cell_type": "code",
   "execution_count": null,
   "metadata": {
    "collapsed": true
   },
   "outputs": [],
   "source": [
    "# YOUR CODE HERE"
   ]
  },
  {
   "cell_type": "markdown",
   "metadata": {},
   "source": [
    "3\\.3 Create a class `Cat` and a class `Dog` that both are subclasses of `Animal`. \n",
    "\n",
    "Make sure to implement `__init__()` and `eat()`. (HINT: use `super`)\n",
    "\n",
    "Cats should meow and dogs should bark. (HINT: implement the `make_noise()` method.\n",
    "\n",
    "Feel free to add your own methods and fields to each class. For example, preferred food, lifestyle, etc."
   ]
  },
  {
   "cell_type": "code",
   "execution_count": null,
   "metadata": {
    "collapsed": true
   },
   "outputs": [],
   "source": [
    "# Cat class here"
   ]
  },
  {
   "cell_type": "code",
   "execution_count": null,
   "metadata": {
    "collapsed": true
   },
   "outputs": [],
   "source": [
    "# Dog class here"
   ]
  },
  {
   "cell_type": "markdown",
   "metadata": {},
   "source": [
    "## Project: Finish the Container Class"
   ]
  },
  {
   "cell_type": "markdown",
   "metadata": {},
   "source": [
    "### Part 1:\n",
    "\n",
    "Implement the remaining arithmetic methods in the Container class (*, -, /, etc.). \n",
    "\n",
    "http://www.diveintopython3.net/special-method-names.html#acts-like-number for reference."
   ]
  },
  {
   "cell_type": "code",
   "execution_count": null,
   "metadata": {
    "collapsed": true
   },
   "outputs": [],
   "source": [
    "class Container:\n",
    "    def __init__(self, value): #standard constructor\n",
    "        self.value = value \n",
    "        \n",
    "    def __add__(self, other): #other is another Container instance\n",
    "        return Container(self.value + other.value) #we need to extract the value from the other Container\n",
    "    \n",
    "    def __repr__(self):\n",
    "        return \"Contained value: {}\".format(self.value)\n",
    "    \n",
    "    # YOUR METHODS HERE"
   ]
  },
  {
   "cell_type": "markdown",
   "metadata": {},
   "source": [
    "### Part 2:\n",
    "\n",
    "Test your Container class. Make sure to test every operation, chain operations together, and generally try to mess up your code. If your code doesn't get messed up, congratulations!"
   ]
  },
  {
   "cell_type": "code",
   "execution_count": null,
   "metadata": {
    "collapsed": true
   },
   "outputs": [],
   "source": [
    "#TEST CODE HERE"
   ]
  }
 ],
 "metadata": {
  "kernelspec": {
   "display_name": "Python 3",
   "language": "python",
   "name": "python3"
  },
  "language_info": {
   "codemirror_mode": {
    "name": "ipython",
    "version": 3
   },
   "file_extension": ".py",
   "mimetype": "text/x-python",
   "name": "python",
   "nbconvert_exporter": "python",
   "pygments_lexer": "ipython3",
   "version": "3.6.1"
  }
 },
 "nbformat": 4,
 "nbformat_minor": 2
}
