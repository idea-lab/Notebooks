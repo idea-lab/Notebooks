{
 "cells": [
  {
   "cell_type": "markdown",
   "metadata": {},
   "source": [
    "# Classes #"
   ]
  },
  {
   "cell_type": "markdown",
   "metadata": {},
   "source": [
    "## Notebook Outline ##"
   ]
  },
  {
   "cell_type": "markdown",
   "metadata": {},
   "source": [
    "* Object-oriented programming\n",
    "* What are classes?\n",
    "* Vehicle example\n",
    "* Instance variables\n",
    "* `__init__` function\n",
    "* Inheritance"
   ]
  },
  {
   "cell_type": "markdown",
   "metadata": {},
   "source": [
    "## Object-oriented programming"
   ]
  },
  {
   "cell_type": "markdown",
   "metadata": {},
   "source": [
    "Object oriented programming refers to the use of code to represent the real world. For instance, a car could be considered an object, and it has attributes (color, make, model, miles, etc.) and abilities (drive, park, turn off, etc.). In object-oriented programming, we represent real objects which contain data (aka attributes) and abilities (aka methods or functions)."
   ]
  },
  {
   "cell_type": "markdown",
   "metadata": {},
   "source": [
    "## What are classes?"
   ]
  },
  {
   "cell_type": "markdown",
   "metadata": {},
   "source": [
    "Classes are programmer defined data types. You have already seen the `int`, `str`, `float`, and `bool` datatypes. These are built into the Python language for you to use as you see fit. Sometimes, however, these datatypes are not sufficient to represent a real world object. That's where classes come in. We can make a class to represent an Animal or a Dog or a Cat that contains data (height, weight, age, color, breed, etc.) and methods (walk, run, meow/bark, eat, etc.) These data types can be _instantiated_ to create objects. For instance, we can instantiate the Dog class to create your personal dog, stored in a variable. "
   ]
  },
  {
   "cell_type": "markdown",
   "metadata": {},
   "source": [
    "## Vehicle Example"
   ]
  },
  {
   "cell_type": "markdown",
   "metadata": {},
   "source": [
    "Let's construct a vehicle class (a class is a general category of things) in Python."
   ]
  },
  {
   "cell_type": "code",
   "execution_count": null,
   "metadata": {},
   "outputs": [],
   "source": [
    "class Vehicle(object):\n",
    "    name = \"Caleb's Vehicle\"\n",
    "    make = \"Toyota\"\n",
    "    model = \"Prius\"\n",
    "    year = 2009\n",
    "    color = \"gray\"\n",
    "    \n",
    "    \n",
    "    def full_title(self):\n",
    "        return self.name + \", a \" + str(self.year) + \" \" +self.color + \" \" + \\\n",
    "            self.make + \" \" + self.model\n",
    "    \n",
    "    "
   ]
  },
  {
   "cell_type": "markdown",
   "metadata": {},
   "source": [
    "A few things just happened. First, we opened the class definition with the line `class Vehicle(object):` This specifies the name of the class (the `(object)` is important, but we'll get to that). Each of the variables defined above (`name, make, model, year, color`) are called instance variables. Now, we'll _construct_ a new Vehicle and print the full title."
   ]
  },
  {
   "cell_type": "code",
   "execution_count": null,
   "metadata": {},
   "outputs": [],
   "source": [
    "test_vehicle = Vehicle()\n",
    "print(test_vehicle.full_title())"
   ]
  },
  {
   "cell_type": "markdown",
   "metadata": {},
   "source": [
    "### Instance Variables"
   ]
  },
  {
   "cell_type": "markdown",
   "metadata": {},
   "source": [
    "Instance variables consist of the attributes of a certain object. For the `Vehicle` class, these instance variables have default values (`name = \"Caleb's Vehicle\"`, etc). They can be accessed using the dot (.) operator, which permits interaction with a specific _instance_  of a _class_."
   ]
  },
  {
   "cell_type": "code",
   "execution_count": null,
   "metadata": {},
   "outputs": [],
   "source": [
    "print(test_vehicle.name)"
   ]
  },
  {
   "cell_type": "markdown",
   "metadata": {},
   "source": [
    "They can also be modified. It is important to note that modified instance variables will only be modified in that particular instance of the class. If I change `test_vehicle`'s color, not all Vehicles will update to match."
   ]
  },
  {
   "cell_type": "code",
   "execution_count": null,
   "metadata": {},
   "outputs": [],
   "source": [
    "print(\"old color is \" + test_vehicle.color) # old color\n",
    "test_vehicle.color = \"red\"\n",
    "print(\"new color is \" + test_vehicle.color) # new color\n",
    "print(\"default color is \" + Vehicle.color) # the default color"
   ]
  },
  {
   "cell_type": "markdown",
   "metadata": {},
   "source": [
    "### `__init__` function / Constructor"
   ]
  },
  {
   "cell_type": "markdown",
   "metadata": {},
   "source": [
    "In the previous Vehicle class, the instance variables were preset to certain values. You might be wondering how we can take in certain values for the instance variables. That's where the `__init__(self,[args])` function comes in. This function is called a constructor. Constructors _construct_ new instances of classes. For example: my car is an instance of Car but it is different from your car, which is also an instance of Car. Both objects are Cars, but they have different attributes."
   ]
  },
  {
   "cell_type": "code",
   "execution_count": null,
   "metadata": {
    "collapsed": true
   },
   "outputs": [],
   "source": [
    "class Vehicle(object):\n",
    "    def __init__(self, name, make, model, year, color):\n",
    "        self.name = name\n",
    "        self.make = make\n",
    "        self.model = model\n",
    "        self.year = year\n",
    "        self.color = color\n",
    "    \n",
    "    \n",
    "    def full_title(self):\n",
    "        return self.name + \", a \" + str(self.year) + \" \" +self.color + \" \" + \\\n",
    "            self.make + \" \" + self.model\n",
    "    "
   ]
  },
  {
   "cell_type": "markdown",
   "metadata": {},
   "source": [
    "The `__init__` function is called when you construct a new _instance_ of a class. "
   ]
  },
  {
   "cell_type": "code",
   "execution_count": null,
   "metadata": {},
   "outputs": [],
   "source": [
    "test_vehicle = Vehicle(\"Sky's Vehicle\",\"Toyota\",\"Camry\",\\\n",
    "                       \"2013\",\"red\")\n",
    "# Vehicle() is the same as Vehicle.__init__()\n",
    "print(test_vehicle.full_title())"
   ]
  },
  {
   "cell_type": "markdown",
   "metadata": {},
   "source": [
    "## Inheritance"
   ]
  },
  {
   "cell_type": "markdown",
   "metadata": {},
   "source": [
    "Classes can be related to other, superior classes. These superior classes are known in various languages as the `super` class or the parent class. By 'inheriting' a parent class, a child class automatically has the instance variables and methods of the parent class. This is called an 'is-a' relationship. Car is-a Vehicle, so Car is a subclass or child class of Vehicle. Other examples include Dog is-a Pet. There are also has-a relationships that inheritance enables. For instance, Pet has-a name and Dog has-a name as well."
   ]
  },
  {
   "cell_type": "markdown",
   "metadata": {},
   "source": [
    "Here is a thought exercise for this to make more sense: Think of the general category of Computers. What do computers all have in common? What can every computer do? What does every computer have? \n",
    "\n",
    "Now, think about a Smartphone. What else can a Smartphone do that a normal Computer cannot do? What attributes are unique to Smartphones?    \n",
    "\n",
    "Finally, consider Laptops. What functions do Laptops hold that normal computers do not? What attributes are unique to Laptops?\n",
    "\n",
    "The Computer is the parent class, and the Smartphone and Laptop are child classes. The Smartphone and Laptop have all the attributes and abilities of the parent class, but they extend them by adding new attributes and abilities unique to each platform."
   ]
  },
  {
   "cell_type": "markdown",
   "metadata": {},
   "source": [
    "When defining the `__init__` function for a child class, you need to call the `__init__` function of the parent class to define the child class properly."
   ]
  },
  {
   "cell_type": "code",
   "execution_count": null,
   "metadata": {
    "collapsed": true
   },
   "outputs": [],
   "source": [
    "## child __init__'s will look like this\n",
    "def __init__(self, params, childparam):\n",
    "    super().__init__(params) # setting up the super class. super() refers to the super class\n",
    "    self.childparam = childparam"
   ]
  },
  {
   "cell_type": "markdown",
   "metadata": {},
   "source": [
    "### Vehicles Example"
   ]
  },
  {
   "cell_type": "markdown",
   "metadata": {},
   "source": [
    "In general, vehicles have certain common attributes and abilities. To account for this, we can build a parent Vehicle class with which we can form child classes for more specific types of vehicles. Since all Vehicles have name, color, speed, and position, we can incorporate these into the parent class."
   ]
  },
  {
   "cell_type": "code",
   "execution_count": null,
   "metadata": {},
   "outputs": [],
   "source": [
    "class Vehicle(object):\n",
    "    def __init__(self, name, color, speed):\n",
    "        self.name = name\n",
    "        self.color = color\n",
    "        self.speed = speed\n",
    "        self.position = 0\n",
    "    \n",
    "    def move(self):\n",
    "        self.position += self.speed\n",
    "    \n",
    "    def stop(self):\n",
    "        self.speed = 0\n",
    "        \n",
    "    def get_color(self):\n",
    "        return self.color"
   ]
  },
  {
   "cell_type": "markdown",
   "metadata": {},
   "source": [
    "Now we can form the child classes. An interesting point about child classes is that they can _override_ parent class methods by redefining them in the body of the class. The syntax for forming child classes is `class Child(Parent):`"
   ]
  },
  {
   "cell_type": "code",
   "execution_count": null,
   "metadata": {},
   "outputs": [],
   "source": [
    "class Car(Vehicle):\n",
    "    def __init__(self, name, color, speed, make, model, year):\n",
    "        super().__init__(name,color,speed)\n",
    "        self.make = make\n",
    "        self.model = model\n",
    "        self.year = year\n",
    "        self.on = True\n",
    "        \n",
    "    def stop(self):\n",
    "        super().stop()\n",
    "        self.on = False\n",
    "    \n",
    "    def move(self):\n",
    "        if (not self.on): self.on = True\n",
    "        super().move()"
   ]
  },
  {
   "cell_type": "code",
   "execution_count": null,
   "metadata": {},
   "outputs": [],
   "source": [
    "hi = Car(\"hello\",\"red\",2000,\"t\",\"o\",2) \n",
    "# defining a Car uses both the Vehicle attributes and the Car attributes, typically with the \n",
    "# parent attributes first"
   ]
  },
  {
   "cell_type": "code",
   "execution_count": null,
   "metadata": {},
   "outputs": [],
   "source": [
    "hi.color # this shows that attributes of the parent class are accessible in child objects"
   ]
  },
  {
   "cell_type": "code",
   "execution_count": null,
   "metadata": {},
   "outputs": [],
   "source": [
    "print(\"is on? \" + str(hi.on))\n",
    "hi.stop() # this calls the overridden stop method defined in the child Car class\n",
    "print(\"speed when stopped: \" + str(hi.speed)) \n",
    "print(\"stopped. is on? \" + str(hi.on))\n",
    "hi.speed = 200\n",
    "print(\"new speed: \" + str(hi.speed))\n",
    "print(\"position pre-move: \" + str(hi.position))\n",
    "hi.move() # this calls the overriden move method defined in the child Car class\n",
    "print(\"position post-move: \" + str(hi.position) + \", is on? \" + str(hi.on))"
   ]
  },
  {
   "cell_type": "markdown",
   "metadata": {},
   "source": []
  }
 ],
 "metadata": {
  "kernelspec": {
   "display_name": "Python 3",
   "language": "python",
   "name": "python3"
  },
  "language_info": {
   "codemirror_mode": {
    "name": "ipython",
    "version": 3
   },
   "file_extension": ".py",
   "mimetype": "text/x-python",
   "name": "python",
   "nbconvert_exporter": "python",
   "pygments_lexer": "ipython3",
   "version": "3.6.1"
  }
 },
 "nbformat": 4,
 "nbformat_minor": 2
}
