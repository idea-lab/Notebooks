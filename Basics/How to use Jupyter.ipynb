{
 "cells": [
  {
   "cell_type": "markdown",
   "metadata": {},
   "source": [
    "# What is a jupyter notebook?\n",
    "Jupyter notebooks are a great tool to do fast prototyping of code as well as demonstrate new concepts. (1 or 2 more sentences)\n",
    "\n",
    "\n",
    "# How do I use a jupyter notebook?\n",
    "\n",
    "## Installation\n",
    "We recommend installing jupyter through Anaconda, because Anaconda also comes with many other standard python libraries. (This should already be done for you on the school computers)\n",
    "* [Anaconda download](https://www.continuum.io/downloads)\n",
    "\n",
    "## Running jupyter\n",
    "In your terminal application of choice, navigate to a working directory. \n",
    "    \n",
    "(Remember, ```cd``` to move into a folder, ```ls``` or ```dir``` to view the contents of your current directory)\n",
    "\n",
    "When you're in the desired directory, simply type\n",
    "\n",
    "```\n",
    "jupyter notebook\n",
    "```\n",
    "jupyter will then run at localhost:8888\n",
    "\n",
    "## Editing notebooks\n",
    "Opening a new or existing notebook brings you to the notebook user interface. This UI contains a menu and toolbar at the top and a notebook area below.\n",
    "\n",
    "Jupyter notebooks consist of cells, either of markdown (a text formatting language), or of a programming language (in this case, Python).\n",
    "\n",
    "There are two modes of modifying a jupyter notebook. \n",
    "\n",
    "The first is edit mode, where you can simply edit the contents of a cell. The cell selection should be green, and you will also see a pencil in the top right corner. \n",
    "\n",
    "The second is command mode, where you modify each cell itself. Command mode is signified by a blue selection, and no pencil in the top right. \n",
    "\n",
    "To get from command mode to edit mode, simply press <kbd>enter</kbd>, or double click on a cell. You'll enter edit mode for the selected cell. To get from edit mode to command mode, press <kbd>esc</kbd> or use the mouse to click outside the cell's editor area.\n",
    "\n",
    "#### Keyboard Shortcuts (use them!!)\n",
    "You can view all keyboard shortcuts through the help menu, but these are some useful ones:\n",
    "\n",
    "* <kbd>shift</kbd> + <kbd>enter</kbd> - Run cell, and select next cell\n",
    "* <kbd>ctrl</kbd> + <kbd>enter</kbd> - Run cell, and stay on the same cell\n",
    "* (in command mode) <kbd>m</kbd> - Change a cell from code to markdown\n",
    "* (in command mode) <kbd>y</kbd> - Change a cell from markdown to code\n",
    "* (in command mode) <kbd>d</kbd>, <kbd>d</kbd> - Delete a cell\n",
    "* (in command mode) <kbd>a</kbd> - add a cell above\n",
    "* (in command mode) <kbd>b</kbd> - add a cell below\n",
    "* (in edit mode) <kbd>tab</kbd> - autocomplete\n",
    "* (in edit mode, inside function () ) <kbd>shift</kbd> + <kbd>tab</kbd> - documentation/tooltips"
   ]
  },
  {
   "cell_type": "markdown",
   "metadata": {},
   "source": [
    "## Try it out!"
   ]
  },
  {
   "cell_type": "code",
   "execution_count": null,
   "metadata": {
    "collapsed": true
   },
   "outputs": [],
   "source": []
  }
 ],
 "metadata": {
  "kernelspec": {
   "display_name": "Python [default]",
   "language": "python",
   "name": "python3"
  },
  "language_info": {
   "codemirror_mode": {
    "name": "ipython",
    "version": 3
   },
   "file_extension": ".py",
   "mimetype": "text/x-python",
   "name": "python",
   "nbconvert_exporter": "python",
   "pygments_lexer": "ipython3",
   "version": "3.5.3"
  }
 },
 "nbformat": 4,
 "nbformat_minor": 2
}
