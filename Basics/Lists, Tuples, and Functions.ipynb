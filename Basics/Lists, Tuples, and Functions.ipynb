{
 "cells": [
  {
   "cell_type": "markdown",
   "metadata": {},
   "source": [
    "# Week 3: Lists, Tuples, and Functions"
   ]
  },
  {
   "cell_type": "markdown",
   "metadata": {
    "collapsed": true
   },
   "source": [
    "# Lists"
   ]
  },
  {
   "cell_type": "markdown",
   "metadata": {},
   "source": [
    "Python Documentation: [Lists](https://docs.python.org/3/tutorial/introduction.html#lists)"
   ]
  },
  {
   "cell_type": "markdown",
   "metadata": {},
   "source": [
    "So far, we've looked at variables storing a singular variable. What happens when we need to group values together? \n",
    "\n",
    "In this case, we have to use a type of variable called a **list**"
   ]
  },
  {
   "cell_type": "markdown",
   "metadata": {},
   "source": [
    "Let's create a basic list. \n",
    "\n",
    "Like any variable, we need a name for it, `my_list` in this example. To denote a grouping of values, use square brackets `[]` and separate different values (called **elements**) by commas. "
   ]
  },
  {
   "cell_type": "code",
   "execution_count": null,
   "metadata": {},
   "outputs": [],
   "source": [
    "my_list = [10, 42, -7]\n",
    "print(my_list)"
   ]
  },
  {
   "cell_type": "markdown",
   "metadata": {},
   "source": [
    "As you can see, `my_list` simultaneously stores all three values, and can output them. \n",
    "\n",
    "But what if we only want one?"
   ]
  },
  {
   "cell_type": "code",
   "execution_count": null,
   "metadata": {},
   "outputs": [],
   "source": [
    "print(my_list[0])"
   ]
  },
  {
   "cell_type": "markdown",
   "metadata": {},
   "source": [
    "We just accessed the first element in the list. (Notice the similarity to strings?)\n",
    "\n",
    "Note the syntax here: in order to get a certain element from the list, just type `{listname}[{position}]` (fill in `{listname}` and `{position}`)\n",
    "\n",
    "One of the most important things to take away is that the first element of the list is actually index **0** (**index** means position). This means that the **indices** (positions) in `my_list` actually are 0, 1, and 2. In general, with a list of length $n$, the indices will range from $0...n-1$, inclusive."
   ]
  },
  {
   "cell_type": "markdown",
   "metadata": {},
   "source": [
    "What happens if we try to access an element that isn't in the list (the list doesn't have that index)?"
   ]
  },
  {
   "cell_type": "code",
   "execution_count": null,
   "metadata": {},
   "outputs": [],
   "source": [
    "print(my_list[3])"
   ]
  },
  {
   "cell_type": "markdown",
   "metadata": {},
   "source": [
    "The `index out of range` exception is one of the most common types of errors for introductory and even advanced programmers. All it means is that you've given the list an index that would be outside of the list. \n",
    "\n",
    "For example, here we tried to access index `3` (the fourth element), except we don't actually have a fourth element in the list. As a result, the compiler gets super confused and throws an error."
   ]
  },
  {
   "cell_type": "markdown",
   "metadata": {},
   "source": [
    "You can also change the values of elements in a list:"
   ]
  },
  {
   "cell_type": "code",
   "execution_count": null,
   "metadata": {},
   "outputs": [],
   "source": [
    "my_list[1] = 100\n",
    "print(my_list)"
   ]
  },
  {
   "cell_type": "markdown",
   "metadata": {},
   "source": [
    "`my_list[1]` is treated like any other variable, except that it also is contained within the larger `my_list` variable."
   ]
  },
  {
   "cell_type": "markdown",
   "metadata": {},
   "source": [
    "Many of the things you can do with strings, you can also do with lists. For example: slicing."
   ]
  },
  {
   "cell_type": "code",
   "execution_count": null,
   "metadata": {},
   "outputs": [],
   "source": [
    "print(my_list[0:2]) # the first two elements in the list\n",
    "\n",
    "print(my_list[::-1]) # the reverse of the list"
   ]
  },
  {
   "cell_type": "markdown",
   "metadata": {},
   "source": [
    "In order to add new elements to the list, you can do one of two things:\n",
    "\n",
    "First, use `.append()`."
   ]
  },
  {
   "cell_type": "code",
   "execution_count": null,
   "metadata": {},
   "outputs": [],
   "source": [
    "shopping_list = [\"Apples\", \"Computer\", \"Cheese\", \"Civilization 6\"] # just a normal shopping list\n",
    "print(shopping_list)"
   ]
  },
  {
   "cell_type": "code",
   "execution_count": null,
   "metadata": {},
   "outputs": [],
   "source": [
    "shopping_list.append(\"Europa Universalis 4\") \n",
    "print(shopping_list) # a better shopping list"
   ]
  },
  {
   "cell_type": "markdown",
   "metadata": {},
   "source": [
    "Second, concatenate (add together) two different lists."
   ]
  },
  {
   "cell_type": "code",
   "execution_count": null,
   "metadata": {},
   "outputs": [],
   "source": [
    "my_friends_shopping_list = [\"SSB Melee\", \"Salt\", \"Cat\", \"A passing grade in English\"]\n",
    "#alternatively, directly add the lists: shopping_list+= [\"SSB Melee\", \"Salt\", \"Cat\", \"A passing grade in English\"]\n",
    "shopping_list += my_friends_shopping_list \n",
    "print(shopping_list)"
   ]
  },
  {
   "cell_type": "markdown",
   "metadata": {},
   "source": [
    "It's important to remember that when using concatentation, you have to add two _lists_ (meaning there should be square brackets somewhere). "
   ]
  },
  {
   "cell_type": "markdown",
   "metadata": {},
   "source": [
    "Overall, you should be able to see that `.append()` is better to use if you're adding one element at a time, while concatenation is better used when adding multiple elements at the same time, or combining lists."
   ]
  },
  {
   "cell_type": "code",
   "execution_count": null,
   "metadata": {
    "collapsed": true
   },
   "outputs": [],
   "source": []
  },
  {
   "cell_type": "markdown",
   "metadata": {},
   "source": [
    "### Example: Find all even numbers between 1 and 100 (inclusive) and store them in a list."
   ]
  },
  {
   "cell_type": "markdown",
   "metadata": {},
   "source": [
    "This problem is pretty self explanatory. At the end of the program, we want to have a list containing `[2, 4, 6, 8, ..., 98, 100]`"
   ]
  },
  {
   "cell_type": "markdown",
   "metadata": {},
   "source": [
    "###### Solution 1:"
   ]
  },
  {
   "cell_type": "code",
   "execution_count": null,
   "metadata": {},
   "outputs": [],
   "source": [
    "even_nums = [] #started as empty so that we can add even numbers as we find them\n",
    "for i in range(1, 101): #remember, range() is exclusive, so we need to go to 101 to include 100\n",
    "    if i % 2 == 0: #if i is even\n",
    "        even_nums.append(i) #add i to the list\n",
    "\n",
    "print(even_nums)"
   ]
  },
  {
   "cell_type": "markdown",
   "metadata": {},
   "source": [
    "##### Solution 2:"
   ]
  },
  {
   "cell_type": "code",
   "execution_count": null,
   "metadata": {},
   "outputs": [],
   "source": [
    "even_nums = [] #again, empty list\n",
    "for i in range(2, 102, 2): #instead of testing if i is even, if we skip by twos, we know that i will be even \n",
    "    #(assuming we start on an even number)\n",
    "    even_nums.append(i)\n",
    "    \n",
    "print(even_nums)"
   ]
  },
  {
   "cell_type": "markdown",
   "metadata": {},
   "source": [
    "# Tuples"
   ]
  },
  {
   "cell_type": "markdown",
   "metadata": {},
   "source": [
    "Recommended Reading: https://docs.python.org/3/tutorial/datastructures.html#tuples-and-sequences"
   ]
  },
  {
   "cell_type": "markdown",
   "metadata": {},
   "source": [
    "Tuples are another kind of data structure that can store multiple values. However, unlike lists, neither the values nor the length of a tuple can be changed once created."
   ]
  },
  {
   "cell_type": "markdown",
   "metadata": {},
   "source": [
    "Creating a tuple is very similar to creating a list, except you use regular parentheses `()` instead of square brackets."
   ]
  },
  {
   "cell_type": "code",
   "execution_count": null,
   "metadata": {},
   "outputs": [],
   "source": [
    "my_tup = (0, 1, 2)\n",
    "print(my_tup)"
   ]
  },
  {
   "cell_type": "markdown",
   "metadata": {},
   "source": [
    "If they're basically the same as lists, but with more limitations, why use tuples?\n",
    "\n",
    "First, tuples are very useful when you want one entity that happens to have multiple parts. A notable example is with a coordinate, where you know that there will be an x coordinate and a y coordinate. However, you want to store them as one point. Tuples are useful because you can use one value for the combined (x, y) point.\n",
    "\n",
    "More importantly, the key feature of a tuple is **unpacking**: you can directly access all of the values in a tuple with variables:"
   ]
  },
  {
   "cell_type": "code",
   "execution_count": null,
   "metadata": {},
   "outputs": [],
   "source": [
    "x, y, z = (10, 2, -3)\n",
    "print(x)\n",
    "print(y)\n",
    "print(z)"
   ]
  },
  {
   "cell_type": "markdown",
   "metadata": {},
   "source": [
    "Python is smart enough to know that we want to split up the tuple (10, 2, -3) into its constituent parts because we give it three variables. This is much more convenient than say, having a list of length 3, and having to break it down with indexing."
   ]
  },
  {
   "cell_type": "code",
   "execution_count": null,
   "metadata": {},
   "outputs": [],
   "source": [
    "# the equivalent code using lists:\n",
    "list_1 = [10, 2, -3]\n",
    "x = list_1[0]\n",
    "y = list_1[1]\n",
    "z = list_1[2]\n",
    "print(x)\n",
    "print(y)\n",
    "print(z)"
   ]
  },
  {
   "cell_type": "markdown",
   "metadata": {},
   "source": [
    "We will see more applications of tuples with functions."
   ]
  },
  {
   "cell_type": "markdown",
   "metadata": {},
   "source": [
    "### Advanced: List comprehensions"
   ]
  },
  {
   "cell_type": "markdown",
   "metadata": {},
   "source": [
    "**List Comprehensions** are a way to procedurally generate a (usually numerical) list on the spot. \n",
    "\n",
    "Example:"
   ]
  },
  {
   "cell_type": "code",
   "execution_count": null,
   "metadata": {},
   "outputs": [],
   "source": [
    "x = [x**2 for x in range(0, 10)] #gets squares of integers from 0-9\n",
    "print(x)"
   ]
  },
  {
   "cell_type": "markdown",
   "metadata": {},
   "source": [
    "Let's break this down.\n",
    "\n",
    "> `x = `\n",
    "\n",
    "Ok, so we're assigning something to a variable.\n",
    "\n",
    "> `x**2`\n",
    "\n",
    "We're squaring some number (`x` here refers to a general variable, not specifically the variable `x` that we are assigning to right now).\n",
    "\n",
    "> `for x in range(0, 10)`\n",
    "\n",
    "So this placeholder `x` will be the values from 0-9."
   ]
  },
  {
   "cell_type": "markdown",
   "metadata": {},
   "source": [
    "Putting it all together, we can see that the operation `x**2` gets applied to each value from 0-9, and then all of the results are put together in a list."
   ]
  },
  {
   "cell_type": "markdown",
   "metadata": {},
   "source": [
    "This is extremely similar to standard notation for a set in regular mathematics, for example:\n",
    "\n",
    "`S = {x² : x in {0 ... 9}}`\n",
    "\n",
    "`M = {x | x in S and x even}`\n",
    "\n",
    "To put the conditions on the values (like in the second example), we can add an if to the comprehension:"
   ]
  },
  {
   "cell_type": "code",
   "execution_count": null,
   "metadata": {},
   "outputs": [],
   "source": [
    "y = [x**2 for x in range(0, 10) if x%2 == 0] #only get squares of even integers\n",
    "print(y)"
   ]
  },
  {
   "cell_type": "markdown",
   "metadata": {},
   "source": [
    "Here, `x` again refers to a placeholder value that goes through the values of 0-9. However, we selectively filter out some values of `x`, only choosing those that are even (`x%2 == 0`)"
   ]
  },
  {
   "cell_type": "markdown",
   "metadata": {},
   "source": [
    "# Functions"
   ]
  },
  {
   "cell_type": "markdown",
   "metadata": {},
   "source": [
    "Strongly Recommended Reading: http://anh.cs.luc.edu/python/hands-on/3.1/handsonHtml/functions.html"
   ]
  },
  {
   "cell_type": "markdown",
   "metadata": {},
   "source": [
    "Functions are arguably the backbone of programming. \n",
    "\n",
    "Similar to mathematics, a **function** is a set of instructions that takes in an input or inputs (called **arguments** or **parameters**), manipulates the input(s), and finally gives an output or outputs (called **return values**).\n",
    "\n",
    "Functions help you to **modularize**, meaning to split your code into a combination of separate functions, each doing one specific task. This makes it much easier conceptually to build and understand code. This also prevents repetitive code, shortening code length and decreasing the energy needed to write complex code."
   ]
  },
  {
   "cell_type": "markdown",
   "metadata": {},
   "source": [
    "To create a function in Python, you use the following syntax:\n",
    "    \n",
    "    def {function name}({arguments}):\n",
    "        #code inside function\n",
    "        \n",
    "For example:"
   ]
  },
  {
   "cell_type": "code",
   "execution_count": null,
   "metadata": {
    "collapsed": true
   },
   "outputs": [],
   "source": [
    "def add(a, b):  #this line is often called the function definition\n",
    "    return a + b"
   ]
  },
  {
   "cell_type": "markdown",
   "metadata": {},
   "source": [
    "First, notice that running this cell didn't actually do anything. That's because we've merely **defined** the function, but we haven't actually run it yet. \n",
    "\n",
    "This function, called `add`, takes in two **arguments**, which the function labels as `a` and `b`. You can pass in any two values to the function, but internally the function calls them `a` and `b`. \n",
    "\n",
    "After taking in the input, the function outputs, or **returns**, the sum of `a` and `b`.\n",
    "\n",
    "Let's try this function out now."
   ]
  },
  {
   "cell_type": "code",
   "execution_count": null,
   "metadata": {},
   "outputs": [],
   "source": [
    "print(add(1, 2))"
   ]
  },
  {
   "cell_type": "markdown",
   "metadata": {},
   "source": [
    "We've just **called** this function with the values of `1` and `2`. To call the function, we type the function name (`add`), then put the inputs we want into parentheses, separated by commas. \n",
    "\n",
    "Inside the function, `a` and `b` get replaced with `1` and `2`, respectively. Thus, the program returns `1 + 2` which evaluates to three. "
   ]
  },
  {
   "cell_type": "markdown",
   "metadata": {},
   "source": [
    "If you haven't noticed by now, quite a lot of what we've used so far have been functions!\n",
    "\n",
    "For example, `print()` is actually a function that takes in a value and outputs it to the console.\n",
    "\n",
    "`range()` is another function that takes in 2 (or 3) values, and gives back the values between those values (albeit in an useless form for humans)."
   ]
  },
  {
   "cell_type": "markdown",
   "metadata": {},
   "source": [
    "Obviously, `add()` is a semi-redundant function, as we can simply use the `+` operator.\n",
    "\n",
    "Let's try another, less redundant, function."
   ]
  },
  {
   "cell_type": "code",
   "execution_count": null,
   "metadata": {
    "collapsed": true
   },
   "outputs": [],
   "source": [
    "def happy_birthday(name): #from above source\n",
    "    print(\"Happy birthday to you!\")\n",
    "    print(\"Happy birthday to you!\")\n",
    "    print(\"Happy birthday, dear \"+name+\"!\") #using string concatenation\n",
    "    print(\"Happy birthday to you!\")"
   ]
  },
  {
   "cell_type": "code",
   "execution_count": null,
   "metadata": {},
   "outputs": [],
   "source": [
    "happy_birthday(\"Sacha Baron Cohen\") # we don't need to encapsulate this in a print(), because the function prints for us\n",
    "print(\"--------------------------------------\")\n",
    "happy_birthday(\"everyone born on October 13th\")"
   ]
  },
  {
   "cell_type": "markdown",
   "metadata": {},
   "source": [
    "As you can see, putting the happy birthday code inside a function greatly increases our efficiency. Instead of having to type out the four lines everytime we want to wish someone a happy birthday, we can instead run the happy_birthday function and just pass in their name.\n",
    "\n",
    "Note that in this function, there is no return statement. If you tried to print `happy_birthday(\"name\")`, it would print out `None`. Instead, the function directly prints out the lyrics to happy birthday."
   ]
  },
  {
   "cell_type": "markdown",
   "metadata": {},
   "source": [
    "### Keyword Arguments"
   ]
  },
  {
   "cell_type": "markdown",
   "metadata": {},
   "source": [
    "**Keyword Arguments** are arguments for a function that must be assigned directly when calling the function. They are useful when the function has default values, or optional values.\n",
    "\n",
    "Example:"
   ]
  },
  {
   "cell_type": "code",
   "execution_count": null,
   "metadata": {
    "collapsed": true
   },
   "outputs": [],
   "source": [
    "def ex_function(a, b, c = 0, d = 0):\n",
    "    return a * c + b * d"
   ]
  },
  {
   "cell_type": "markdown",
   "metadata": {},
   "source": [
    "We can choose not to pass in values for `c` and `d`. In that case, `c` and `d` will default to `0`, and thus our function will always return `0`."
   ]
  },
  {
   "cell_type": "code",
   "execution_count": null,
   "metadata": {},
   "outputs": [],
   "source": [
    "print(ex_function(42, 100))"
   ]
  },
  {
   "cell_type": "markdown",
   "metadata": {},
   "source": [
    "However, if we want to give `c` and `d` some values, we have to directly mention them:"
   ]
  },
  {
   "cell_type": "code",
   "execution_count": null,
   "metadata": {},
   "outputs": [],
   "source": [
    "print(ex_function(42, 100, c = 1, d = 10))"
   ]
  },
  {
   "cell_type": "markdown",
   "metadata": {},
   "source": [
    "### Variable Length Arguments"
   ]
  },
  {
   "cell_type": "markdown",
   "metadata": {},
   "source": [
    "**Variable length arguments** are useful when you don't know exactly how many elements will be passed into your function. When using a variable length argument, put an asterisk `*` before it. (For those of you that know C: no, this is not a pointer)\n",
    "\n",
    "The variable length argument will be passed in as a **tuple**"
   ]
  },
  {
   "cell_type": "code",
   "execution_count": null,
   "metadata": {
    "collapsed": true
   },
   "outputs": [],
   "source": [
    "def sum_values(*arguments): \n",
    "    culm_sum = 0\n",
    "    for argument in arguments: #argument will loop through each value in the tuple arguments\n",
    "        culm_sum += argument\n",
    "    return culm_sum"
   ]
  },
  {
   "cell_type": "code",
   "execution_count": null,
   "metadata": {},
   "outputs": [],
   "source": [
    "print(sum_values(0, 1, 2, 3, 4, 5, 6))"
   ]
  },
  {
   "cell_type": "code",
   "execution_count": null,
   "metadata": {},
   "outputs": [],
   "source": [
    "print(sum_values(1, 2, 10, -1000, 7))"
   ]
  },
  {
   "cell_type": "markdown",
   "metadata": {},
   "source": [
    "##### Advanced: Unpacking a tuple into a function"
   ]
  },
  {
   "cell_type": "markdown",
   "metadata": {},
   "source": [
    "Occasionally, you will get all the values you want to pass into a function as a tuple. Ordinarily, if you just passed the tuple in, the function would treat it as one value instead of taking each value and separating it out.\n",
    "\n",
    "For example:"
   ]
  },
  {
   "cell_type": "code",
   "execution_count": null,
   "metadata": {
    "collapsed": true
   },
   "outputs": [],
   "source": [
    "def magnitude(a, b): #magnitude of a vector (pythagorean theorem)\n",
    "    return (a**2 + b**2)**(1/2)"
   ]
  },
  {
   "cell_type": "code",
   "execution_count": null,
   "metadata": {
    "collapsed": true
   },
   "outputs": [],
   "source": [
    "vector = (3, 4)"
   ]
  },
  {
   "cell_type": "code",
   "execution_count": null,
   "metadata": {},
   "outputs": [],
   "source": [
    "print(magnitude(vector)) #throws an error"
   ]
  },
  {
   "cell_type": "markdown",
   "metadata": {},
   "source": [
    "This throws an error because `magnitude()` thinks that your vector (3, 4) is `a`, and then it can't find a `b`. However, clearly we want `a = 3` and `b = 4`. To unpack this tuple into the function arguments, add an asterisk before passing in the tuple:"
   ]
  },
  {
   "cell_type": "code",
   "execution_count": null,
   "metadata": {},
   "outputs": [],
   "source": [
    "print(magnitude(*vector))"
   ]
  },
  {
   "cell_type": "markdown",
   "metadata": {},
   "source": [
    "##### Advanced: Lambda Functions"
   ]
  },
  {
   "cell_type": "markdown",
   "metadata": {},
   "source": [
    "Lambda functions, aka Anonymous functions, are functions that aren't defined normally. Instead, Lambda functions are most often used as variables themselves, to pass in to another function to define how the other function runs.\n",
    "\n",
    "Lambda functions don't have names, and they can only return one value.\n",
    "\n",
    "The syntax of a lambda function is as follows:\n",
    "   \n",
    "    lambda arg1[, arg2, ...]: value to return\n",
    "   \n",
    "This is an example of a function that takes in _another function_ as an argument, and runs it with some arguments (taken as a tuple)."
   ]
  },
  {
   "cell_type": "code",
   "execution_count": null,
   "metadata": {
    "collapsed": true
   },
   "outputs": [],
   "source": [
    "def run_this_function(f, args):\n",
    "    return f(*args) #unpacking a tuple (see above)"
   ]
  },
  {
   "cell_type": "markdown",
   "metadata": {},
   "source": [
    "Let's use lambda here:"
   ]
  },
  {
   "cell_type": "code",
   "execution_count": null,
   "metadata": {},
   "outputs": [],
   "source": [
    "print(run_this_function(lambda x, y: x+y, (1, 2)))"
   ]
  },
  {
   "cell_type": "markdown",
   "metadata": {},
   "source": [
    "Here we give `run_this_function` the mathematical function $f(x, y) = x + y$, and run it with `x, y = (1, 2)`"
   ]
  },
  {
   "cell_type": "markdown",
   "metadata": {},
   "source": [
    "However, the most common use of lambda's is for sorting. Python has a built-in `sorted()` function that returns a sorted version of a list:"
   ]
  },
  {
   "cell_type": "code",
   "execution_count": null,
   "metadata": {
    "collapsed": true
   },
   "outputs": [],
   "source": [
    "values_to_sort = [\"Apple\", \"Bee\", \"Anesthesia\", \"Zebra\", \"Snake\", \"String\", \"Foo\"]"
   ]
  },
  {
   "cell_type": "markdown",
   "metadata": {},
   "source": [
    "Normally, `sorted()` will sort based on alphabetical order:"
   ]
  },
  {
   "cell_type": "code",
   "execution_count": null,
   "metadata": {},
   "outputs": [],
   "source": [
    "print(sorted(values_to_sort))"
   ]
  },
  {
   "cell_type": "markdown",
   "metadata": {},
   "source": [
    "However, what if you wanted to sort by length?"
   ]
  },
  {
   "cell_type": "code",
   "execution_count": null,
   "metadata": {},
   "outputs": [],
   "source": [
    "print(sorted(values_to_sort, key = lambda x: len(x)))"
   ]
  },
  {
   "cell_type": "markdown",
   "metadata": {},
   "source": [
    "`sorted()` takes the keyword argument `key`. For strings, this defaults to sorting in alphabetical order. However, we have changed it so that it now sorts by length using a lambda that, given a value `x`, returns the length of `x`."
   ]
  },
  {
   "cell_type": "markdown",
   "metadata": {},
   "source": [
    "# Problem Set 3\n",
    "3\\.1 Print out the string at the third index of the list below."
   ]
  },
  {
   "cell_type": "code",
   "execution_count": null,
   "metadata": {
    "collapsed": true
   },
   "outputs": [],
   "source": [
    "animals = ['Cow','Dog','Mouse','Seahorse','Elephant']\n",
    "\n",
    "# YOUR CODE HERE #"
   ]
  },
  {
   "cell_type": "markdown",
   "metadata": {},
   "source": [
    "3\\.2 Print out only the animals in the following list using list slicing."
   ]
  },
  {
   "cell_type": "code",
   "execution_count": null,
   "metadata": {
    "collapsed": true
   },
   "outputs": [],
   "source": [
    "species = ['Cow','Chicken','Moose','Goat','Basil','Oak','Maple']\n",
    "\n",
    "# YOUR CODE HERE #"
   ]
  },
  {
   "cell_type": "markdown",
   "metadata": {},
   "source": [
    "3\\.3 Define a list named `artists` so that the code below prints `Rembrandt and Van Gogh`."
   ]
  },
  {
   "cell_type": "code",
   "execution_count": null,
   "metadata": {
    "collapsed": true
   },
   "outputs": [],
   "source": [
    "# YOUR CODE HERE #\n",
    "\n",
    "print(artists[3] + \" and \" + artists[0])"
   ]
  },
  {
   "cell_type": "markdown",
   "metadata": {},
   "source": [
    "3\\.4 Define a function that returns the number of instances of a string `target` in a list `strList`."
   ]
  },
  {
   "cell_type": "code",
   "execution_count": null,
   "metadata": {
    "collapsed": true
   },
   "outputs": [],
   "source": [
    "def strCount(strList, target):\n",
    "    # YOUR CODE HERE #\n",
    "    return None # change this to return the count\n",
    "\n",
    "testCase1 = ['Cow','Cow','Cow','Dog','Cow']\n",
    "print(strCount(testCase1,'Cow'))\n",
    "print(strCount(testCase1, 'Dog'))\n",
    "\n",
    "testCase2 = ['Pig','Chicken','Cod', 'Cod','IdeaLab']\n",
    "print(strCount(testCase2, 'IdeaLab'))\n",
    "print(strCount(testCase2, 'Pig'))"
   ]
  },
  {
   "cell_type": "markdown",
   "metadata": {},
   "source": [
    "3\\.5 Given an array of length 3, return an array with the elements \"rotated left\" so {1,2,3} yields {2,3,1} (credit to CodingBat) "
   ]
  },
  {
   "cell_type": "code",
   "execution_count": null,
   "metadata": {
    "collapsed": true
   },
   "outputs": [],
   "source": [
    "def rotate_left3(nums):\n",
    "    # YOUR CODE HERE #\n",
    "    return None # Change to return the new array\n",
    "\n",
    "print(rotate_left3([1,2,3]))\n",
    "print(rotate_left3([3,2,1]))\n",
    "print(rotate_left3([1,1,2]))\n",
    "print(rotate_left3([10,12,11]))"
   ]
  },
  {
   "cell_type": "markdown",
   "metadata": {},
   "source": [
    "3\\.6 Given an array of length `n`, reverse the array so {1,2,3} yields {3,2,1}. HINT: Look at the operations notebook section on slicing. HINT 2: Google the \"third\" slice argument (array[::1]) HINT 3: Ask us!"
   ]
  },
  {
   "cell_type": "code",
   "execution_count": null,
   "metadata": {
    "collapsed": true
   },
   "outputs": [],
   "source": [
    "def reverse(array_in):\n",
    "    # YOUR CODE HERE #\n",
    "    return None # Change to return the new array\n",
    "\n",
    "print(reverse([1,2,3]))\n",
    "print(reverse([3,2,1]))\n",
    "print(reverse(['b','e','l','a','c']))\n",
    "print(reverse(['meeting','idealab','an','at','are','you']))\n",
    "print(reverse([3.14,3.141,3.1415,3.14159]))"
   ]
  },
  {
   "cell_type": "markdown",
   "metadata": {},
   "source": [
    "3\\.7 Re-implement Python's built-in startswith string function as `starts_with`."
   ]
  },
  {
   "cell_type": "code",
   "execution_count": null,
   "metadata": {
    "collapsed": true
   },
   "outputs": [],
   "source": [
    "# EXAMPLE\n",
    "print('Mississippi'.startswith('Miss')) # Mississippi is the orig, Miss is the substring\n",
    "print('Aardvark'.startswith('Ant')) # Aardvark is the orig, Ant is the substring"
   ]
  },
  {
   "cell_type": "code",
   "execution_count": null,
   "metadata": {
    "collapsed": true
   },
   "outputs": [],
   "source": [
    "def starts_with(orig,substring):\n",
    "    # YOUR CODE HERE #\n",
    "    return None # Change to return a boolean\n",
    "\n",
    "print(starts_with(\"Orig\",\"Or\"))\n",
    "print(starts_with(\"Mississippi\",\"Miss\"))\n",
    "print(starts_with(\"Aardvark\",\"Ant\"))\n",
    "print(starts_with(\"IdeaLab\",\"SciOly\"))\n",
    "print(starts_with(\"Sweater\",\"Sweat\"))"
   ]
  },
  {
   "cell_type": "markdown",
   "metadata": {
    "collapsed": true
   },
   "source": [
    "3\\.8 Given a list of tuples in the format `(name, age, height)`, sort the list by height. HINT: Look up the sorted() function. HINT 2: The key should be related to what we're sorting by. HINT 3: Come ask for help!"
   ]
  },
  {
   "cell_type": "code",
   "execution_count": null,
   "metadata": {},
   "outputs": [],
   "source": [
    "def height_sort(info_list):\n",
    "    # YOUR CODE HERE #\n",
    "    return None # change to return the new list\n",
    "\n",
    "print(height_sort([(\"Caleb\",17,1.727),(\"Sky\",16,1.7),(\"Serena Williams\",36,1.75),(\"Victor\",17,2.0),(\"Sun Fang\",30,2.21)]))\n",
    "print(height_sort([(\"Freshmen\",14,1.0),(\"Sophomores\",15,0.5),(\"Juniors\",16,0.3),(\"Seniors\",17,-5)]))"
   ]
  },
  {
   "cell_type": "markdown",
   "metadata": {},
   "source": [
    "3\\.9 Given a list of tuples in the format `[(name, [majors])]`, use the strCount() method previously defined in this notebook to count how many of a certain major there are. EXAMPLE: `students = [\n",
    "    (\"John\", [\"CompSci\", \"Physics\"]),\n",
    "    (\"Vusi\", [\"Maths\", \"CompSci\", \"Stats\"]),\n",
    "    (\"Jess\", [\"CompSci\", \"Accounting\", \"Economics\", \"Management\"]),\n",
    "    (\"Sarah\", [\"InfSys\", \"Accounting\", \"Economics\", \"CommLaw\"]),\n",
    "    (\"Zuki\", [\"Sociology\", \"Economics\", \"Law\", \"Stats\", \"Music\"])]`\n",
    "    \n",
    "   `major_count(students, \"Stats\") == 2`\n",
    "   \n",
    "   `major_count(students, \"Sociology\") == 1`\n",
    "   \n",
    "   `major_count(students, \"BasketWeaving\") == 0`"
   ]
  },
  {
   "cell_type": "code",
   "execution_count": null,
   "metadata": {
    "collapsed": true
   },
   "outputs": [],
   "source": [
    "def major_count(students, major):\n",
    "    # YOUR CODE HERE #\n",
    "    return None # change to return the number of majors matching major\n",
    "\n",
    "students = [\n",
    "    (\"John\", [\"CompSci\", \"Physics\"]),\n",
    "    (\"Vusi\", [\"Maths\", \"CompSci\", \"Stats\"]),\n",
    "    (\"Jess\", [\"CompSci\", \"Accounting\", \"Economics\", \"Management\"]),\n",
    "    (\"Sarah\", [\"InfSys\", \"Accounting\", \"Economics\", \"CommLaw\"]),\n",
    "    (\"Zuki\", [\"Sociology\", \"Economics\", \"Law\", \"Stats\", \"Music\"])]\n",
    "\n",
    "print(major_count(students, \"Stats\"))\n",
    "print(major_count(students, \"Law\"))\n",
    "print(major_count(students, \"Economics\"))\n",
    "print(major_count(students, \"CompSci\"))"
   ]
  },
  {
   "cell_type": "markdown",
   "metadata": {},
   "source": [
    "# Project: Statistics"
   ]
  },
  {
   "cell_type": "markdown",
   "metadata": {},
   "source": [
    "Everyone hates calculating things like mean and median by hand(and let's not start on standard deviation). Let's make our lives a little easier and program a computer to do it for us!"
   ]
  },
  {
   "cell_type": "markdown",
   "metadata": {},
   "source": [
    "#### Statistical Terminology"
   ]
  },
  {
   "cell_type": "markdown",
   "metadata": {},
   "source": [
    "Feel free to Google any formulas for these, or ask a dev team member\n",
    "\n",
    "**Mean**: average value of a dataset. mean = sum of all values/total number of values\n",
    "\n",
    "**Median**: middle value of a (sorted) dataset.\n",
    "\n",
    "**Mode**: most common value in a dataset\n",
    "\n",
    "**Standard Deviation**: essentially, the average amount each value deviates from the mean\n",
    "\n",
    "**Standard Deviation Formula**: $\\sqrt{\\frac{(mean-value1)^2+(mean-value2)^2+...+(mean-lastvalue)^2}{number of values}}$\n",
    "\n",
    "**Z Score**: the number of standard deviations a value deviates from the mean. \n",
    "**Z Score Formula**: $Z = \\frac{value - mean}{standard deviation}$\n"
   ]
  },
  {
   "cell_type": "markdown",
   "metadata": {},
   "source": [
    "### Part 1: Basic Functions\n"
   ]
  },
  {
   "cell_type": "markdown",
   "metadata": {},
   "source": [
    "1a\\. Create separate functions to calculate the mean, median, and standard deviation (list). \n",
    "\n",
    "To sort a list, do `{list}.sort()`. Alternatively, `sorted({list})` will return a sorted copy of the list"
   ]
  },
  {
   "cell_type": "code",
   "execution_count": null,
   "metadata": {
    "collapsed": true
   },
   "outputs": [],
   "source": [
    "# YOUR THREE FUNCTIONS HERE #\n",
    "\n"
   ]
  },
  {
   "cell_type": "markdown",
   "metadata": {},
   "source": [
    "1b\\. Write a function to calculate the Z-Score of a value, given a value and a list of data. (HINT: You will need to use the functions you created in 1a)"
   ]
  },
  {
   "cell_type": "code",
   "execution_count": null,
   "metadata": {
    "collapsed": true
   },
   "outputs": [],
   "source": [
    "# YOUR FUNCTION HERE #"
   ]
  },
  {
   "cell_type": "markdown",
   "metadata": {},
   "source": [
    "Here is a list of ages of some students: \n",
    "\n",
    "`11, 11, 11, 12, 13, 13, 13, 14, 14, 15, 15, 15, 15, 16`"
   ]
  },
  {
   "cell_type": "markdown",
   "metadata": {},
   "source": [
    "2a\\. The first half of the list is all middle schoolers and the second half is all high schoolers. \n",
    "\n",
    "What are the means/medians/standard deviations of the two groups of students?\n"
   ]
  },
  {
   "cell_type": "code",
   "execution_count": null,
   "metadata": {
    "collapsed": true
   },
   "outputs": [],
   "source": [
    "# YOUR PROGRAM HERE #"
   ]
  },
  {
   "cell_type": "markdown",
   "metadata": {},
   "source": [
    "2b\\. Suppose the list alternates from boy to girl (first element is a boy, second is a girl, etc). What is the mean/median/standard deviation of the boys? What about the girls?"
   ]
  },
  {
   "cell_type": "code",
   "execution_count": null,
   "metadata": {
    "collapsed": true
   },
   "outputs": [],
   "source": [
    "# YOUR PROGRAM HERE #"
   ]
  },
  {
   "cell_type": "markdown",
   "metadata": {},
   "source": [
    "### Part 2: Advanced Functions"
   ]
  },
  {
   "cell_type": "markdown",
   "metadata": {},
   "source": [
    "1\\. Create a function to find the mode. BONUS: Make it efficient"
   ]
  },
  {
   "cell_type": "code",
   "execution_count": null,
   "metadata": {
    "collapsed": true
   },
   "outputs": [],
   "source": [
    "# YOUR FUNCTION HERE #"
   ]
  },
  {
   "cell_type": "markdown",
   "metadata": {},
   "source": [
    "2\\. Create functions to find your upper and lower quartiles, as well as the interquartile range\n",
    "\n",
    "Quartiles: medians of the upper/lower halves of your data.\n",
    "Interquartile Range = Upper Quartile-Lower Quartile\n",
    "\n",
    "HINT: use median() from before on subsets of the list."
   ]
  },
  {
   "cell_type": "code",
   "execution_count": null,
   "metadata": {
    "collapsed": true
   },
   "outputs": [],
   "source": [
    "# YOUR FUNCTION HERE #"
   ]
  }
 ],
 "metadata": {
  "kernelspec": {
   "display_name": "Python 3",
   "language": "python",
   "name": "python3"
  },
  "language_info": {
   "codemirror_mode": {
    "name": "ipython",
    "version": 3
   },
   "file_extension": ".py",
   "mimetype": "text/x-python",
   "name": "python",
   "nbconvert_exporter": "python",
   "pygments_lexer": "ipython3",
   "version": "3.6.1"
  }
 },
 "nbformat": 4,
 "nbformat_minor": 2
}
