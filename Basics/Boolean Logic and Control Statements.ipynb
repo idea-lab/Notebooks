{
 "cells": [
  {
   "cell_type": "markdown",
   "metadata": {},
   "source": [
    "# Boolean Logic and Control Statements"
   ]
  },
  {
   "cell_type": "markdown",
   "metadata": {},
   "source": [
    "## Note on Previous Notebooks\n",
    "Before you attempt to read through and solve the problems in this notebook, make sure you are familiar with the \"Variables, Datatypes, Operations\" notebook. This includes creating variables, common variable datatypes, performing operations on variables, and modifying the content in them. All of the material in this notebook will assume you have a good understanding of the previous week's notebook. \n",
    "\n",
    "Remember, programming concepts build upon themselves iteratively. Try to do as many of the previous notebook's problems as possible and ask if you need help in understanding something!\n",
    "\n",
    "boolean logic - true and false - tie back to computers, bits, and electricity\n",
    "statements and evaluation with logical operators - NOT, AND, OR - compound boolean expressions. \n",
    "control statements - sequential order. Decision making\n",
    "based on true or false evaluation of booleans - if, elif, else\n",
    "advanced topic - short circuiting - divide by zero example\n",
    "example - nested if statement for complex decision making process\n",
    "\n",
    "combination with variables of previous notebook - iteration - for, while. Nested loops\n"
   ]
  },
  {
   "cell_type": "markdown",
   "metadata": {},
   "source": [
    "## Boolean Logic\n",
    "When we consider a statement such as \"Water is made up of two hydrogens and one oxygen,\" it can be evaluated as either true or false. In other terms, the statement is objective and the logic either makes sense or doesn't. In the 19th-century, mathematician George Boole thought of a form of algebra solely based of TRUE and FALSE logic. While we won't be going into **boolean algebra** here, note that using TRUE and FALSE is the foundation of all computer decision making. This connection between TRUE and FALSE and computers intuitively makes sense, because TRUE can be represented by a 1 and FALSE by a 0. Since computers are just complex circuits which use electricity, 1's and 0's can easily be represented as either a flow of electricity or no electricity flow.\n",
    "\n",
    "In Python, boolean logic is just another datatype we can store in a variable. To create a boolean variable, note that the only two options for data are \"True\" and \"False\". Unlike strings which are surrounding in \"\", these special words (note the capitalization) are reserved by Python and cannot be used anywhere else."
   ]
  },
  {
   "cell_type": "code",
   "execution_count": 19,
   "metadata": {},
   "outputs": [
    {
     "name": "stdout",
     "output_type": "stream",
     "text": [
      "True\n"
     ]
    }
   ],
   "source": [
    "# boolean variables\n",
    "x = True  # False is also an option\n",
    "print (x)"
   ]
  },
  {
   "cell_type": "markdown",
   "metadata": {},
   "source": [
    "Just like regular variables, boolean variables can be modified. "
   ]
  },
  {
   "cell_type": "code",
   "execution_count": 20,
   "metadata": {},
   "outputs": [
    {
     "name": "stdout",
     "output_type": "stream",
     "text": [
      "False\n"
     ]
    }
   ],
   "source": [
    "# modifying boolean variables\n",
    "x = True  # starting x value\n",
    "x = False  # modifying x\n",
    "print (x)"
   ]
  },
  {
   "cell_type": "markdown",
   "metadata": {},
   "source": [
    "### Relational Operators\n",
    "The power of boolean variables come in their usage. Just as we can evaluate the statement \"Water is made up of two hydrogens and one oxygen\" to be true, we can use **relational operators** to evaluate the boolean logic of computer statements. The relational operators are == (equals), != (not equals), > (left greater than right), < (right greater than left), >= (left greater than or equal to right), and <= (right greater than or equal to left). Note how while (=) signified assignment, each of these relational operators signify **comparison**, where we compare the left and right to determine the logic of a statement."
   ]
  },
  {
   "cell_type": "code",
   "execution_count": 25,
   "metadata": {},
   "outputs": [
    {
     "name": "stdout",
     "output_type": "stream",
     "text": [
      "True\n",
      "False\n"
     ]
    }
   ],
   "source": [
    "# the relational operators\n",
    "x = 5\n",
    "y = 5\n",
    "print (x == y)\n",
    "\n",
    "y += 2\n",
    "print (x == y)"
   ]
  },
  {
   "cell_type": "markdown",
   "metadata": {},
   "source": [
    "In Python, we can use relational operators on datatypes such as integers, doubles, strings, and several more advanced datatypes. For example, if we wanted to compare if two different string variables referred the same strings, we could do:"
   ]
  },
  {
   "cell_type": "code",
   "execution_count": 24,
   "metadata": {},
   "outputs": [
    {
     "name": "stdout",
     "output_type": "stream",
     "text": [
      "True\n"
     ]
    }
   ],
   "source": [
    "# comparisons with strings\n",
    "x = \"hello\"\n",
    "y = \"hello\"  # y is a separate variable from x\n",
    "print (x == y)  # comparing string content of x and y"
   ]
  },
  {
   "cell_type": "markdown",
   "metadata": {},
   "source": [
    "## Evaluating Complex Boolean Statements\n",
    "While evaluating statements with one point of logic is powerful, what would be even more powerful is if we could evaluate multiple statements at once. Using the English statement given above, let's say we wanted to evaluate \"Water is made up of two hydrogens and one oxygen, both fundamental elements\". We could split this complex statement up into two smaller sub-statements: 1) \"Water is made up of two hydrogens and one oxygen\" and 2) \"Hydrogen and oxygen are fundamental elements\". Thus, by breaking a large boolean statement into smaller ones, we can evaluate each of them separately, and compound the logic produced by each separate one to determine the overal statement validity. In programming, this compounding of smaller statements is done with **logical operators**. \n",
    "\n",
    "The three central logical operators in Python are \"not\", \"and\", and \"or\". \"not\" is followed by a boolean TRUE or FALSE statement and outputs the negate of this statement. "
   ]
  },
  {
   "cell_type": "code",
   "execution_count": 27,
   "metadata": {},
   "outputs": [
    {
     "name": "stdout",
     "output_type": "stream",
     "text": [
      "False\n"
     ]
    }
   ],
   "source": [
    "# example usage of \"not\" logical operator\n",
    "x = True\n",
    "print (not x)"
   ]
  },
  {
   "cell_type": "markdown",
   "metadata": {},
   "source": [
    "\"and\" is given two statements, one on its left side and one on its right side. It compares the boolean logic on either side to output TRUE if both left and right represent the same logic, and FALSE if they don't."
   ]
  },
  {
   "cell_type": "code",
   "execution_count": 28,
   "metadata": {},
   "outputs": [
    {
     "name": "stdout",
     "output_type": "stream",
     "text": [
      "False\n",
      "True\n",
      "False\n"
     ]
    }
   ],
   "source": [
    "# example usage of \"and\" logical operator\n",
    "x = True\n",
    "y = False\n",
    "print (x and y)  # x and y are not the same logic, so this return FALSE\n",
    "\n",
    "y = True\n",
    "print (x and y)  # x and y are both TRUE. Thus, \"and\" returns TRUE\n",
    "\n",
    "x = False\n",
    "y = False\n",
    "print (x and y)  # \"and\" works even if both x and y are FALSE. This is because the inherent boolean statement on either side is the same."
   ]
  },
  {
   "cell_type": "markdown",
   "metadata": {},
   "source": [
    "Finally, \"or\" is given two statements, one on its left side and one on its right side. \"or\" returns TRUE if either statement is TRUE or if both statements are TRUE. If both statements are FALSE, it returns FALSE."
   ]
  },
  {
   "cell_type": "code",
   "execution_count": null,
   "metadata": {
    "collapsed": true
   },
   "outputs": [],
   "source": [
    "# example usage of \"or\" logical operator\n",
    "x = True\n",
    "y = False\n",
    "print (x or y)  # x is TRUE, so returns TRUE\n",
    "\n",
    "x = False\n",
    "print (x or y)  # neither x nor y is TRUE, so returns FALSE"
   ]
  },
  {
   "cell_type": "markdown",
   "metadata": {},
   "source": [
    "### Real-World Example\n",
    "Consider we want to use the transitive property to do a round-about check to see if two variables are equal. If we have three variables x, y, and z. We can use relational operators and logical operators to determine if x == y and y == z, all in one line. If both of these are TRUE, by definition of the transitive property, this means that x == z is also TRUE. Try putting in numbers into the variables below to test the validity of the logic."
   ]
  },
  {
   "cell_type": "code",
   "execution_count": 31,
   "metadata": {},
   "outputs": [
    {
     "name": "stdout",
     "output_type": "stream",
     "text": [
      "False\n",
      "False\n"
     ]
    }
   ],
   "source": [
    "# example of using relational operators and logical operators with the transitive property\n",
    "x = ??\n",
    "y = ??\n",
    "z = ??\n",
    "print (x == y and y == z)  # checks whether x is equal to y and y is equal to z. By definition, if this is true, than x is equal to z.\n",
    "print (x == z)  # if the above is TRUE, than this will always be TRUE"
   ]
  },
  {
   "cell_type": "markdown",
   "metadata": {},
   "source": [
    "## Computer Decision Making: Control Statements\n",
    "With **control statements**, we can use the logic evaluation provided by relational and logical operators to control the flow and order in which a program executes. The three control statements used most often are \"if\", \"elif\", and \"else\". \"if\" simply takes in a statement in parentheses and evaluates that statement to check if it is TRUE. If it is, the indented code following the statement is run. Note the structure of \"if\" statements, including the colon after the parentheses:\n",
    "if (statement to be evaluated): \n",
    "    code to run"
   ]
  },
  {
   "cell_type": "code",
   "execution_count": 38,
   "metadata": {},
   "outputs": [
    {
     "name": "stdout",
     "output_type": "stream",
     "text": [
      "X is five!\n"
     ]
    }
   ],
   "source": [
    "# example of using \"if\" statements\n",
    "x = 5\n",
    "if (x == 5):\n",
    "    #indentation is important!\n",
    "    print (\"X is five!\")"
   ]
  },
  {
   "cell_type": "markdown",
   "metadata": {},
   "source": [
    "\"elif\" statements have a similar format as \"if\" statements, except that they come strictly after \"if\" statements. For example, let's say you wanted to create a program which reads out a user's inputted number. While there are smarter ways to do this, one way is by using \"if\" and \"elif\" statements. The first control is always an \"if,\" guessing from a lower bound, and subsequent \"elif\" controls check for other numbers. Note that \"elif\" really means \"else if\". Thus, syntactically, the Python interpreter goes through the first statement, evaluates it, and if the evaluation is FALSE, evaluates the next \"else if\" control statement."
   ]
  },
  {
   "cell_type": "code",
   "execution_count": null,
   "metadata": {
    "collapsed": true
   },
   "outputs": [],
   "source": [
    "# number writing program using \"if\" and \"elif\" statements\n",
    "x = 6\n",
    "if (x == 5):  # computer evaluates to be FALSE, moves on to next statement\n",
    "    print (\"X is five!\")\n",
    "elif (x == 6):  # computer evaluates to be TRUE, does not move on\n",
    "    print (\"X is six!\")\n",
    "elif (x == 7):  # this statement is not evaluated since the above statement already evaluated to TRUE\n",
    "    print (\"X is seven!\")"
   ]
  },
  {
   "cell_type": "markdown",
   "metadata": {},
   "source": [
    "Finally, \"else\" statements come at the end of a control block. These statements act as a be-all-end-all statement. What we mean by that is that they don't actually evaluate any logic. Rather, they are meant to be put at the end of the control loop as a final case if all the prior statements evaluate to FALSE. A lazy programmer writing the above program for spelling out a number might just make it work for 3 cases. The other input cases can be handled by one final \"else\" statement. The key takeaway is this: using \"if\", \"elif\", and \"else\" statements enables a programmer to control the sequence of events in a program, in addition to allowing programs to have basic decision making cabalities."
   ]
  },
  {
   "cell_type": "code",
   "execution_count": 39,
   "metadata": {},
   "outputs": [
    {
     "name": "stdout",
     "output_type": "stream",
     "text": [
      "X is some other number!\n"
     ]
    }
   ],
   "source": [
    "# number writing program using \"if\", \"elif\", and \"else\" control statements\n",
    "x = 8\n",
    "if (x == 5):  # computer evaluates to be FALSE, moves on to next statement\n",
    "    print (\"X is five!\")\n",
    "elif (x == 6):  # computer evaluates to be FALSE, moves on to next statement\n",
    "    print (\"X is six!\")\n",
    "elif (x == 7):  # computer evaluates to be FALSE, moves on to next statement\n",
    "    print (\"X is seven!\")\n",
    "else:  # since all the above statements evaluate to FALSE, this \"else\" statement is run\n",
    "    print (\"X is some other number!\")"
   ]
  },
  {
   "cell_type": "markdown",
   "metadata": {},
   "source": [
    "### An Interesting Application: Short-Circuiting\n",
    "Consider we want to make a program which tells a user whether a particular batting average (BA) for a baseball player is good. The program will take in two data points, the number of hits for a certain baseball player and the number of at bats, divide the number of hits by the number of at bats, and return whether BA is above 0.90 (our definition of a good BA). A naive programmer would simply do this:"
   ]
  },
  {
   "cell_type": "code",
   "execution_count": 42,
   "metadata": {},
   "outputs": [
    {
     "name": "stdout",
     "output_type": "stream",
     "text": [
      "Batting average is bad\n"
     ]
    }
   ],
   "source": [
    "# A naive program for calculating batting average\n",
    "nb_hits = 3\n",
    "at_bats = 5\n",
    "\n",
    "if ((nb_hits / at_bats) > 0.90):\n",
    "    print (\"Batting average is good\")\n",
    "else:\n",
    "    print (\"Batting average is bad\")"
   ]
  },
  {
   "cell_type": "markdown",
   "metadata": {},
   "source": [
    "However, when creating programs, we must consider the worst user input (within reason). What if a user entered 0 at_bats for the stats for a particularly bad player? Try it on your own. What error does Python output? To fix this, we can use **short-circuiting** to take advantage of how boolean expressions are evaluated. Let's say we changed the code to this:"
   ]
  },
  {
   "cell_type": "code",
   "execution_count": 1,
   "metadata": {},
   "outputs": [
    {
     "ename": "NameError",
     "evalue": "name 'at_bats' is not defined",
     "output_type": "error",
     "traceback": [
      "\u001b[1;31m---------------------------------------------------------------------------\u001b[0m",
      "\u001b[1;31mNameError\u001b[0m                                 Traceback (most recent call last)",
      "\u001b[1;32m<ipython-input-1-43601a5eb0fb>\u001b[0m in \u001b[0;36m<module>\u001b[1;34m()\u001b[0m\n\u001b[1;32m----> 1\u001b[1;33m \u001b[1;32mif\u001b[0m \u001b[1;33m(\u001b[0m\u001b[0mat_bats\u001b[0m \u001b[1;33m!=\u001b[0m \u001b[1;36m0\u001b[0m \u001b[1;32mand\u001b[0m \u001b[1;33m(\u001b[0m\u001b[0mnb_hits\u001b[0m \u001b[1;33m/\u001b[0m \u001b[0mat_bats\u001b[0m\u001b[1;33m)\u001b[0m \u001b[1;33m>\u001b[0m \u001b[1;36m0.90\u001b[0m\u001b[1;33m)\u001b[0m\u001b[1;33m:\u001b[0m\u001b[1;33m\u001b[0m\u001b[0m\n\u001b[0m\u001b[0;32m      2\u001b[0m     \u001b[0mprint\u001b[0m \u001b[1;33m(\u001b[0m\u001b[1;34m\"Batting Average is good\"\u001b[0m\u001b[1;33m)\u001b[0m\u001b[1;33m\u001b[0m\u001b[0m\n\u001b[0;32m      3\u001b[0m \u001b[1;32melse\u001b[0m\u001b[1;33m:\u001b[0m\u001b[1;33m\u001b[0m\u001b[0m\n\u001b[0;32m      4\u001b[0m     \u001b[0mprint\u001b[0m \u001b[1;33m(\u001b[0m\u001b[1;34m\"Batting average is bad\"\u001b[0m\u001b[1;33m)\u001b[0m\u001b[1;33m\u001b[0m\u001b[0m\n",
      "\u001b[1;31mNameError\u001b[0m: name 'at_bats' is not defined"
     ]
    }
   ],
   "source": [
    "if (at_bats != 0 and (nb_hits / at_bats) > 0.90):\n",
    "    print (\"Batting Average is good\")\n",
    "else:\n",
    "    print (\"Batting average is bad\")"
   ]
  },
  {
   "cell_type": "markdown",
   "metadata": {},
   "source": [
    "The computer evaluates statements from left to right, so it would first evaluate if at_bats was not 0 and then move onto computing and comparing BA. However, in order for \"and\" to return TRUE, both the left-hand and right-hand statements need to each evaluate to TRUE by definition of \"and\". If at_bats == 0, then the left-hand expression would evaluate to FALSE and the \"and\" statement could never output TRUE. The computer is smart enough to recognize this fact. In fact, if at_bats == 0, it won't even try to evaluate the right-hand side, just evaluating the entire statement to FALSE and moving on to the next piece of code. In general, thinking about how a user will interact with a program is always good practice and will save the programmer from many embarassing errors!"
   ]
  },
  {
   "cell_type": "markdown",
   "metadata": {},
   "source": [
    "### Nested Control Statements\n",
    "While basic control statements like the ones above can be useful, sometimes a programmer will run into harder decision making problems which require **nested** control statements. Nested statements are simply a fancy word for statements inside statements. Programmatically, this means that as the computer evaluates a specific control statement to be TRUE, it runs a specific piece of code for that control. Inside this code can be future control statements that are only run if the original control statement evaluates to TRUE.\n",
    "\n",
    "Along the lines of the baseball player program above, let's make a program to evaluate a player's qualities. Given a player's height and running speed, the program returns whether the player is tall and fast, tall and slow, short and fast, or short and slow. The key take-away is this: use nested control statements for more complex decision making and to reduce code repetition. For example, while we could have writting this:"
   ]
  },
  {
   "cell_type": "code",
   "execution_count": null,
   "metadata": {
    "collapsed": true
   },
   "outputs": [],
   "source": [
    "# program to determine a player's qualities using basic control statements\n",
    "height = 7  # height in feet\n",
    "speed = 5  # running speed in mph\n",
    "\n",
    "if (height > 6 and speed > 4):\n",
    "    print (\"Player is tall and fast\")\n",
    "elif (height > 6 and speed <= 4):\n",
    "    print (\"Player is tall and slow\")\n",
    "elif (height <= 6 and speed > 4):\n",
    "    print (\"Player is short and fast\")\n",
    "elif (height <= 6 and speed <= 4):\n",
    "    print (\"Player is short and slow\")"
   ]
  },
  {
   "cell_type": "markdown",
   "metadata": {},
   "source": [
    "Notice that we must perform a check for both height and speed in all of the if statements"
   ]
  },
  {
   "cell_type": "markdown",
   "metadata": {},
   "source": [
    "We instead write this to reduce code repetition and improve readability:"
   ]
  },
  {
   "cell_type": "code",
   "execution_count": null,
   "metadata": {
    "collapsed": true
   },
   "outputs": [],
   "source": [
    "# program to determine a player's qualities using nested control statements\n",
    "height = 7  # height in feet\n",
    "speed = 5  # running speed in mph\n",
    "\n",
    "if (height > 6):\n",
    "    if (speed > 4):  # since this control is within the above \"if\" statement (seen through indentation), it is only reached if height > 6\n",
    "        print (\"Player is tall and fast\")\n",
    "    else:  # height > 6 and speed <= 4\n",
    "        print (\"Player is tall and slow\")\n",
    "else:\n",
    "    if (speed > 4):  # height <= 6 and speed > 4\n",
    "        print (\"Player is short and fast\")\n",
    "    else:  # height <= 6 and speed <= 4\n",
    "        print (\"Player is short and slow\")"
   ]
  },
  {
   "cell_type": "markdown",
   "metadata": {},
   "source": [
    "## Combining Variables with Controls: Iteration\n",
    "In \"Variables, Datatypes, Operations,\" we learned about creating variables and updating them. Here, we will combine this with "
   ]
  }
 ],
 "metadata": {
  "kernelspec": {
   "display_name": "Python 3",
   "language": "python",
   "name": "python3"
  },
  "language_info": {
   "codemirror_mode": {
    "name": "ipython",
    "version": 3
   },
   "file_extension": ".py",
   "mimetype": "text/x-python",
   "name": "python",
   "nbconvert_exporter": "python",
   "pygments_lexer": "ipython3",
   "version": "3.6.1"
  }
 },
 "nbformat": 4,
 "nbformat_minor": 2
}
