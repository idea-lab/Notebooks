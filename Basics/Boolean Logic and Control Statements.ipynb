{
 "cells": [
  {
   "cell_type": "markdown",
   "metadata": {},
   "source": [
    "# Boolean Logic and Control Statements"
   ]
  },
  {
   "cell_type": "markdown",
   "metadata": {},
   "source": [
    "## Note on Previous Notebooks\n",
    "Before you attempt to read through and solve the problems in this notebook, make sure you are familiar with the \"Variables, Datatypes, Operations\" notebook. This includes creating variables, common variable datatypes, performing operations on variables, and modifying the content in them. All of the material in this notebook will assume you have a good understanding of the previous week's notebook. \n",
    "\n",
    "Remember, programming concepts build upon themselves iteratively. Try to do as many of the previous notebook's problems as possible and ask if you need help in understanding something!\n",
    "\n",
    "boolean logic - true and false - tie back to computers, bits, and electricity\n",
    "statements and evaluation with logical operators - NOT, AND, OR - compound boolean expressions. \n",
    "control statements - sequential order. Decision making\n",
    "based on true or false evaluation of booleans - if, elif, else\n",
    "advanced topic - short circuiting - divide by zero example\n",
    "example - nested if statement for complex decision making process\n",
    "\n",
    "combination with variables of previous notebook - iteration - for, while. Nested loops\n"
   ]
  },
  {
   "cell_type": "markdown",
   "metadata": {},
   "source": [
    "## Boolean Logic\n",
    "When we consider a statement such as \"A water molecule is made up of two hydrogens and one oxygen,\" it can be evaluated as either true or false. In other terms, the statement is objective and the logic either makes sense or doesn't. In the 19th-century, mathematician George Boole thought of a form of algebra solely based of TRUE and FALSE logic. While we won't be going into **boolean algebra** here, note that using TRUE and FALSE is the foundation of all computer decision making. This connection between TRUE and FALSE and computers intuitively makes sense, because TRUE can be represented by a 1 and FALSE by a 0. Since computers are just complex circuits which use electricity, 1's and 0's can easily be represented as either a flow of electricity or no electricity flow.\n",
    "\n",
    "In Python, boolean logic is just another datatype we can store in a variable. To create a boolean variable, note that the only two options for data are \"True\" and \"False\". Unlike strings which are surrounding in \"\", these special words (note the capitalization) are reserved by Python and cannot be used anywhere else."
   ]
  },
  {
   "cell_type": "code",
   "execution_count": 19,
   "metadata": {},
   "outputs": [
    {
     "name": "stdout",
     "output_type": "stream",
     "text": [
      "True\n"
     ]
    }
   ],
   "source": [
    "# boolean variables\n",
    "x = True  # False is also an option\n",
    "print (x)"
   ]
  },
  {
   "cell_type": "markdown",
   "metadata": {},
   "source": [
    "Just like regular variables, boolean variables can be modified. "
   ]
  },
  {
   "cell_type": "code",
   "execution_count": 20,
   "metadata": {},
   "outputs": [
    {
     "name": "stdout",
     "output_type": "stream",
     "text": [
      "False\n"
     ]
    }
   ],
   "source": [
    "# modifying boolean variables\n",
    "x = True  # starting x value\n",
    "x = False  # modifying x\n",
    "print (x)"
   ]
  },
  {
   "cell_type": "markdown",
   "metadata": {},
   "source": [
    "### Relational Operators\n",
    "The power of boolean variables come in their usage. Just as we can evaluate the statement \"Water is made up of two hydrogens and one oxygen\" to be true, we can use **relational operators** to evaluate the boolean logic of computer statements. The relational operators are == (equals), != (not equals), > (left greater than right), < (right greater than left), >= (left greater than or equal to right), and <= (right greater than or equal to left). Note how while (=) signified assignment, each of these relational operators signify **comparison**, where we compare the left and right to determine the logic of a statement."
   ]
  },
  {
   "cell_type": "code",
   "execution_count": 25,
   "metadata": {},
   "outputs": [
    {
     "name": "stdout",
     "output_type": "stream",
     "text": [
      "True\n",
      "False\n"
     ]
    }
   ],
   "source": [
    "# the relational operators\n",
    "x = 5\n",
    "y = 5\n",
    "print (x == y)\n",
    "\n",
    "y += 2\n",
    "print (x == y)"
   ]
  },
  {
   "cell_type": "markdown",
   "metadata": {},
   "source": [
    "In Python, we can use relational operators on datatypes such as integers, doubles, strings, and several more advanced datatypes. For example, if we wanted to compare if two different string variables referred the same strings, we could do:"
   ]
  },
  {
   "cell_type": "code",
   "execution_count": 24,
   "metadata": {},
   "outputs": [
    {
     "name": "stdout",
     "output_type": "stream",
     "text": [
      "True\n"
     ]
    }
   ],
   "source": [
    "# comparisons with strings\n",
    "x = \"hello\"\n",
    "y = \"hello\"  # y is a separate variable from x\n",
    "print (x == y)  # comparing string content of x and y"
   ]
  },
  {
   "cell_type": "markdown",
   "metadata": {},
   "source": [
    "## Evaluating Complex Boolean Statements\n",
    "While evaluating statements with one point of logic is powerful, what would be even more powerful is if we could evaluate multiple statements at once. Using the English statement given above, let's say we wanted to evaluate \"Water is made up of two hydrogens and one oxygen, both fundamental elements\". We could split this complex statement up into two smaller sub-statements: 1) \"Water is made up of two hydrogens and one oxygen\" and 2) \"Hydrogen and oxygen are fundamental elements\". Thus, by breaking a large boolean statement into smaller ones, we can evaluate each of them separately, and compound the logic produced by each separate one to determine the overal statement validity. In programming, this compounding of smaller statements is done with **logical operators**. \n",
    "\n",
    "The three central logical operators in Python are \"not\", \"and\", and \"or\". \"not\" is followed by a boolean TRUE or FALSE statement and outputs the negate of this statement. "
   ]
  },
  {
   "cell_type": "code",
   "execution_count": 27,
   "metadata": {},
   "outputs": [
    {
     "name": "stdout",
     "output_type": "stream",
     "text": [
      "False\n"
     ]
    }
   ],
   "source": [
    "# example usage of \"not\" logical operator\n",
    "x = True\n",
    "print (not x)"
   ]
  },
  {
   "cell_type": "markdown",
   "metadata": {},
   "source": [
    "\"and\" is given two statements, one on its left side and one on its right side. It compares the boolean logic on either side to output TRUE if both left and right are TRUE, and FALSE if they don't."
   ]
  },
  {
   "cell_type": "code",
   "execution_count": 4,
   "metadata": {},
   "outputs": [
    {
     "name": "stdout",
     "output_type": "stream",
     "text": [
      "False\n",
      "False\n",
      "False\n"
     ]
    }
   ],
   "source": [
    "# example usage of \"and\" logical operator\n",
    "x = True\n",
    "y = False\n",
    "print (x and y)  # x and y are not both TRUE, so this return FALSE\n",
    "\n",
    "y = True\n",
    "print (x and y)  # x and y are both TRUE. Thus, \"and\" returns TRUE\n",
    "\n",
    "x = False\n",
    "y = False\n",
    "print (x and y)  # \"and\" works even if both x and y are FALSE. This is because the inherent boolean statement on either side is the same."
   ]
  },
  {
   "cell_type": "markdown",
   "metadata": {},
   "source": [
    "Finally, \"or\" is given two statements, one on its left side and one on its right side. \"or\" returns TRUE if either statement is TRUE or if both statements are TRUE. If both statements are FALSE, it returns FALSE."
   ]
  },
  {
   "cell_type": "code",
   "execution_count": null,
   "metadata": {
    "collapsed": true
   },
   "outputs": [],
   "source": [
    "# example usage of \"or\" logical operator\n",
    "x = True\n",
    "y = False\n",
    "print (x or y)  # x is TRUE, so returns TRUE\n",
    "\n",
    "x = False\n",
    "print (x or y)  # neither x nor y is TRUE, so returns FALSE"
   ]
  },
  {
   "cell_type": "markdown",
   "metadata": {},
   "source": [
    "### Real-World Example\n",
    "Consider we want to use the transitive property to do a round-about check to see if two variables are equal. If we have three variables x, y, and z. We can use relational operators and logical operators to determine if x == y and y == z, all in one line. If both of these are TRUE, by definition of the transitive property, this means that x == z is also TRUE. Try putting in numbers into the variables below to test the validity of the logic."
   ]
  },
  {
   "cell_type": "code",
   "execution_count": 31,
   "metadata": {},
   "outputs": [
    {
     "name": "stdout",
     "output_type": "stream",
     "text": [
      "False\n",
      "False\n"
     ]
    }
   ],
   "source": [
    "# example of using relational operators and logical operators with the transitive property\n",
    "x = ??\n",
    "y = ??\n",
    "z = ??\n",
    "print (x == y and y == z)  # checks whether x is equal to y and y is equal to z. By definition, if this is true, than x is equal to z.\n",
    "print (x == z)  # if the above is TRUE, than this will always be TRUE"
   ]
  },
  {
   "cell_type": "markdown",
   "metadata": {},
   "source": [
    "## Computer Decision Making: Control Statements\n",
    "With **control statements**, we can use the logic evaluation provided by relational and logical operators to control the flow and order in which a program executes. The three control statements used most often are \"if\", \"elif\", and \"else\". \"if\" simply takes in a statement in parentheses and evaluates that statement to check if it is TRUE. If it is, the indented code following the statement is run. Note the structure of \"if\" statements, including the colon after the parentheses:\n",
    "if (statement to be evaluated): \n",
    "    code to run"
   ]
  },
  {
   "cell_type": "code",
   "execution_count": 38,
   "metadata": {},
   "outputs": [
    {
     "name": "stdout",
     "output_type": "stream",
     "text": [
      "X is five!\n"
     ]
    }
   ],
   "source": [
    "# example of using \"if\" statements\n",
    "x = 5\n",
    "if (x == 5):\n",
    "    print (\"X is five!\")"
   ]
  },
  {
   "cell_type": "markdown",
   "metadata": {},
   "source": [
    "\"elif\" statements have a similar format as \"if\" statements, except that they come strictly after \"if\" statements. For example, let's say you wanted to create a program which reads out a user's inputted number. While there are smarter ways to do this, one way is by using \"if\" and \"elif\" statements. The first control is always an \"if,\" guessing from a lower bound, and subsequent \"elif\" controls check for other numbers. Note that \"elif\" really means \"else if\". Thus, syntactically, the Python interpreter goes through the first statement, evaluates it, and if the evaluation is FALSE, evaluates the next \"else if\" control statement."
   ]
  },
  {
   "cell_type": "code",
   "execution_count": null,
   "metadata": {
    "collapsed": true
   },
   "outputs": [],
   "source": [
    "# number writing program using \"if\" and \"elif\" statements\n",
    "x = 6\n",
    "if (x == 5):  # computer evaluates to be FALSE, moves on to next statement\n",
    "    print (\"X is five!\")\n",
    "elif (x == 6):  # computer evaluates to be TRUE, does not move on\n",
    "    print (\"X is six!\")\n",
    "elif (x == 7):  # this statement is not evaluated since the above statement already evaluated to TRUE\n",
    "    print (\"X is seven!\")"
   ]
  },
  {
   "cell_type": "markdown",
   "metadata": {},
   "source": [
    "Finally, \"else\" statements come at the end of a control block. These statements act as a be-all-end-all statement. What we mean by that is that they don't actually evaluate any logic. Rather, they are meant to be put at the end of the control loop as a final case if all the prior statements evaluate to FALSE. A lazy programmer writing the above program for spelling out a number might just make it work for 3 cases. The other input cases can be handled by one final \"else\" statement. The key takeaway is this: using \"if\", \"elif\", and \"else\" statements enables a programmer to control the sequence of events in a program, in addition to allowing programs to have basic decision making cabalities."
   ]
  },
  {
   "cell_type": "code",
   "execution_count": 39,
   "metadata": {},
   "outputs": [
    {
     "name": "stdout",
     "output_type": "stream",
     "text": [
      "X is some other number!\n"
     ]
    }
   ],
   "source": [
    "# number writing program using \"if\", \"elif\", and \"else\" control statements\n",
    "x = 8\n",
    "if (x == 5):  # computer evaluates to be FALSE, moves on to next statement\n",
    "    print (\"X is five!\")\n",
    "elif (x == 6):  # computer evaluates to be FALSE, moves on to next statement\n",
    "    print (\"X is six!\")\n",
    "elif (x == 7):  # computer evaluates to be FALSE, moves on to next statement\n",
    "    print (\"X is seven!\")\n",
    "else:  # since all the above statements evaluate to FALSE, this \"else\" statement is run\n",
    "    print (\"X is some other number!\")"
   ]
  },
  {
   "cell_type": "markdown",
   "metadata": {},
   "source": [
    "### An Interesting Application: Short-Circuiting\n",
    "Consider we want to make a program which tells a user whether a particular batting average (BA) for a baseball player is good. The program will take in two data points, the number of hits for a certain baseball player and the number of at bats, divide the number of hits by the number of at bats, and return whether BA is above 0.90 (our definition of a good BA). A naive programmer would simply do this:"
   ]
  },
  {
   "cell_type": "code",
   "execution_count": 42,
   "metadata": {},
   "outputs": [
    {
     "name": "stdout",
     "output_type": "stream",
     "text": [
      "Batting average is bad\n"
     ]
    }
   ],
   "source": [
    "# A naive program for calculating batting average\n",
    "nb_hits = 3\n",
    "at_bats = 5\n",
    "\n",
    "if ((nb_hits / at_bats) > 0.90):\n",
    "    print (\"Batting average is good\")\n",
    "else:\n",
    "    print (\"Batting average is bad\")"
   ]
  },
  {
   "cell_type": "markdown",
   "metadata": {},
   "source": [
    "However, when creating programs, we must consider the worst user input (within reason). What if a user entered 0 at_bats for the stats for a particularly bad player? Try it on your own. What error does Python output? To fix this, we can use **short-circuiting** to take advantage of how boolean expressions are evaluated. Let's say we changed the if statement to this:"
   ]
  },
  {
   "cell_type": "code",
   "execution_count": null,
   "metadata": {
    "collapsed": true
   },
   "outputs": [],
   "source": [
    "if (at_bats != 0 and (nb_hits / at_bats) > 0.90):\n",
    "    print (\"Batting Average is good\")"
   ]
  },
  {
   "cell_type": "markdown",
   "metadata": {},
   "source": [
    "The computer evaluates statements from left to right, so it would first evaluate if at_bats was not 0 and then move onto computing and comparing BA. However, in order for \"and\" to return TRUE, both the left-hand and right-hand statements need to each evaluate to TRUE by definition of \"and\". If at_bats == 0, then the left-hand expression would evaluate to FALSE and the \"and\" statement could never output TRUE. The computer is smart enough to recognize this fact. In fact, if at_bats == 0, it won't even try to evaluate the right-hand side, just evaluating the entire statement to FALSE and moving on to the next piece of code. In general, thinking about how a user will interact with a program is always good practice and will save the programmer from many embarassing errors!"
   ]
  },
  {
   "cell_type": "markdown",
   "metadata": {},
   "source": [
    "### Nested Control Statements\n",
    "While basic control statements like the ones above can be useful, sometimes a programmer will run into harder decision making problems which require **nested** control statements. Nested statements are simply a fancy word for statements inside statements. Programmatically, this means that as the computer evaluates a specific control statement to be TRUE, it runs a specific piece of code for that control. Inside this code can be future control statements that are only run if the original control statement evaluates to TRUE.\n",
    "\n",
    "Along the lines of the baseball player program above, let's make a program to evaluate a player's qualities. Given a player's height and running speed, the program returns whether the player is tall and fast, tall and slow, short and fast, or short and slow. The key take-away is this: use nested control statements for more complex decision making and to reduce code repetition. For example, while we could have written this:"
   ]
  },
  {
   "cell_type": "code",
   "execution_count": null,
   "metadata": {
    "collapsed": true
   },
   "outputs": [],
   "source": [
    "# program to determine a player's qualities using basic control statements\n",
    "height = 7  # height in feet\n",
    "speed = 5  # running speed in mph\n",
    "\n",
    "if (height > 6 and speed > 4):\n",
    "    print (\"Player is tall and fast\")\n",
    "elif (height > 6 and speed <= 4):\n",
    "    print (\"Player is tall and slow\")\n",
    "elif (height <= 6 and speed > 4):\n",
    "    print (\"Player is short and fast\")\n",
    "elif (height <= 6 and speed <= 4):\n",
    "    print (\"Player is short and slow\")"
   ]
  },
  {
   "cell_type": "markdown",
   "metadata": {},
   "source": [
    "We instead write this to reduce code repetition and improve readability:"
   ]
  },
  {
   "cell_type": "code",
   "execution_count": null,
   "metadata": {
    "collapsed": true
   },
   "outputs": [],
   "source": [
    "# program to determine a player's qualities using nested control statements\n",
    "height = 7  # height in feet\n",
    "speed = 5  # running speed in mph\n",
    "\n",
    "if (height > 6):\n",
    "    if (speed > 4):  # since this control is within the above \"if\" statement (seen through indentation), it is only reached if height > 6\n",
    "        print (\"Player is tall and fast\")\n",
    "    else:  # height > 6 and speed <= 4\n",
    "        print (\"Player is tall and slow\")\n",
    "else:\n",
    "    if (speed > 4):  # height <= 6 and speed > 4\n",
    "        print (\"Player is short and fast\")\n",
    "    else:  # height <= 6 and speed <= 4\n",
    "        print (\"Player is short and slow\")"
   ]
  },
  {
   "cell_type": "markdown",
   "metadata": {},
   "source": [
    "## Combining Variables with Controls: Loops\n",
    "In \"Variables, Datatypes, Operations,\" we learned about creating variables and updating them. Here, we will combine this with control statements to create blocks of code which can be run several times. The fundamental idea behind running a block of code several times, or **looping**, is that we reduce the repetitiveness of the code. However, given a block of code to loop over, how do we decide when to stop looping?\n",
    "\n",
    "The worst case would be when the code infinitely repeats and the program never stops. To fix this, we use another an iterator called a \"while\" loop which uses control statements! A \"while\" loop is structured as follows:\n",
    "\n",
    "while (statement to be evaluated is TRUE):\n",
    "    block of code to be repeated\n",
    "    \n",
    "For example, let's say we wanted to print out \"Hi IdeaLab!\" a specific number of times specified by the user. Instead of copying and pasting a print function several times, we could use a \"while\" loop, an external variable which constantly gets updated, and control statements to exit out of the loop given the state of the external variable. In the below code, we define x to be the **iterator**, an external variable which represents the state of the loop (i.e., the iteration number in this example). Next, we use a \"while\" loop to continuously run a block of code which prints our message and updates the external variable state. Note how since the external variable is constantly approaching the point where it makes the control statement evaluate to FALSE (i.e., x increases until it gets greater than 10), the \"while\" loop will eventually stop."
   ]
  },
  {
   "cell_type": "code",
   "execution_count": 45,
   "metadata": {},
   "outputs": [
    {
     "name": "stdout",
     "output_type": "stream",
     "text": [
      "Hi IdeaLab!\n",
      "Hi IdeaLab!\n",
      "Hi IdeaLab!\n",
      "Hi IdeaLab!\n",
      "Hi IdeaLab!\n",
      "Hi IdeaLab!\n",
      "Hi IdeaLab!\n",
      "Hi IdeaLab!\n",
      "Hi IdeaLab!\n",
      "Hi IdeaLab!\n"
     ]
    }
   ],
   "source": [
    "# program to repeatedly print out a line using a \"while\" loop\n",
    "nb_times = 10  # number of times to print out the line\n",
    "\n",
    "x = 1  # iterator variable which gets updated in the \"while\" loop and is used to end the loop\n",
    "while (x <= 10):  # control expression which is evaluated before each iteration of the block of code\n",
    "    print (\"Hi IdeaLab!\")\n",
    "    x += 1"
   ]
  },
  {
   "cell_type": "markdown",
   "metadata": {},
   "source": [
    "The above statement can also be re-written using what is called a \"for\" loop. \"for\" loops use one variable which takes on each element in a set. In every iteration, the variable takes on a different element in the set. Don't worry about what a set is right now. Just consider it to be a group of things. The structure for a \"for\" loop is as follow:\n",
    "\n",
    "for variable in {set}:\n",
    "    block of code to be repeated\n",
    "    \n",
    "In Python, common syntax for looping a certain number of times uses the range() function. Again, don't worry about what this does right now. For now, just know that if we say range(x, y), Python creates a set for us which includes all values from x to y, exclusive. Using this set, we can set up a variable x similar to the example above which represents the number of iterations of the inner block of code. Note that if we wanted, we could use this variable x in the block of code just like any other variable."
   ]
  },
  {
   "cell_type": "code",
   "execution_count": 47,
   "metadata": {},
   "outputs": [
    {
     "name": "stdout",
     "output_type": "stream",
     "text": [
      "Hi Idealab!\n",
      "Hi Idealab!\n",
      "Hi Idealab!\n",
      "Hi Idealab!\n",
      "Hi Idealab!\n",
      "Hi Idealab!\n",
      "Hi Idealab!\n",
      "Hi Idealab!\n",
      "Hi Idealab!\n",
      "Hi Idealab!\n"
     ]
    }
   ],
   "source": [
    "# program to repeatedly print out a line using a \"for\" loop\n",
    "iterations = 10  # number of times to print out the line\n",
    "\n",
    "for x in range(0, iterations):  # with each iteration, the variable x takes on a different value from 0 to 9 and the block of code is run\n",
    "    print (\"Hi Idealab!\")"
   ]
  },
  {
   "cell_type": "markdown",
   "metadata": {},
   "source": [
    "You can also access your iterative variable; this will be important for many future uses of loops"
    "#Miniature Projects"
   ]
  },
  {
   "cell_type": "markdown",
   "metadata": {},
   "source": [
    "##Staircase"
   ]
  },
  {
   "cell_type": "markdown",
   "metadata": {},
   "source": [
    "Write a program that prints out a staircase of a specified height. Draw the staircase with the # character. Your program should behave as shown below."
   ]
  },
  {
   "cell_type": "markdown",
   "metadata": {},
   "source": [
    "output with `height = 5`"
   ]
  },
  {
   "cell_type": "code",
   "execution_count": 2,
   "metadata": {
    "collapsed": true
   },
   "outputs": [],
   "source": [
    "\n",
    "    #\n",
    "   ##\n",
    "  ###\n",
    " ####\n",
    "#####"
   ]
  },
  {
   "cell_type": "markdown",
   "metadata": {},
   "source": [
    "output with `height = 3`"
   ]
  },
  {
   "cell_type": "code",
   "execution_count": 1,
   "metadata": {
    "collapsed": true
   },
   "outputs": [],
   "source": [
    "  \n",
    "  #\n",
    " ##\n",
    "###"
   ]
  },
  {
   "cell_type": "markdown",
   "metadata": {},
   "source": [
    "output with `height = 0`"
   ]
  },
  {
   "cell_type": "code",
   "execution_count": null,
   "metadata": {
    "collapsed": true
   },
   "outputs": [],
   "source": []
  },
  {
   "cell_type": "markdown",
   "metadata": {},
   "source": [
    "output with `height = -5`"
   ]
  },
  {
   "cell_type": "code",
   "execution_count": 5,
   "metadata": {},
   "outputs": [
    {
     "name": "stdout",
     "output_type": "stream",
     "text": [
      "0\n",
      "1\n",
      "2\n",
      "3\n",
      "4\n",
      "5\n",
      "6\n",
      "7\n",
      "8\n",
      "9\n"
     ]
    }
   ],
   "source": [
    "for i in range(0, 10): # i is generally used when looping or iterating\n",
    "    print(i) #will print 0, 1, 2, ..., 9"
   "execution_count": null,
   "metadata": {
    "collapsed": true
   },
   "outputs": [],
   "source": []
  },
  {
   "cell_type": "code",
   "execution_count": 18,
   "metadata": {
    "collapsed": true
   },
   "outputs": [],
   "source": [
    "# YOUR PROGRAM #\n",
    "\n",
    "height = 5\n",
    "\n",
    "# WRITE REST OF PROGRAM TO PRINT STAIRCASE #"
   ]
  },
  {
   "cell_type": "markdown",
   "metadata": {},
   "source": [
    "##Greedy"
   ]
  },
  {
   "cell_type": "markdown",
   "metadata": {},
   "source": [
    "According to the National Institute of Standards and Technology (NIST), a greedy algorithm is one \"that always takes the best immediate, or local, solution while finding an answer. Greedy algorithms find the overall, or globally, optimal solution for some optimization problems, but may find less-than-optimal solutions for some instances of other problems.\""
   ]
  },
  {
   "cell_type": "markdown",
   "metadata": {},
   "source": [
    "In other words, suppose you owe someone 36¢ change. If you are \"greedy\", you would want to take the biggest bite out of this \"problem\" every time you reach for a coin; that is, you would want to grab the coin with the most value each time so as to get as close to 36¢ as possible with each grab. The biggest first bite you can take is 25¢, the quarter. Note that by selecting a quarter first, you reduce the 36¢ problem down to an 11¢ problem, since 36¢ - 25¢ = 11¢. The remaining 11¢ is a much smaller version of the original problem. At this point, another 25¢ would be too big, so the next greediest bite size would be 10¢, the dime. Grabbing a dime leaves you with a 1¢ problem, at which point the largest bite would be 1¢, the penny. This entire process, known as a greedy approach, minimizes the total number of coins needed to pay the change. "
   ]
  },
  {
   "cell_type": "markdown",
   "metadata": {},
   "source": [
    "Write a program that calculates and prints out the minimum number of coins required to give a specific amount of change. Change is measured in dollars, so 1.50 means $1.50. Coins that exist are pennies (worth 0.01), nickels (0.05), dimes (0.10), and quarters (0.25). Your program should behave as shown below."
   ]
  },
  {
   "cell_type": "markdown",
   "metadata": {},
   "source": [
    "output with `change = 0.41`\n",
    "\n",
    "`4`"
   ]
  },
  {
   "cell_type": "markdown",
   "metadata": {},
   "source": [
    "Just like if statements, you also can nest loops"
    "output with `change = -0.29`\n",
    "\n",
    "\n",
    "` `\n",
    "\n",
    "\n",
    "\n",
    "(nothing should be printed)"
   ]
  },
  {
   "cell_type": "code",
   "execution_count": 7,
   "metadata": {},
   "outputs": [
    {
     "name": "stdout",
     "output_type": "stream",
     "text": [
      "i = 0, j = 0\n",
      "i = 0, j = 1\n",
      "i = 0, j = 2\n",
      "i = 0, j = 3\n",
      "i = 0, j = 4\n",
      "i = 1, j = 0\n",
      "i = 1, j = 1\n",
      "i = 1, j = 2\n",
      "i = 1, j = 3\n",
      "i = 1, j = 4\n",
      "i = 2, j = 0\n",
      "i = 2, j = 1\n",
      "i = 2, j = 2\n",
      "i = 2, j = 3\n",
      "i = 2, j = 4\n",
      "i = 3, j = 0\n",
      "i = 3, j = 1\n",
      "i = 3, j = 2\n",
      "i = 3, j = 3\n",
      "i = 3, j = 4\n",
      "i = 4, j = 0\n",
      "i = 4, j = 1\n",
      "i = 4, j = 2\n",
      "i = 4, j = 3\n",
      "i = 4, j = 4\n"
     ]
    }
   ],
   "source": [
    "for i in range(0, 5):\n",
    "    for j in range(0, 5): # make sure to use a different variable!\n",
    "        print(\"i = {}, j = {}\".format(i, j)) #prints out the values of i and j"
   ]
  },
  {
   "cell_type": "markdown",
   "metadata": {},
   "source": [
    "As you can see, j will loop from 0 to 4 each time that i increases."
   "execution_count": 20,
   "metadata": {
    "collapsed": true
   },
   "outputs": [],
   "source": [
    "# YOUR PROGRAM #\n",
    "\n",
    "change = 0.41\n",
    "\n",
    "# WRITE REST OF PROGRAM TO CALCULATE MINIMUM NUMBER OF COINS REQUIRED TO GIVE CHANGE #"
   ]
  },
  {
   "cell_type": "markdown",
   "metadata": {},
   "source": [
    "##Pyramid (advanced)"
   ]
  },
  {
   "cell_type": "markdown",
   "metadata": {},
   "source": [
    "Write a program that prints out a pyramid of a specified height. Draw the pyramid with the # character. Your program should prompt the user for the pyramid's height and give output as shown below."
   ]
  },
  {
   "cell_type": "markdown",
   "metadata": {},
   "source": [
    "`Enter a height: 5`"
   ]
  },
  {
   "cell_type": "code",
   "execution_count": 12,
   "metadata": {
    "collapsed": true
   },
   "outputs": [],
   "source": [
    "    \n",
    "    #\n",
    "   ###\n",
    "  #####\n",
    " #######\n",
    "#########"
   ]
  },
  {
   "cell_type": "markdown",
   "metadata": {},
   "source": [
    "`Enter a height: 3`"
   ]
  },
  {
   "cell_type": "code",
   "execution_count": 9,
   "metadata": {
    "collapsed": true
   },
   "outputs": [],
   "source": [
    "  \n",
    "  #\n",
    " ###\n",
    "#####"
   ]
  },
  {
   "cell_type": "markdown",
   "metadata": {},
   "source": [
    "`Enter a height: 0`"
   ]
  },
  {
   "cell_type": "code",
   "execution_count": null,
   "metadata": {
    "collapsed": true
   },
   "outputs": [],
   "source": []
  },
  {
   "cell_type": "markdown",
   "metadata": {},
   "source": [
    "`Enter a height: -5`\n",
    "`Enter a height: five`&nbsp;&nbsp;&nbsp;&nbsp;&nbsp;&nbsp;`<--`Note: your program will have to ignore invalid input and prompt the user again if invalid input is given  \n",
    "`Enter a height: 4`  "
   ]
  },
  {
   "cell_type": "code",
   "execution_count": 3,
   "metadata": {
    "collapsed": true
   },
   "outputs": [],
   "source": [
    "   \n",
    "   #     \n",
    "  ###\n",
    " #####\n",
    "#######"
   ]
  },
  {
   "cell_type": "code",
   "execution_count": 22,
   "metadata": {
    "collapsed": true
   },
   "outputs": [],
   "source": [
    "# WRITE YOUR PROGRAM HERE #\n"
   ]
  },
  {
   "cell_type": "markdown",
   "metadata": {},
   "source": [
    "##Credit (advanced)"
   ]
  },
  {
   "cell_type": "markdown",
   "metadata": {},
   "source": [
    "Every credit card number is stored in a database somewhere so that when your card is used to purchase something, the creditor knows who to bill. There are a lot of people with credit cards in this world, so those numbers are pretty long: American Express uses 15-digit numbers, MasterCard uses 16-digit numbers, and Visa uses 13- and 16-digit numbers. Moreover, American Express numbers all start with 34 or 37; MasterCard numbers all start with 51, 52, 53, 54, or 55; and Visa numbers all start with 4. All valid credit card numbers follow a formula invented by Hans Peter Luhn, a researcher in computer science at IBM. According to Luhn’s algorithm, you can determine if a credit card number is (syntactically) valid as follows:"
   ]
  },
  {
   "cell_type": "markdown",
   "metadata": {},
   "source": [
    "1. Multiply every other digit by 2, starting with the number’s second digit.   \n",
    "2. Add those products' digits together.\n",
    "3. Add the sum to the sum of the digits that weren’t multiplied by 2.\n",
    "4. If the total’s last digit is 0 (or, put more formally, if the total modulo 10 is congruent to 0), the number is valid."
   ]
  },
  {
   "cell_type": "markdown",
   "metadata": {},
   "source": [
    "Let's say a credit card number is 378282246310005. Here's how we determine whether or not it's valid:\n",
    "1. Multiply every other digit by 2  \n",
    "7•2 + 2•2 + 2•2 + 4•2 + 3•2 + 0•2 + 0•2  \n",
    "which gives us  \n",
    "14 + 4 + 4 + 8 + 6 + 0 + 0  \n",
    "2. Now add those products' digits (not the products themselves) together:  \n",
    "1 + 4 + 4 + 4 + 8 + 6 + 0 + 0 = 27  \n",
    "3. Add that sum (27) to the sum of the digits in the credit card number that weren’t multiplied by 2:  \n",
    "27 + 3 + 8 + 8 + 2 + 6 + 1 + 0 + 5 = 60  \n",
    "4. The last digit in that sum (60) is a 0, so this card is legit."
   ]
  },
  {
   "cell_type": "markdown",
   "metadata": {},
   "source": [
    "Write a program that prompts the user for a credit card number and then reports (via the `print()` function) whether it is a valid American Express, MasterCard, or Visa card number according to the above definitions of each card type's format. For simplicity, you may assume that the user's input will be entirely numeric (no hyphens). Your program should behave as shown below: "
   ]
  },
  {
   "cell_type": "markdown",
   "metadata": {},
   "source": [
    "`Number: 378282246310005`  \n",
    "`AMEX`"
   ]
  },
  {
   "cell_type": "markdown",
   "metadata": {},
   "source": [
    "`Number: 3782-822-463-10005`  \n",
    "`Number: ilusahldfasd`  &nbsp;&nbsp;&nbsp;&nbsp;&nbsp;&nbsp;&nbsp;&nbsp;&nbsp;&nbsp;&nbsp;&nbsp;&nbsp;&nbsp;&nbsp;`<--`Note: your program will have to ignore invalid input and prompt the user again if invalid input is given  \n",
    "`Number: 378282246310005`  \n",
    "`AMEX`  \n"
   ]
  },
  {
   "cell_type": "markdown",
   "metadata": {},
   "source": [
    "`Number: 6176292929`  \n",
    "`INVALID`"
   ]
  },
  {
   "cell_type": "code",
   "execution_count": null,
   "metadata": {
    "collapsed": true
   },
   "outputs": [],
   "source": []
  }
 ],
 "metadata": {
  "kernelspec": {
   "display_name": "Python 3",
   "language": "python",
   "name": "python3"
  },
  "language_info": {
   "codemirror_mode": {
    "name": "ipython",
    "version": 3
   },
   "file_extension": ".py",
   "mimetype": "text/x-python",
   "name": "python",
   "nbconvert_exporter": "python",
   "pygments_lexer": "ipython3",
   "version": "3.6.1"
  }
 },
 "nbformat": 4,
 "nbformat_minor": 2
}
