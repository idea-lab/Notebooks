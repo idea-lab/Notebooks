{
 "cells": [
  {
   "cell_type": "markdown",
   "metadata": {},
   "source": [
    "#Solutions"
   ]
  },
  {
   "cell_type": "markdown",
   "metadata": {},
   "source": [
    "###Problem Set"
   ]
  },
  {
   "cell_type": "markdown",
   "metadata": {},
   "source": [
    "1) Using the Pythagorean Theorem code from above, modify the objective so that instead of calculating c from a and b, calculate b given a and c as input. For example, if I inputted a = 3 and c = 5, your code would tell me that b = 4."
   ]
  },
  {
   "cell_type": "code",
   "execution_count": null,
   "metadata": {
    "collapsed": true
   },
   "outputs": [],
   "source": [
    "import math\n",
    "a = int(input(\"Give me the first side length and press enter: \"))\n",
    "c = int(input(\"Give me the hypotenuse length and press enter: \"))\n",
    "print (\"Computing third side length...\")\n",
    "b = math.sqrt(c**2 - a**2)\n",
    "print (\"The length of the third side is: \", b)"
   ]
  },
  {
   "cell_type": "markdown",
   "metadata": {},
   "source": [
    "2) In the Pythagorean Theorem code above, we get values for x by using int(input(something)). Why is the outside int() needed? Would the code still work if we removed it? What would happen if we used float() instead?"
   ]
  },
  {
   "cell_type": "markdown",
   "metadata": {},
   "source": [
    "The outside int() converts whatever is inside the parentheses into an integer. In this case, we have input() inside the parentheses, which returns a string (remember, input() asks for user input and returns whatever the user typed as a string). The function int() takes in this string value and turns it into a number. When the program asks for user input, if I enter 3, the input() function gives us \"3\", a string. The int() function then takes the \"3\" returned by input() and turns it into 3, an integer. This process of converting from one datatype to another (like from string to integer) is called typecasting. If we use float() instead, the program would still work, and it would be able to take in user inputted numbers that have decimal places. This is because float() converts the string inputted by the user into a float, which is a number with decimal places. Numbers with decimal places can be squared, subtracted, and square rootted. "
   ]
  },
  {
   "cell_type": "markdown",
   "metadata": {},
   "source": [
    "3) In the Pythagorean Theorem code above, we use print (\"The hypotenuse is: \", h). Based on the output of the code, what do you think the ',' implicitly does in Python. Can you replace the ',' by something else (hint: a string operator) and have it still work as intended?"
   ]
  },
  {
   "cell_type": "code",
   "execution_count": null,
   "metadata": {
    "collapsed": true
   },
   "outputs": [],
   "source": []
  },
  {
   "cell_type": "markdown",
   "metadata": {},
   "source": [
    "4) Contrast the Python assignment operators to the equals sign in math. For example, if f(x) = x^2 was a math equation, its domain would be restricted to [0,1]. In contrast, if we wrote x = x^2 in Python, what would it do? Can you explain the fundamental difference in a few words?"
   ]
  },
  {
   "cell_type": "code",
   "execution_count": null,
   "metadata": {
    "collapsed": true
   },
   "outputs": [],
   "source": []
  },
  {
   "cell_type": "markdown",
   "metadata": {},
   "source": [
    "5) Experiment with using negative numbers for a and b in string splicing. What do negative numbers seem to connotate?"
   ]
  },
  {
   "cell_type": "code",
   "execution_count": null,
   "metadata": {
    "collapsed": true
   },
   "outputs": [],
   "source": []
  },
  {
   "cell_type": "markdown",
   "metadata": {},
   "source": [
    "###Advanced Problem Set"
   ]
  },
  {
   "cell_type": "markdown",
   "metadata": {},
   "source": [
    "1) Using the Pythagorean Theorem example above, what numbers, when inputted into the program, cause the code to stop working? What error does it give? Why does it give this error? Can you add something the code to deal with this issue and make the code more robust?"
   ]
  },
  {
   "cell_type": "code",
   "execution_count": null,
   "metadata": {
    "collapsed": true
   },
   "outputs": [],
   "source": []
  },
  {
   "cell_type": "markdown",
   "metadata": {},
   "source": [
    "2) How do you think the Python int() typecast works? Try writing your own int() function and restrict it to converting from integers to strings. For example, when I write int(\"255\") using your typecast function, your program should output 255. Hint: consider breaking the string up and using ASCII codes."
   ]
  },
  {
   "cell_type": "markdown",
   "metadata": {},
   "source": [
    "###Seconds to Time"
   ]
  },
  {
   "cell_type": "code",
   "execution_count": 1,
   "metadata": {},
   "outputs": [
    {
     "name": "stdout",
     "output_type": "stream",
     "text": [
      "493 minutes 30 seconds\n"
     ]
    }
   ],
   "source": [
    "seconds = 29610\n",
    "minutes = seconds // 60\n",
    "seconds = seconds - 60 * minutes\n",
    "print(str(minutes) + \" minutes \" + str(seconds) + \" seconds\")"
   ]
  },
  {
   "cell_type": "markdown",
   "metadata": {},
   "source": [
    "###Seconds to Time Advanced"
   ]
  },
  {
   "cell_type": "code",
   "execution_count": 28,
   "metadata": {},
   "outputs": [
    {
     "name": "stdout",
     "output_type": "stream",
     "text": [
      "8 hours 13 minutes 30 seconds\n",
      "8 hours 13 minutes 30 seconds\n"
     ]
    }
   ],
   "source": [
    "seconds = 29610\n",
    "hours = seconds // 3600\n",
    "minutes = (seconds - 3600 * hours) // 60\n",
    "seconds = seconds - 3600 * hours - 60 * minutes\n",
    "print(str(hours) + \" hours \" + str(minutes) + \" minutes \" + str(seconds) + \" seconds\")\n",
    "# or this way: print(\"{} hours {} minutes {} seconds\".format(hours, minutes, seconds))"
   ]
  },
  {
   "cell_type": "code",
   "execution_count": null,
   "metadata": {
    "collapsed": true
   },
   "outputs": [],
   "source": []
  }
 ],
 "metadata": {
  "kernelspec": {
   "display_name": "Python 3",
   "language": "python",
   "name": "python3"
  },
  "language_info": {
   "codemirror_mode": {
    "name": "ipython",
    "version": 3
   },
   "file_extension": ".py",
   "mimetype": "text/x-python",
   "name": "python",
   "nbconvert_exporter": "python",
   "pygments_lexer": "ipython3",
   "version": "3.6.1"
  }
 },
 "nbformat": 4,
 "nbformat_minor": 2
}
